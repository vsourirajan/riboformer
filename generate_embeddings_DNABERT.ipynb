{
 "cells": [
  {
   "cell_type": "code",
   "execution_count": 10,
   "metadata": {},
   "outputs": [
    {
     "name": "stderr",
     "output_type": "stream",
     "text": [
      "/Users/vaibhavsourirajan/.cache/huggingface/modules/transformers_modules/zhihan1996/DNABERT-2-117M/d064dece8a8b41d9fb8729fbe3435278786931f1/bert_layers.py:126: UserWarning: Unable to import Triton; defaulting MosaicBERT attention implementation to pytorch (this will reduce throughput when using this model).\n",
      "  warnings.warn(\n",
      "Some weights of BertModel were not initialized from the model checkpoint at zhihan1996/DNABERT-2-117M and are newly initialized: ['pooler.dense.bias', 'pooler.dense.weight']\n",
      "You should probably TRAIN this model on a down-stream task to be able to use it for predictions and inference.\n"
     ]
    }
   ],
   "source": [
    "from transformers.models.bert.configuration_bert import BertConfig\n",
    "from transformers import AutoTokenizer, AutoModel\n",
    "import torch\n",
    "\n",
    "tokenizer = AutoTokenizer.from_pretrained(\"zhihan1996/DNABERT-2-117M\", trust_remote_code=True)\n",
    "config = BertConfig.from_pretrained(\"zhihan1996/DNABERT-2-117M\")\n",
    "model = AutoModel.from_pretrained(\"zhihan1996/DNABERT-2-117M\", trust_remote_code=True, config=config)"
   ]
  },
  {
   "cell_type": "code",
   "execution_count": 11,
   "metadata": {},
   "outputs": [
    {
     "name": "stdout",
     "output_type": "stream",
     "text": [
      "torch.Size([768])\n",
      "torch.Size([768])\n"
     ]
    }
   ],
   "source": [
    "dna = \"ACGTAGCATCGGATCTATCTATCGACACTTGGTTATCGATCTACGAGCATCTCGTTAGC\"\n",
    "inputs = tokenizer(dna, return_tensors = 'pt')[\"input_ids\"]\n",
    "hidden_states = model(inputs)[0] # [1, sequence_length, 768]\n",
    "\n",
    "# embedding with mean pooling\n",
    "embedding_mean = torch.mean(hidden_states[0], dim=0)\n",
    "print(embedding_mean.shape) # expect to be 768\n",
    "\n",
    "# embedding with max pooling\n",
    "embedding_max = torch.max(hidden_states[0], dim=0)[0]\n",
    "print(embedding_max.shape) # expect to be 768\n"
   ]
  },
  {
   "cell_type": "code",
   "execution_count": 12,
   "metadata": {},
   "outputs": [
    {
     "data": {
      "text/html": [
       "<div>\n",
       "<style scoped>\n",
       "    .dataframe tbody tr th:only-of-type {\n",
       "        vertical-align: middle;\n",
       "    }\n",
       "\n",
       "    .dataframe tbody tr th {\n",
       "        vertical-align: top;\n",
       "    }\n",
       "\n",
       "    .dataframe thead th {\n",
       "        text-align: right;\n",
       "    }\n",
       "</style>\n",
       "<table border=\"1\" class=\"dataframe\">\n",
       "  <thead>\n",
       "    <tr style=\"text-align: right;\">\n",
       "      <th></th>\n",
       "      <th>SYMBOL</th>\n",
       "      <th>transcript_id</th>\n",
       "      <th>gene_id</th>\n",
       "      <th>tx_size</th>\n",
       "      <th>utr5_size</th>\n",
       "      <th>cds_size</th>\n",
       "      <th>utr3_size</th>\n",
       "      <th>tx_sequence</th>\n",
       "      <th>bio_source_108T</th>\n",
       "      <th>bio_source_12T</th>\n",
       "      <th>...</th>\n",
       "      <th>struct_max_stem_len_UTR5</th>\n",
       "      <th>struct_max_loop_len_UTR5</th>\n",
       "      <th>struct_min_dG_CDS</th>\n",
       "      <th>struct_n_hairpins_CDS</th>\n",
       "      <th>struct_n_bifurc_CDS</th>\n",
       "      <th>struct_n_bulges_CDS</th>\n",
       "      <th>struct_start_stem_CDS</th>\n",
       "      <th>struct_max_stem_len_CDS</th>\n",
       "      <th>struct_max_loop_len_CDS</th>\n",
       "      <th>fold</th>\n",
       "    </tr>\n",
       "  </thead>\n",
       "  <tbody>\n",
       "    <tr>\n",
       "      <th>0</th>\n",
       "      <td>SAMD11</td>\n",
       "      <td>ENST00000342066.8</td>\n",
       "      <td>ENSG00000187634.12</td>\n",
       "      <td>2557</td>\n",
       "      <td>90</td>\n",
       "      <td>2046</td>\n",
       "      <td>421</td>\n",
       "      <td>GCAGAGCCCAGCAGATCCCTGCGGCGTTCGCGAGGGTGGGACGGGA...</td>\n",
       "      <td>-3.644472</td>\n",
       "      <td>0.986720</td>\n",
       "      <td>...</td>\n",
       "      <td>10.0</td>\n",
       "      <td>5.0</td>\n",
       "      <td>-13.9</td>\n",
       "      <td>2.0</td>\n",
       "      <td>1.0</td>\n",
       "      <td>0.0</td>\n",
       "      <td>9.0</td>\n",
       "      <td>4.0</td>\n",
       "      <td>4.0</td>\n",
       "      <td>4</td>\n",
       "    </tr>\n",
       "    <tr>\n",
       "      <th>1</th>\n",
       "      <td>NOC2L</td>\n",
       "      <td>ENST00000327044.7</td>\n",
       "      <td>ENSG00000188976.11</td>\n",
       "      <td>2757</td>\n",
       "      <td>16</td>\n",
       "      <td>2250</td>\n",
       "      <td>491</td>\n",
       "      <td>GCTTCGGGTTGGTGTCATGGCAGCTGCGGGGAGCCGCAAGAGGCGC...</td>\n",
       "      <td>1.060190</td>\n",
       "      <td>0.701399</td>\n",
       "      <td>...</td>\n",
       "      <td>10.0</td>\n",
       "      <td>6.0</td>\n",
       "      <td>-24.5</td>\n",
       "      <td>1.0</td>\n",
       "      <td>0.0</td>\n",
       "      <td>0.0</td>\n",
       "      <td>21.0</td>\n",
       "      <td>10.0</td>\n",
       "      <td>6.0</td>\n",
       "      <td>8</td>\n",
       "    </tr>\n",
       "    <tr>\n",
       "      <th>2</th>\n",
       "      <td>KLHL17</td>\n",
       "      <td>ENST00000338591.8</td>\n",
       "      <td>ENSG00000187961.14</td>\n",
       "      <td>2567</td>\n",
       "      <td>110</td>\n",
       "      <td>1929</td>\n",
       "      <td>528</td>\n",
       "      <td>GGGAGTGAGCGACACAGAGCGGGCCGCCACCGCCGAGCAGCCCTCC...</td>\n",
       "      <td>-1.198005</td>\n",
       "      <td>-1.178952</td>\n",
       "      <td>...</td>\n",
       "      <td>10.0</td>\n",
       "      <td>4.0</td>\n",
       "      <td>-23.0</td>\n",
       "      <td>1.0</td>\n",
       "      <td>1.0</td>\n",
       "      <td>1.0</td>\n",
       "      <td>3.0</td>\n",
       "      <td>9.0</td>\n",
       "      <td>5.0</td>\n",
       "      <td>9</td>\n",
       "    </tr>\n",
       "    <tr>\n",
       "      <th>3</th>\n",
       "      <td>HES4</td>\n",
       "      <td>ENST00000304952.11</td>\n",
       "      <td>ENSG00000188290.11</td>\n",
       "      <td>885</td>\n",
       "      <td>124</td>\n",
       "      <td>666</td>\n",
       "      <td>95</td>\n",
       "      <td>GCGGGCCTGGAGCCGGGATCCGCCCTAGGGGCTCGGATCGCCGCGC...</td>\n",
       "      <td>-1.107400</td>\n",
       "      <td>0.158079</td>\n",
       "      <td>...</td>\n",
       "      <td>16.0</td>\n",
       "      <td>3.0</td>\n",
       "      <td>-24.8</td>\n",
       "      <td>1.0</td>\n",
       "      <td>0.0</td>\n",
       "      <td>0.0</td>\n",
       "      <td>3.0</td>\n",
       "      <td>11.0</td>\n",
       "      <td>3.0</td>\n",
       "      <td>7</td>\n",
       "    </tr>\n",
       "    <tr>\n",
       "      <th>4</th>\n",
       "      <td>ISG15</td>\n",
       "      <td>ENST00000649529.1</td>\n",
       "      <td>ENSG00000187608.10</td>\n",
       "      <td>637</td>\n",
       "      <td>77</td>\n",
       "      <td>498</td>\n",
       "      <td>62</td>\n",
       "      <td>GGCGGCTGAGAGGCAGCGAACTCATCTTTGCCAGTACAGGAGCTTG...</td>\n",
       "      <td>0.631561</td>\n",
       "      <td>2.013887</td>\n",
       "      <td>...</td>\n",
       "      <td>8.0</td>\n",
       "      <td>5.0</td>\n",
       "      <td>-28.6</td>\n",
       "      <td>1.0</td>\n",
       "      <td>0.0</td>\n",
       "      <td>2.0</td>\n",
       "      <td>2.0</td>\n",
       "      <td>13.0</td>\n",
       "      <td>5.0</td>\n",
       "      <td>2</td>\n",
       "    </tr>\n",
       "  </tbody>\n",
       "</table>\n",
       "<p>5 rows × 102 columns</p>\n",
       "</div>"
      ],
      "text/plain": [
       "   SYMBOL       transcript_id             gene_id  tx_size  utr5_size  \\\n",
       "0  SAMD11   ENST00000342066.8  ENSG00000187634.12     2557         90   \n",
       "1   NOC2L   ENST00000327044.7  ENSG00000188976.11     2757         16   \n",
       "2  KLHL17   ENST00000338591.8  ENSG00000187961.14     2567        110   \n",
       "3    HES4  ENST00000304952.11  ENSG00000188290.11      885        124   \n",
       "4   ISG15   ENST00000649529.1  ENSG00000187608.10      637         77   \n",
       "\n",
       "   cds_size  utr3_size                                        tx_sequence  \\\n",
       "0      2046        421  GCAGAGCCCAGCAGATCCCTGCGGCGTTCGCGAGGGTGGGACGGGA...   \n",
       "1      2250        491  GCTTCGGGTTGGTGTCATGGCAGCTGCGGGGAGCCGCAAGAGGCGC...   \n",
       "2      1929        528  GGGAGTGAGCGACACAGAGCGGGCCGCCACCGCCGAGCAGCCCTCC...   \n",
       "3       666         95  GCGGGCCTGGAGCCGGGATCCGCCCTAGGGGCTCGGATCGCCGCGC...   \n",
       "4       498         62  GGCGGCTGAGAGGCAGCGAACTCATCTTTGCCAGTACAGGAGCTTG...   \n",
       "\n",
       "   bio_source_108T  bio_source_12T  ...  struct_max_stem_len_UTR5  \\\n",
       "0        -3.644472        0.986720  ...                      10.0   \n",
       "1         1.060190        0.701399  ...                      10.0   \n",
       "2        -1.198005       -1.178952  ...                      10.0   \n",
       "3        -1.107400        0.158079  ...                      16.0   \n",
       "4         0.631561        2.013887  ...                       8.0   \n",
       "\n",
       "   struct_max_loop_len_UTR5  struct_min_dG_CDS  struct_n_hairpins_CDS  \\\n",
       "0                       5.0              -13.9                    2.0   \n",
       "1                       6.0              -24.5                    1.0   \n",
       "2                       4.0              -23.0                    1.0   \n",
       "3                       3.0              -24.8                    1.0   \n",
       "4                       5.0              -28.6                    1.0   \n",
       "\n",
       "   struct_n_bifurc_CDS  struct_n_bulges_CDS  struct_start_stem_CDS  \\\n",
       "0                  1.0                  0.0                    9.0   \n",
       "1                  0.0                  0.0                   21.0   \n",
       "2                  1.0                  1.0                    3.0   \n",
       "3                  0.0                  0.0                    3.0   \n",
       "4                  0.0                  2.0                    2.0   \n",
       "\n",
       "   struct_max_stem_len_CDS  struct_max_loop_len_CDS  fold  \n",
       "0                      4.0                      4.0     4  \n",
       "1                     10.0                      6.0     8  \n",
       "2                      9.0                      5.0     9  \n",
       "3                     11.0                      3.0     7  \n",
       "4                     13.0                      5.0     2  \n",
       "\n",
       "[5 rows x 102 columns]"
      ]
     },
     "execution_count": 12,
     "metadata": {},
     "output_type": "execute_result"
    }
   ],
   "source": [
    "import pandas as pd\n",
    "\n",
    "data_path = \"./data/data_with_human_TE_cellline_all_plain.csv\"\n",
    "df = pd.read_csv(data_path, delimiter=\"\\t\")\n",
    "df.head()"
   ]
  },
  {
   "cell_type": "code",
   "execution_count": 13,
   "metadata": {},
   "outputs": [
    {
     "name": "stdout",
     "output_type": "stream",
     "text": [
      "Number of columns:  102\n",
      "Number of rows:  11153\n",
      "Number of rows that have NA:  354\n",
      "Number of unique human cell lines: 78\n"
     ]
    }
   ],
   "source": [
    "#number of unique cell lines -- number of columns that have \"bio_source\" in the name\n",
    "\n",
    "print(\"Number of columns: \", len(df.columns))\n",
    "print(\"Number of rows: \", len(df))\n",
    "\n",
    "na_rows = df[df.isna().any(axis=1)]\n",
    "print(\"Number of rows that have NA: \", len(na_rows))\n",
    "\n",
    "bio_source_cols = [col for col in df.columns if 'bio_source' in col]\n",
    "print(f\"Number of unique human cell lines: {len(bio_source_cols)}\")"
   ]
  },
  {
   "cell_type": "code",
   "execution_count": 14,
   "metadata": {},
   "outputs": [
    {
     "name": "stdout",
     "output_type": "stream",
     "text": [
      "Number of rows that have NA:  0\n",
      "Number of rows:  10799\n"
     ]
    },
    {
     "data": {
      "text/html": [
       "<div>\n",
       "<style scoped>\n",
       "    .dataframe tbody tr th:only-of-type {\n",
       "        vertical-align: middle;\n",
       "    }\n",
       "\n",
       "    .dataframe tbody tr th {\n",
       "        vertical-align: top;\n",
       "    }\n",
       "\n",
       "    .dataframe thead th {\n",
       "        text-align: right;\n",
       "    }\n",
       "</style>\n",
       "<table border=\"1\" class=\"dataframe\">\n",
       "  <thead>\n",
       "    <tr style=\"text-align: right;\">\n",
       "      <th></th>\n",
       "      <th>SYMBOL</th>\n",
       "      <th>transcript_id</th>\n",
       "      <th>gene_id</th>\n",
       "      <th>tx_size</th>\n",
       "      <th>utr5_size</th>\n",
       "      <th>cds_size</th>\n",
       "      <th>utr3_size</th>\n",
       "      <th>tx_sequence</th>\n",
       "      <th>bio_source_108T</th>\n",
       "      <th>bio_source_12T</th>\n",
       "      <th>...</th>\n",
       "      <th>struct_max_stem_len_UTR5</th>\n",
       "      <th>struct_max_loop_len_UTR5</th>\n",
       "      <th>struct_min_dG_CDS</th>\n",
       "      <th>struct_n_hairpins_CDS</th>\n",
       "      <th>struct_n_bifurc_CDS</th>\n",
       "      <th>struct_n_bulges_CDS</th>\n",
       "      <th>struct_start_stem_CDS</th>\n",
       "      <th>struct_max_stem_len_CDS</th>\n",
       "      <th>struct_max_loop_len_CDS</th>\n",
       "      <th>fold</th>\n",
       "    </tr>\n",
       "  </thead>\n",
       "  <tbody>\n",
       "    <tr>\n",
       "      <th>0</th>\n",
       "      <td>SAMD11</td>\n",
       "      <td>ENST00000342066.8</td>\n",
       "      <td>ENSG00000187634.12</td>\n",
       "      <td>2557</td>\n",
       "      <td>90</td>\n",
       "      <td>2046</td>\n",
       "      <td>421</td>\n",
       "      <td>GCAGAGCCCAGCAGATCCCTGCGGCGTTCGCGAGGGTGGGACGGGA...</td>\n",
       "      <td>-3.644472</td>\n",
       "      <td>0.986720</td>\n",
       "      <td>...</td>\n",
       "      <td>10.0</td>\n",
       "      <td>5.0</td>\n",
       "      <td>-13.9</td>\n",
       "      <td>2.0</td>\n",
       "      <td>1.0</td>\n",
       "      <td>0.0</td>\n",
       "      <td>9.0</td>\n",
       "      <td>4.0</td>\n",
       "      <td>4.0</td>\n",
       "      <td>4</td>\n",
       "    </tr>\n",
       "    <tr>\n",
       "      <th>1</th>\n",
       "      <td>NOC2L</td>\n",
       "      <td>ENST00000327044.7</td>\n",
       "      <td>ENSG00000188976.11</td>\n",
       "      <td>2757</td>\n",
       "      <td>16</td>\n",
       "      <td>2250</td>\n",
       "      <td>491</td>\n",
       "      <td>GCTTCGGGTTGGTGTCATGGCAGCTGCGGGGAGCCGCAAGAGGCGC...</td>\n",
       "      <td>1.060190</td>\n",
       "      <td>0.701399</td>\n",
       "      <td>...</td>\n",
       "      <td>10.0</td>\n",
       "      <td>6.0</td>\n",
       "      <td>-24.5</td>\n",
       "      <td>1.0</td>\n",
       "      <td>0.0</td>\n",
       "      <td>0.0</td>\n",
       "      <td>21.0</td>\n",
       "      <td>10.0</td>\n",
       "      <td>6.0</td>\n",
       "      <td>8</td>\n",
       "    </tr>\n",
       "    <tr>\n",
       "      <th>2</th>\n",
       "      <td>KLHL17</td>\n",
       "      <td>ENST00000338591.8</td>\n",
       "      <td>ENSG00000187961.14</td>\n",
       "      <td>2567</td>\n",
       "      <td>110</td>\n",
       "      <td>1929</td>\n",
       "      <td>528</td>\n",
       "      <td>GGGAGTGAGCGACACAGAGCGGGCCGCCACCGCCGAGCAGCCCTCC...</td>\n",
       "      <td>-1.198005</td>\n",
       "      <td>-1.178952</td>\n",
       "      <td>...</td>\n",
       "      <td>10.0</td>\n",
       "      <td>4.0</td>\n",
       "      <td>-23.0</td>\n",
       "      <td>1.0</td>\n",
       "      <td>1.0</td>\n",
       "      <td>1.0</td>\n",
       "      <td>3.0</td>\n",
       "      <td>9.0</td>\n",
       "      <td>5.0</td>\n",
       "      <td>9</td>\n",
       "    </tr>\n",
       "    <tr>\n",
       "      <th>3</th>\n",
       "      <td>HES4</td>\n",
       "      <td>ENST00000304952.11</td>\n",
       "      <td>ENSG00000188290.11</td>\n",
       "      <td>885</td>\n",
       "      <td>124</td>\n",
       "      <td>666</td>\n",
       "      <td>95</td>\n",
       "      <td>GCGGGCCTGGAGCCGGGATCCGCCCTAGGGGCTCGGATCGCCGCGC...</td>\n",
       "      <td>-1.107400</td>\n",
       "      <td>0.158079</td>\n",
       "      <td>...</td>\n",
       "      <td>16.0</td>\n",
       "      <td>3.0</td>\n",
       "      <td>-24.8</td>\n",
       "      <td>1.0</td>\n",
       "      <td>0.0</td>\n",
       "      <td>0.0</td>\n",
       "      <td>3.0</td>\n",
       "      <td>11.0</td>\n",
       "      <td>3.0</td>\n",
       "      <td>7</td>\n",
       "    </tr>\n",
       "    <tr>\n",
       "      <th>4</th>\n",
       "      <td>ISG15</td>\n",
       "      <td>ENST00000649529.1</td>\n",
       "      <td>ENSG00000187608.10</td>\n",
       "      <td>637</td>\n",
       "      <td>77</td>\n",
       "      <td>498</td>\n",
       "      <td>62</td>\n",
       "      <td>GGCGGCTGAGAGGCAGCGAACTCATCTTTGCCAGTACAGGAGCTTG...</td>\n",
       "      <td>0.631561</td>\n",
       "      <td>2.013887</td>\n",
       "      <td>...</td>\n",
       "      <td>8.0</td>\n",
       "      <td>5.0</td>\n",
       "      <td>-28.6</td>\n",
       "      <td>1.0</td>\n",
       "      <td>0.0</td>\n",
       "      <td>2.0</td>\n",
       "      <td>2.0</td>\n",
       "      <td>13.0</td>\n",
       "      <td>5.0</td>\n",
       "      <td>2</td>\n",
       "    </tr>\n",
       "  </tbody>\n",
       "</table>\n",
       "<p>5 rows × 102 columns</p>\n",
       "</div>"
      ],
      "text/plain": [
       "   SYMBOL       transcript_id             gene_id  tx_size  utr5_size  \\\n",
       "0  SAMD11   ENST00000342066.8  ENSG00000187634.12     2557         90   \n",
       "1   NOC2L   ENST00000327044.7  ENSG00000188976.11     2757         16   \n",
       "2  KLHL17   ENST00000338591.8  ENSG00000187961.14     2567        110   \n",
       "3    HES4  ENST00000304952.11  ENSG00000188290.11      885        124   \n",
       "4   ISG15   ENST00000649529.1  ENSG00000187608.10      637         77   \n",
       "\n",
       "   cds_size  utr3_size                                        tx_sequence  \\\n",
       "0      2046        421  GCAGAGCCCAGCAGATCCCTGCGGCGTTCGCGAGGGTGGGACGGGA...   \n",
       "1      2250        491  GCTTCGGGTTGGTGTCATGGCAGCTGCGGGGAGCCGCAAGAGGCGC...   \n",
       "2      1929        528  GGGAGTGAGCGACACAGAGCGGGCCGCCACCGCCGAGCAGCCCTCC...   \n",
       "3       666         95  GCGGGCCTGGAGCCGGGATCCGCCCTAGGGGCTCGGATCGCCGCGC...   \n",
       "4       498         62  GGCGGCTGAGAGGCAGCGAACTCATCTTTGCCAGTACAGGAGCTTG...   \n",
       "\n",
       "   bio_source_108T  bio_source_12T  ...  struct_max_stem_len_UTR5  \\\n",
       "0        -3.644472        0.986720  ...                      10.0   \n",
       "1         1.060190        0.701399  ...                      10.0   \n",
       "2        -1.198005       -1.178952  ...                      10.0   \n",
       "3        -1.107400        0.158079  ...                      16.0   \n",
       "4         0.631561        2.013887  ...                       8.0   \n",
       "\n",
       "   struct_max_loop_len_UTR5  struct_min_dG_CDS  struct_n_hairpins_CDS  \\\n",
       "0                       5.0              -13.9                    2.0   \n",
       "1                       6.0              -24.5                    1.0   \n",
       "2                       4.0              -23.0                    1.0   \n",
       "3                       3.0              -24.8                    1.0   \n",
       "4                       5.0              -28.6                    1.0   \n",
       "\n",
       "   struct_n_bifurc_CDS  struct_n_bulges_CDS  struct_start_stem_CDS  \\\n",
       "0                  1.0                  0.0                    9.0   \n",
       "1                  0.0                  0.0                   21.0   \n",
       "2                  1.0                  1.0                    3.0   \n",
       "3                  0.0                  0.0                    3.0   \n",
       "4                  0.0                  2.0                    2.0   \n",
       "\n",
       "   struct_max_stem_len_CDS  struct_max_loop_len_CDS  fold  \n",
       "0                      4.0                      4.0     4  \n",
       "1                     10.0                      6.0     8  \n",
       "2                      9.0                      5.0     9  \n",
       "3                     11.0                      3.0     7  \n",
       "4                     13.0                      5.0     2  \n",
       "\n",
       "[5 rows x 102 columns]"
      ]
     },
     "execution_count": 14,
     "metadata": {},
     "output_type": "execute_result"
    }
   ],
   "source": [
    "#drop the rows that have null values\n",
    "df = df.dropna()\n",
    "na_rows = df[df.isna().any(axis=1)]\n",
    "print(\"Number of rows that have NA: \", len(na_rows))\n",
    "print(\"Number of rows: \", len(df))\n",
    "df_filtered = df[df['tx_sequence'].apply(len).between(500, 1500)].reset_index(drop=True)\n",
    "df.head()"
   ]
  },
  {
   "cell_type": "code",
   "execution_count": 15,
   "metadata": {},
   "outputs": [
    {
     "name": "stderr",
     "output_type": "stream",
     "text": [
      "Generating embeddings:   0%|          | 1/1267 [00:00<05:19,  3.97it/s]"
     ]
    },
    {
     "name": "stdout",
     "output_type": "stream",
     "text": [
      "Transcript generated forENST00000304952.11\n",
      "Transcript generated forENST00000649529.1\n"
     ]
    },
    {
     "name": "stderr",
     "output_type": "stream",
     "text": [
      "Generating embeddings:   0%|          | 4/1267 [00:00<02:48,  7.51it/s]"
     ]
    },
    {
     "name": "stdout",
     "output_type": "stream",
     "text": [
      "Transcript generated forENST00000379031.10\n",
      "Transcript generated forENST00000338370.7\n",
      "Transcript generated forENST00000344843.12\n"
     ]
    },
    {
     "name": "stderr",
     "output_type": "stream",
     "text": [
      "Generating embeddings:   1%|          | 7/1267 [00:00<02:45,  7.62it/s]"
     ]
    },
    {
     "name": "stdout",
     "output_type": "stream",
     "text": [
      "Transcript generated forENST00000291386.4\n",
      "Transcript generated forENST00000378546.9\n"
     ]
    },
    {
     "name": "stderr",
     "output_type": "stream",
     "text": [
      "Generating embeddings:   1%|          | 9/1267 [00:01<02:42,  7.73it/s]"
     ]
    },
    {
     "name": "stdout",
     "output_type": "stream",
     "text": [
      "Transcript generated forENST00000054650.8\n",
      "Transcript generated forENST00000338639.10\n"
     ]
    },
    {
     "name": "stderr",
     "output_type": "stream",
     "text": [
      "Generating embeddings:   1%|          | 11/1267 [00:01<02:34,  8.13it/s]"
     ]
    },
    {
     "name": "stdout",
     "output_type": "stream",
     "text": [
      "Transcript generated forENST00000309048.8\n",
      "Transcript generated forENST00000376957.7\n"
     ]
    },
    {
     "name": "stderr",
     "output_type": "stream",
     "text": [
      "Generating embeddings:   1%|          | 13/1267 [00:01<02:36,  8.03it/s]"
     ]
    },
    {
     "name": "stdout",
     "output_type": "stream",
     "text": [
      "Transcript generated forENST00000354287.5\n",
      "Transcript generated forENST00000376753.9\n"
     ]
    },
    {
     "name": "stderr",
     "output_type": "stream",
     "text": [
      "Generating embeddings:   1%|          | 15/1267 [00:01<02:23,  8.70it/s]"
     ]
    },
    {
     "name": "stdout",
     "output_type": "stream",
     "text": [
      "Transcript generated forENST00000314340.10\n",
      "Transcript generated forENST00000375535.4\n",
      "Transcript generated forENST00000375499.8\n"
     ]
    },
    {
     "name": "stderr",
     "output_type": "stream",
     "text": [
      "Generating embeddings:   1%|▏         | 19/1267 [00:02<02:09,  9.62it/s]"
     ]
    },
    {
     "name": "stdout",
     "output_type": "stream",
     "text": [
      "Transcript generated forENST00000235835.7\n",
      "Transcript generated forENST00000375071.4\n",
      "Transcript generated forENST00000374561.6\n"
     ]
    },
    {
     "name": "stderr",
     "output_type": "stream",
     "text": [
      "Generating embeddings:   2%|▏         | 21/1267 [00:02<02:13,  9.31it/s]"
     ]
    },
    {
     "name": "stdout",
     "output_type": "stream",
     "text": [
      "Transcript generated forENST00000374550.8\n",
      "Transcript generated forENST00000243189.12\n"
     ]
    },
    {
     "name": "stderr",
     "output_type": "stream",
     "text": [
      "Generating embeddings:   2%|▏         | 24/1267 [00:02<02:10,  9.53it/s]"
     ]
    },
    {
     "name": "stdout",
     "output_type": "stream",
     "text": [
      "Transcript generated forENST00000538789.5\n",
      "Transcript generated forENST00000374266.7\n",
      "Transcript generated forENST00000270792.10\n"
     ]
    },
    {
     "name": "stderr",
     "output_type": "stream",
     "text": [
      "Generating embeddings:   2%|▏         | 27/1267 [00:03<02:07,  9.75it/s]"
     ]
    },
    {
     "name": "stdout",
     "output_type": "stream",
     "text": [
      "Transcript generated forENST00000339276.6\n",
      "Transcript generated forENST00000362020.4\n",
      "Transcript generated forENST00000335514.10\n"
     ]
    },
    {
     "name": "stderr",
     "output_type": "stream",
     "text": [
      "Generating embeddings:   2%|▏         | 29/1267 [00:03<02:17,  9.00it/s]"
     ]
    },
    {
     "name": "stdout",
     "output_type": "stream",
     "text": [
      "Transcript generated forENST00000263974.4\n",
      "Transcript generated forENST00000373713.7\n"
     ]
    },
    {
     "name": "stderr",
     "output_type": "stream",
     "text": [
      "Generating embeddings:   2%|▏         | 31/1267 [00:03<02:29,  8.26it/s]"
     ]
    },
    {
     "name": "stdout",
     "output_type": "stream",
     "text": [
      "Transcript generated forENST00000373602.9\n",
      "Transcript generated forENST00000309777.10\n"
     ]
    },
    {
     "name": "stderr",
     "output_type": "stream",
     "text": [
      "Generating embeddings:   3%|▎         | 33/1267 [00:04<02:58,  6.92it/s]"
     ]
    },
    {
     "name": "stdout",
     "output_type": "stream",
     "text": [
      "Transcript generated forENST00000373586.1\n",
      "Transcript generated forENST00000373463.8\n"
     ]
    },
    {
     "name": "stderr",
     "output_type": "stream",
     "text": [
      "Generating embeddings:   3%|▎         | 34/1267 [00:04<02:52,  7.15it/s]"
     ]
    },
    {
     "name": "stdout",
     "output_type": "stream",
     "text": [
      "Transcript generated forENST00000373166.8\n",
      "Transcript generated forENST00000315732.3\n"
     ]
    },
    {
     "name": "stderr",
     "output_type": "stream",
     "text": [
      "Generating embeddings:   3%|▎         | 36/1267 [00:04<02:41,  7.64it/s]"
     ]
    },
    {
     "name": "stdout",
     "output_type": "stream",
     "text": [
      "Transcript generated forENST00000235532.9\n",
      "Transcript generated forENST00000373116.6\n"
     ]
    },
    {
     "name": "stderr",
     "output_type": "stream",
     "text": [
      "Generating embeddings:   3%|▎         | 40/1267 [00:04<02:27,  8.30it/s]"
     ]
    },
    {
     "name": "stdout",
     "output_type": "stream",
     "text": [
      "Transcript generated forENST00000373042.5\n",
      "Transcript generated forENST00000372967.3\n",
      "Transcript generated forENST00000372638.4\n"
     ]
    },
    {
     "name": "stderr",
     "output_type": "stream",
     "text": [
      "Generating embeddings:   3%|▎         | 42/1267 [00:05<02:09,  9.47it/s]"
     ]
    },
    {
     "name": "stdout",
     "output_type": "stream",
     "text": [
      "Transcript generated forENST00000304979.8\n",
      "Transcript generated forENST00000372521.9\n",
      "Transcript generated forENST00000372425.8\n"
     ]
    },
    {
     "name": "stderr",
     "output_type": "stream",
     "text": [
      "Generating embeddings:   4%|▎         | 45/1267 [00:05<02:23,  8.52it/s]"
     ]
    },
    {
     "name": "stdout",
     "output_type": "stream",
     "text": [
      "Transcript generated forENST00000472174.7\n",
      "Transcript generated forENST00000372318.8\n"
     ]
    },
    {
     "name": "stderr",
     "output_type": "stream",
     "text": [
      "Generating embeddings:   4%|▎         | 47/1267 [00:05<02:09,  9.38it/s]"
     ]
    },
    {
     "name": "stdout",
     "output_type": "stream",
     "text": [
      "Transcript generated forENST00000396651.8\n",
      "Transcript generated forENST00000246337.9\n"
     ]
    },
    {
     "name": "stderr",
     "output_type": "stream",
     "text": [
      "Generating embeddings:   4%|▍         | 49/1267 [00:05<02:15,  8.99it/s]"
     ]
    },
    {
     "name": "stdout",
     "output_type": "stream",
     "text": [
      "Transcript generated forENST00000262746.5\n",
      "Transcript generated forENST00000372025.5\n",
      "Transcript generated forENST00000311672.10\n"
     ]
    },
    {
     "name": "stderr",
     "output_type": "stream",
     "text": [
      "Generating embeddings:   4%|▍         | 51/1267 [00:06<02:06,  9.58it/s]"
     ]
    },
    {
     "name": "stdout",
     "output_type": "stream",
     "text": [
      "Transcript generated forENST00000361314.5\n"
     ]
    },
    {
     "name": "stderr",
     "output_type": "stream",
     "text": [
      "Generating embeddings:   4%|▍         | 54/1267 [00:06<02:50,  7.10it/s]"
     ]
    },
    {
     "name": "stdout",
     "output_type": "stream",
     "text": [
      "Transcript generated forENST00000294360.5\n",
      "Transcript generated forENST00000371470.8\n",
      "Transcript generated forENST00000194214.9\n"
     ]
    },
    {
     "name": "stderr",
     "output_type": "stream",
     "text": [
      "Generating embeddings:   4%|▍         | 56/1267 [00:06<03:01,  6.67it/s]"
     ]
    },
    {
     "name": "stdout",
     "output_type": "stream",
     "text": [
      "Transcript generated forENST00000360840.9\n",
      "Transcript generated forENST00000294613.9\n"
     ]
    },
    {
     "name": "stderr",
     "output_type": "stream",
     "text": [
      "Generating embeddings:   5%|▍         | 58/1267 [00:07<03:16,  6.16it/s]"
     ]
    },
    {
     "name": "stdout",
     "output_type": "stream",
     "text": [
      "Transcript generated forENST00000271002.14\n",
      "Transcript generated forENST00000370986.9\n"
     ]
    },
    {
     "name": "stderr",
     "output_type": "stream",
     "text": [
      "Generating embeddings:   5%|▍         | 60/1267 [00:07<03:02,  6.60it/s]"
     ]
    },
    {
     "name": "stdout",
     "output_type": "stream",
     "text": [
      "Transcript generated forENST00000370940.6\n",
      "Transcript generated forENST00000319942.8\n"
     ]
    },
    {
     "name": "stderr",
     "output_type": "stream",
     "text": [
      "Generating embeddings:   5%|▍         | 62/1267 [00:07<02:41,  7.44it/s]"
     ]
    },
    {
     "name": "stdout",
     "output_type": "stream",
     "text": [
      "Transcript generated forENST00000370641.3\n",
      "Transcript generated forENST00000370383.5\n"
     ]
    },
    {
     "name": "stderr",
     "output_type": "stream",
     "text": [
      "Generating embeddings:   5%|▌         | 64/1267 [00:08<02:36,  7.66it/s]"
     ]
    },
    {
     "name": "stdout",
     "output_type": "stream",
     "text": [
      "Transcript generated forENST00000370321.8\n",
      "Transcript generated forENST00000370202.5\n"
     ]
    },
    {
     "name": "stderr",
     "output_type": "stream",
     "text": [
      "Generating embeddings:   5%|▌         | 65/1267 [00:08<03:43,  5.38it/s]"
     ]
    },
    {
     "name": "stdout",
     "output_type": "stream",
     "text": [
      "Transcript generated forENST00000338366.6\n"
     ]
    },
    {
     "name": "stderr",
     "output_type": "stream",
     "text": [
      "Generating embeddings:   5%|▌         | 67/1267 [00:08<04:28,  4.46it/s]"
     ]
    },
    {
     "name": "stdout",
     "output_type": "stream",
     "text": [
      "Transcript generated forENST00000241337.9\n",
      "Transcript generated forENST00000309851.10\n"
     ]
    },
    {
     "name": "stderr",
     "output_type": "stream",
     "text": [
      "Generating embeddings:   5%|▌         | 69/1267 [00:09<04:08,  4.81it/s]"
     ]
    },
    {
     "name": "stdout",
     "output_type": "stream",
     "text": [
      "Transcript generated forENST00000602318.5\n",
      "Transcript generated forENST00000369541.4\n"
     ]
    },
    {
     "name": "stderr",
     "output_type": "stream",
     "text": [
      "Generating embeddings:   6%|▌         | 70/1267 [00:09<04:02,  4.94it/s]"
     ]
    },
    {
     "name": "stdout",
     "output_type": "stream",
     "text": [
      "Transcript generated forENST00000369489.10\n"
     ]
    },
    {
     "name": "stderr",
     "output_type": "stream",
     "text": [
      "Generating embeddings:   6%|▌         | 72/1267 [00:09<03:51,  5.16it/s]"
     ]
    },
    {
     "name": "stdout",
     "output_type": "stream",
     "text": [
      "Transcript generated forENST00000334513.6\n",
      "Transcript generated forENST00000369314.2\n"
     ]
    },
    {
     "name": "stderr",
     "output_type": "stream",
     "text": [
      "Generating embeddings:   6%|▌         | 74/1267 [00:10<03:23,  5.86it/s]"
     ]
    },
    {
     "name": "stdout",
     "output_type": "stream",
     "text": [
      "Transcript generated forENST00000369153.2\n",
      "Transcript generated forENST00000369102.5\n"
     ]
    },
    {
     "name": "stderr",
     "output_type": "stream",
     "text": [
      "Generating embeddings:   6%|▌         | 76/1267 [00:10<03:55,  5.06it/s]"
     ]
    },
    {
     "name": "stdout",
     "output_type": "stream",
     "text": [
      "Transcript generated forENST00000581066.2\n",
      "Transcript generated forENST00000368884.8\n"
     ]
    },
    {
     "name": "stderr",
     "output_type": "stream",
     "text": [
      "Generating embeddings:   6%|▌         | 78/1267 [00:11<03:43,  5.32it/s]"
     ]
    },
    {
     "name": "stdout",
     "output_type": "stream",
     "text": [
      "Transcript generated forENST00000290541.7\n",
      "Transcript generated forENST00000368830.8\n"
     ]
    },
    {
     "name": "stderr",
     "output_type": "stream",
     "text": [
      "Generating embeddings:   6%|▋         | 80/1267 [00:11<03:22,  5.87it/s]"
     ]
    },
    {
     "name": "stdout",
     "output_type": "stream",
     "text": [
      "Transcript generated forENST00000368811.8\n",
      "Transcript generated forENST00000271638.3\n"
     ]
    },
    {
     "name": "stderr",
     "output_type": "stream",
     "text": [
      "Generating embeddings:   6%|▋         | 82/1267 [00:11<02:54,  6.78it/s]"
     ]
    },
    {
     "name": "stdout",
     "output_type": "stream",
     "text": [
      "Transcript generated forENST00000368720.6\n",
      "Transcript generated forENST00000368715.5\n"
     ]
    },
    {
     "name": "stderr",
     "output_type": "stream",
     "text": [
      "Generating embeddings:   7%|▋         | 83/1267 [00:11<02:41,  7.32it/s]"
     ]
    },
    {
     "name": "stdout",
     "output_type": "stream",
     "text": [
      "Transcript generated forENST00000368713.8\n"
     ]
    },
    {
     "name": "stderr",
     "output_type": "stream",
     "text": [
      "Generating embeddings:   7%|▋         | 85/1267 [00:12<03:09,  6.24it/s]"
     ]
    },
    {
     "name": "stdout",
     "output_type": "stream",
     "text": [
      "Transcript generated forENST00000368708.9\n",
      "Transcript generated forENST00000368706.9\n"
     ]
    },
    {
     "name": "stderr",
     "output_type": "stream",
     "text": [
      "Generating embeddings:   7%|▋         | 87/1267 [00:12<03:07,  6.28it/s]"
     ]
    },
    {
     "name": "stdout",
     "output_type": "stream",
     "text": [
      "Transcript generated forENST00000440685.6\n",
      "Transcript generated forENST00000368685.6\n"
     ]
    },
    {
     "name": "stderr",
     "output_type": "stream",
     "text": [
      "Generating embeddings:   7%|▋         | 89/1267 [00:12<03:02,  6.45it/s]"
     ]
    },
    {
     "name": "stdout",
     "output_type": "stream",
     "text": [
      "Transcript generated forENST00000271843.9\n",
      "Transcript generated forENST00000328703.12\n"
     ]
    },
    {
     "name": "stderr",
     "output_type": "stream",
     "text": [
      "Generating embeddings:   7%|▋         | 91/1267 [00:12<02:40,  7.31it/s]"
     ]
    },
    {
     "name": "stdout",
     "output_type": "stream",
     "text": [
      "Transcript generated forENST00000368467.4\n",
      "Transcript generated forENST00000308987.6\n"
     ]
    },
    {
     "name": "stderr",
     "output_type": "stream",
     "text": [
      "Generating embeddings:   7%|▋         | 93/1267 [00:13<02:56,  6.65it/s]"
     ]
    },
    {
     "name": "stdout",
     "output_type": "stream",
     "text": [
      "Transcript generated forENST00000368409.8\n",
      "Transcript generated forENST00000368404.9\n"
     ]
    },
    {
     "name": "stderr",
     "output_type": "stream",
     "text": [
      "Generating embeddings:   7%|▋         | 95/1267 [00:13<02:50,  6.88it/s]"
     ]
    },
    {
     "name": "stdout",
     "output_type": "stream",
     "text": [
      "Transcript generated forENST00000295682.5\n",
      "Transcript generated forENST00000337604.6\n"
     ]
    },
    {
     "name": "stderr",
     "output_type": "stream",
     "text": [
      "Generating embeddings:   8%|▊         | 97/1267 [00:13<03:05,  6.30it/s]"
     ]
    },
    {
     "name": "stdout",
     "output_type": "stream",
     "text": [
      "Transcript generated forENST00000609421.1\n",
      "Transcript generated forENST00000447866.5\n"
     ]
    },
    {
     "name": "stderr",
     "output_type": "stream",
     "text": [
      "Generating embeddings:   8%|▊         | 99/1267 [00:14<03:05,  6.28it/s]"
     ]
    },
    {
     "name": "stdout",
     "output_type": "stream",
     "text": [
      "Transcript generated forENST00000295702.9\n",
      "Transcript generated forENST00000368305.9\n"
     ]
    },
    {
     "name": "stderr",
     "output_type": "stream",
     "text": [
      "Generating embeddings:   8%|▊         | 101/1267 [00:14<02:52,  6.75it/s]"
     ]
    },
    {
     "name": "stdout",
     "output_type": "stream",
     "text": [
      "Transcript generated forENST00000368277.3\n",
      "Transcript generated forENST00000368235.8\n"
     ]
    },
    {
     "name": "stderr",
     "output_type": "stream",
     "text": [
      "Generating embeddings:   8%|▊         | 103/1267 [00:14<02:31,  7.66it/s]"
     ]
    },
    {
     "name": "stdout",
     "output_type": "stream",
     "text": [
      "Transcript generated forENST00000621784.4\n",
      "Transcript generated forENST00000368211.8\n",
      "Transcript generated forENST00000368107.2\n"
     ]
    },
    {
     "name": "stderr",
     "output_type": "stream",
     "text": [
      "Generating embeddings:   8%|▊         | 107/1267 [00:15<02:05,  9.21it/s]"
     ]
    },
    {
     "name": "stdout",
     "output_type": "stream",
     "text": [
      "Transcript generated forENST00000368097.9\n",
      "Transcript generated forENST00000423014.3\n",
      "Transcript generated forENST00000368010.4\n"
     ]
    },
    {
     "name": "stderr",
     "output_type": "stream",
     "text": [
      "Generating embeddings:   9%|▊         | 109/1267 [00:15<02:17,  8.42it/s]"
     ]
    },
    {
     "name": "stdout",
     "output_type": "stream",
     "text": [
      "Transcript generated forENST00000368009.7\n",
      "Transcript generated forENST00000368003.6\n"
     ]
    },
    {
     "name": "stderr",
     "output_type": "stream",
     "text": [
      "Generating embeddings:   9%|▉         | 111/1267 [00:15<02:32,  7.60it/s]"
     ]
    },
    {
     "name": "stdout",
     "output_type": "stream",
     "text": [
      "Transcript generated forENST00000367975.7\n",
      "Transcript generated forENST00000367943.5\n"
     ]
    },
    {
     "name": "stderr",
     "output_type": "stream",
     "text": [
      "Generating embeddings:   9%|▉         | 113/1267 [00:15<02:43,  7.07it/s]"
     ]
    },
    {
     "name": "stdout",
     "output_type": "stream",
     "text": [
      "Transcript generated forENST00000426197.2\n",
      "Transcript generated forENST00000254521.7\n"
     ]
    },
    {
     "name": "stderr",
     "output_type": "stream",
     "text": [
      "Generating embeddings:   9%|▉         | 115/1267 [00:16<03:10,  6.04it/s]"
     ]
    },
    {
     "name": "stdout",
     "output_type": "stream",
     "text": [
      "Transcript generated forENST00000367889.8\n",
      "Transcript generated forENST00000367811.8\n"
     ]
    },
    {
     "name": "stderr",
     "output_type": "stream",
     "text": [
      "Generating embeddings:   9%|▉         | 116/1267 [00:16<03:18,  5.80it/s]"
     ]
    },
    {
     "name": "stdout",
     "output_type": "stream",
     "text": [
      "Transcript generated forENST00000310392.5\n"
     ]
    },
    {
     "name": "stderr",
     "output_type": "stream",
     "text": [
      "Generating embeddings:   9%|▉         | 119/1267 [00:17<03:07,  6.12it/s]"
     ]
    },
    {
     "name": "stdout",
     "output_type": "stream",
     "text": [
      "Transcript generated forENST00000235382.7\n",
      "Transcript generated forENST00000367439.7\n",
      "Transcript generated forENST00000367393.8\n"
     ]
    },
    {
     "name": "stderr",
     "output_type": "stream",
     "text": [
      "Generating embeddings:  10%|▉         | 121/1267 [00:17<02:57,  6.45it/s]"
     ]
    },
    {
     "name": "stdout",
     "output_type": "stream",
     "text": [
      "Transcript generated forENST00000362011.7\n",
      "Transcript generated forENST00000646651.1\n"
     ]
    },
    {
     "name": "stderr",
     "output_type": "stream",
     "text": [
      "Generating embeddings:  10%|▉         | 123/1267 [00:17<02:45,  6.92it/s]"
     ]
    },
    {
     "name": "stdout",
     "output_type": "stream",
     "text": [
      "Transcript generated forENST00000367029.5\n",
      "Transcript generated forENST00000366988.5\n"
     ]
    },
    {
     "name": "stderr",
     "output_type": "stream",
     "text": [
      "Generating embeddings:  10%|▉         | 125/1267 [00:17<02:46,  6.84it/s]"
     ]
    },
    {
     "name": "stdout",
     "output_type": "stream",
     "text": [
      "Transcript generated forENST00000243440.2\n",
      "Transcript generated forENST00000304786.11\n"
     ]
    },
    {
     "name": "stderr",
     "output_type": "stream",
     "text": [
      "Generating embeddings:  10%|█         | 127/1267 [00:18<02:47,  6.83it/s]"
     ]
    },
    {
     "name": "stdout",
     "output_type": "stream",
     "text": [
      "Transcript generated forENST00000272139.5\n",
      "Transcript generated forENST00000366735.5\n"
     ]
    },
    {
     "name": "stderr",
     "output_type": "stream",
     "text": [
      "Generating embeddings:  10%|█         | 129/1267 [00:18<02:36,  7.29it/s]"
     ]
    },
    {
     "name": "stdout",
     "output_type": "stream",
     "text": [
      "Transcript generated forENST00000391865.7\n",
      "Transcript generated forENST00000310256.7\n"
     ]
    },
    {
     "name": "stderr",
     "output_type": "stream",
     "text": [
      "Generating embeddings:  10%|█         | 131/1267 [00:18<02:33,  7.39it/s]"
     ]
    },
    {
     "name": "stdout",
     "output_type": "stream",
     "text": [
      "Transcript generated forENST00000366651.7\n",
      "Transcript generated forENST00000366612.1\n"
     ]
    },
    {
     "name": "stderr",
     "output_type": "stream",
     "text": [
      "Generating embeddings:  10%|█         | 133/1267 [00:18<02:27,  7.67it/s]"
     ]
    },
    {
     "name": "stdout",
     "output_type": "stream",
     "text": [
      "Transcript generated forENST00000366523.5\n",
      "Transcript generated forENST00000272065.10\n"
     ]
    },
    {
     "name": "stderr",
     "output_type": "stream",
     "text": [
      "Generating embeddings:  11%|█         | 135/1267 [00:19<02:07,  8.91it/s]"
     ]
    },
    {
     "name": "stdout",
     "output_type": "stream",
     "text": [
      "Transcript generated forENST00000462576.5\n",
      "Transcript generated forENST00000333610.4\n"
     ]
    },
    {
     "name": "stderr",
     "output_type": "stream",
     "text": [
      "Generating embeddings:  11%|█         | 137/1267 [00:19<02:11,  8.62it/s]"
     ]
    },
    {
     "name": "stdout",
     "output_type": "stream",
     "text": [
      "Transcript generated forENST00000175091.5\n",
      "Transcript generated forENST00000380986.9\n",
      "Transcript generated forENST00000233468.5\n"
     ]
    },
    {
     "name": "stderr",
     "output_type": "stream",
     "text": [
      "Generating embeddings:  11%|█         | 139/1267 [00:19<02:19,  8.09it/s]"
     ]
    },
    {
     "name": "stdout",
     "output_type": "stream",
     "text": [
      "Transcript generated forENST00000328379.5\n"
     ]
    },
    {
     "name": "stderr",
     "output_type": "stream",
     "text": [
      "Generating embeddings:  11%|█         | 142/1267 [00:20<02:18,  8.11it/s]"
     ]
    },
    {
     "name": "stdout",
     "output_type": "stream",
     "text": [
      "Transcript generated forENST00000335756.9\n",
      "Transcript generated forENST00000429985.1\n",
      "Transcript generated forENST00000380171.8\n"
     ]
    },
    {
     "name": "stderr",
     "output_type": "stream",
     "text": [
      "Generating embeddings:  11%|█▏        | 144/1267 [00:20<02:18,  8.08it/s]"
     ]
    },
    {
     "name": "stdout",
     "output_type": "stream",
     "text": [
      "Transcript generated forENST00000380044.6\n",
      "Transcript generated forENST00000394775.3\n"
     ]
    },
    {
     "name": "stderr",
     "output_type": "stream",
     "text": [
      "Generating embeddings:  12%|█▏        | 146/1267 [00:20<02:01,  9.19it/s]"
     ]
    },
    {
     "name": "stdout",
     "output_type": "stream",
     "text": [
      "Transcript generated forENST00000296102.8\n",
      "Transcript generated forENST00000302188.8\n"
     ]
    },
    {
     "name": "stderr",
     "output_type": "stream",
     "text": [
      "Generating embeddings:  12%|█▏        | 149/1267 [00:20<02:03,  9.03it/s]"
     ]
    },
    {
     "name": "stdout",
     "output_type": "stream",
     "text": [
      "Transcript generated forENST00000342166.10\n",
      "Transcript generated forENST00000410014.5\n",
      "Transcript generated forENST00000475092.4\n"
     ]
    },
    {
     "name": "stderr",
     "output_type": "stream",
     "text": [
      "Generating embeddings:  12%|█▏        | 151/1267 [00:21<02:13,  8.38it/s]"
     ]
    },
    {
     "name": "stdout",
     "output_type": "stream",
     "text": [
      "Transcript generated forENST00000605786.5\n",
      "Transcript generated forENST00000281382.11\n"
     ]
    },
    {
     "name": "stderr",
     "output_type": "stream",
     "text": [
      "Generating embeddings:  12%|█▏        | 153/1267 [00:21<02:22,  7.81it/s]"
     ]
    },
    {
     "name": "stdout",
     "output_type": "stream",
     "text": [
      "Transcript generated forENST00000654798.1\n",
      "Transcript generated forENST00000295304.5\n"
     ]
    },
    {
     "name": "stderr",
     "output_type": "stream",
     "text": [
      "Generating embeddings:  12%|█▏        | 155/1267 [00:21<02:41,  6.89it/s]"
     ]
    },
    {
     "name": "stdout",
     "output_type": "stream",
     "text": [
      "Transcript generated forENST00000394666.7\n",
      "Transcript generated forENST00000272317.10\n"
     ]
    },
    {
     "name": "stderr",
     "output_type": "stream",
     "text": [
      "Generating embeddings:  12%|█▏        | 157/1267 [00:21<02:35,  7.12it/s]"
     ]
    },
    {
     "name": "stdout",
     "output_type": "stream",
     "text": [
      "Transcript generated forENST00000311832.5\n",
      "Transcript generated forENST00000303698.7\n"
     ]
    },
    {
     "name": "stderr",
     "output_type": "stream",
     "text": [
      "Generating embeddings:  13%|█▎        | 159/1267 [00:22<02:59,  6.18it/s]"
     ]
    },
    {
     "name": "stdout",
     "output_type": "stream",
     "text": [
      "Transcript generated forENST00000244227.8\n",
      "Transcript generated forENST00000272348.7\n"
     ]
    },
    {
     "name": "stderr",
     "output_type": "stream",
     "text": [
      "Generating embeddings:  13%|█▎        | 160/1267 [00:22<02:54,  6.36it/s]"
     ]
    },
    {
     "name": "stdout",
     "output_type": "stream",
     "text": [
      "Transcript generated forENST00000244217.6\n"
     ]
    },
    {
     "name": "stderr",
     "output_type": "stream",
     "text": [
      "Generating embeddings:  13%|█▎        | 162/1267 [00:22<03:19,  5.54it/s]"
     ]
    },
    {
     "name": "stdout",
     "output_type": "stream",
     "text": [
      "Transcript generated forENST00000234454.6\n",
      "Transcript generated forENST00000258083.3\n"
     ]
    },
    {
     "name": "stderr",
     "output_type": "stream",
     "text": [
      "Generating embeddings:  13%|█▎        | 164/1267 [00:23<02:36,  7.03it/s]"
     ]
    },
    {
     "name": "stdout",
     "output_type": "stream",
     "text": [
      "Transcript generated forENST00000272424.11\n",
      "Transcript generated forENST00000264093.9\n"
     ]
    },
    {
     "name": "stderr",
     "output_type": "stream",
     "text": [
      "Generating embeddings:  13%|█▎        | 166/1267 [00:23<02:39,  6.92it/s]"
     ]
    },
    {
     "name": "stdout",
     "output_type": "stream",
     "text": [
      "Transcript generated forENST00000348227.4\n",
      "Transcript generated forENST00000233630.11\n"
     ]
    },
    {
     "name": "stderr",
     "output_type": "stream",
     "text": [
      "Generating embeddings:  13%|█▎        | 167/1267 [00:23<02:49,  6.50it/s]"
     ]
    },
    {
     "name": "stdout",
     "output_type": "stream",
     "text": [
      "Transcript generated forENST00000377526.4\n"
     ]
    },
    {
     "name": "stderr",
     "output_type": "stream",
     "text": [
      "Generating embeddings:  13%|█▎        | 168/1267 [00:23<03:16,  5.59it/s]"
     ]
    },
    {
     "name": "stdout",
     "output_type": "stream",
     "text": [
      "Transcript generated forENST00000483063.2\n"
     ]
    },
    {
     "name": "stderr",
     "output_type": "stream",
     "text": [
      "Generating embeddings:  13%|█▎        | 169/1267 [00:24<04:17,  4.26it/s]"
     ]
    },
    {
     "name": "stdout",
     "output_type": "stream",
     "text": [
      "Transcript generated forENST00000393868.7\n"
     ]
    },
    {
     "name": "stderr",
     "output_type": "stream",
     "text": [
      "Generating embeddings:  14%|█▎        | 172/1267 [00:24<02:58,  6.14it/s]"
     ]
    },
    {
     "name": "stdout",
     "output_type": "stream",
     "text": [
      "Transcript generated forENST00000263867.9\n",
      "Transcript generated forENST00000263864.10\n",
      "Transcript generated forENST00000306384.5\n"
     ]
    },
    {
     "name": "stderr",
     "output_type": "stream",
     "text": [
      "Generating embeddings:  14%|█▎        | 174/1267 [00:24<02:45,  6.61it/s]"
     ]
    },
    {
     "name": "stdout",
     "output_type": "stream",
     "text": [
      "Transcript generated forENST00000306368.9\n",
      "Transcript generated forENST00000393537.5\n"
     ]
    },
    {
     "name": "stderr",
     "output_type": "stream",
     "text": [
      "Generating embeddings:  14%|█▍        | 177/1267 [00:25<02:22,  7.66it/s]"
     ]
    },
    {
     "name": "stdout",
     "output_type": "stream",
     "text": [
      "Transcript generated forENST00000414820.6\n",
      "Transcript generated forENST00000258424.3\n",
      "Transcript generated forENST00000357765.6\n"
     ]
    },
    {
     "name": "stderr",
     "output_type": "stream",
     "text": [
      "Generating embeddings:  14%|█▍        | 180/1267 [00:25<02:07,  8.52it/s]"
     ]
    },
    {
     "name": "stdout",
     "output_type": "stream",
     "text": [
      "Transcript generated forENST00000393473.6\n",
      "Transcript generated forENST00000289359.6\n",
      "Transcript generated forENST00000264254.11\n"
     ]
    },
    {
     "name": "stderr",
     "output_type": "stream",
     "text": [
      "Generating embeddings:  14%|█▍        | 182/1267 [00:25<02:22,  7.62it/s]"
     ]
    },
    {
     "name": "stdout",
     "output_type": "stream",
     "text": [
      "Transcript generated forENST00000264258.8\n",
      "Transcript generated forENST00000258455.8\n"
     ]
    },
    {
     "name": "stderr",
     "output_type": "stream",
     "text": [
      "Generating embeddings:  15%|█▍        | 184/1267 [00:26<02:06,  8.56it/s]"
     ]
    },
    {
     "name": "stdout",
     "output_type": "stream",
     "text": [
      "Transcript generated forENST00000324913.9\n",
      "Transcript generated forENST00000409466.6\n",
      "Transcript generated forENST00000355857.7\n"
     ]
    },
    {
     "name": "stderr",
     "output_type": "stream",
     "text": [
      "Generating embeddings:  15%|█▍        | 187/1267 [00:26<01:58,  9.11it/s]"
     ]
    },
    {
     "name": "stdout",
     "output_type": "stream",
     "text": [
      "Transcript generated forENST00000259254.9\n",
      "Transcript generated forENST00000409255.1\n"
     ]
    },
    {
     "name": "stderr",
     "output_type": "stream",
     "text": [
      "Generating embeddings:  15%|█▍        | 189/1267 [00:26<01:59,  9.00it/s]"
     ]
    },
    {
     "name": "stdout",
     "output_type": "stream",
     "text": [
      "Transcript generated forENST00000309451.7\n",
      "Transcript generated forENST00000243346.10\n"
     ]
    },
    {
     "name": "stderr",
     "output_type": "stream",
     "text": [
      "Generating embeddings:  15%|█▌        | 191/1267 [00:26<02:23,  7.49it/s]"
     ]
    },
    {
     "name": "stdout",
     "output_type": "stream",
     "text": [
      "Transcript generated forENST00000243347.5\n",
      "Transcript generated forENST00000325926.4\n"
     ]
    },
    {
     "name": "stderr",
     "output_type": "stream",
     "text": [
      "Generating embeddings:  15%|█▌        | 193/1267 [00:27<02:29,  7.17it/s]"
     ]
    },
    {
     "name": "stdout",
     "output_type": "stream",
     "text": [
      "Transcript generated forENST00000282074.7\n",
      "Transcript generated forENST00000616524.4\n"
     ]
    },
    {
     "name": "stderr",
     "output_type": "stream",
     "text": [
      "Generating embeddings:  15%|█▌        | 195/1267 [00:27<02:44,  6.53it/s]"
     ]
    },
    {
     "name": "stdout",
     "output_type": "stream",
     "text": [
      "Transcript generated forENST00000260953.10\n",
      "Transcript generated forENST00000450510.2\n"
     ]
    },
    {
     "name": "stderr",
     "output_type": "stream",
     "text": [
      "Generating embeddings:  15%|█▌        | 196/1267 [00:27<03:13,  5.53it/s]"
     ]
    },
    {
     "name": "stdout",
     "output_type": "stream",
     "text": [
      "Transcript generated forENST00000249442.11\n"
     ]
    },
    {
     "name": "stderr",
     "output_type": "stream",
     "text": [
      "Generating embeddings:  16%|█▌        | 198/1267 [00:28<03:38,  4.89it/s]"
     ]
    },
    {
     "name": "stdout",
     "output_type": "stream",
     "text": [
      "Transcript generated forENST00000233893.10\n",
      "Transcript generated forENST00000295079.6\n"
     ]
    },
    {
     "name": "stderr",
     "output_type": "stream",
     "text": [
      "Generating embeddings:  16%|█▌        | 199/1267 [00:28<03:14,  5.48it/s]"
     ]
    },
    {
     "name": "stdout",
     "output_type": "stream",
     "text": [
      "Transcript generated forENST00000392283.9\n",
      "Transcript generated forENST00000454214.1\n"
     ]
    },
    {
     "name": "stderr",
     "output_type": "stream",
     "text": [
      "Generating embeddings:  16%|█▌        | 201/1267 [00:28<02:39,  6.68it/s]"
     ]
    },
    {
     "name": "stdout",
     "output_type": "stream",
     "text": [
      "Transcript generated forENST00000392221.5\n"
     ]
    },
    {
     "name": "stderr",
     "output_type": "stream",
     "text": [
      "Generating embeddings:  16%|█▌        | 203/1267 [00:29<03:23,  5.23it/s]"
     ]
    },
    {
     "name": "stdout",
     "output_type": "stream",
     "text": [
      "Transcript generated forENST00000233809.9\n",
      "Transcript generated forENST00000295704.7\n"
     ]
    },
    {
     "name": "stderr",
     "output_type": "stream",
     "text": [
      "Generating embeddings:  16%|█▌        | 205/1267 [00:29<03:02,  5.83it/s]"
     ]
    },
    {
     "name": "stdout",
     "output_type": "stream",
     "text": [
      "Transcript generated forENST00000289528.10\n",
      "Transcript generated forENST00000409115.7\n"
     ]
    },
    {
     "name": "stderr",
     "output_type": "stream",
     "text": [
      "Generating embeddings:  16%|█▋        | 206/1267 [00:29<02:59,  5.92it/s]"
     ]
    },
    {
     "name": "stdout",
     "output_type": "stream",
     "text": [
      "Transcript generated forENST00000287600.9\n"
     ]
    },
    {
     "name": "stderr",
     "output_type": "stream",
     "text": [
      "Generating embeddings:  16%|█▋        | 208/1267 [00:30<03:21,  5.25it/s]"
     ]
    },
    {
     "name": "stdout",
     "output_type": "stream",
     "text": [
      "Transcript generated forENST00000258416.8\n",
      "Transcript generated forENST00000254661.5\n"
     ]
    },
    {
     "name": "stderr",
     "output_type": "stream",
     "text": [
      "Generating embeddings:  16%|█▋        | 209/1267 [00:30<03:12,  5.48it/s]"
     ]
    },
    {
     "name": "stdout",
     "output_type": "stream",
     "text": [
      "Transcript generated forENST00000254654.8\n"
     ]
    },
    {
     "name": "stderr",
     "output_type": "stream",
     "text": [
      "Generating embeddings:  17%|█▋        | 211/1267 [00:30<03:41,  4.76it/s]"
     ]
    },
    {
     "name": "stdout",
     "output_type": "stream",
     "text": [
      "Transcript generated forENST00000272937.10\n",
      "Transcript generated forENST00000612363.2\n"
     ]
    },
    {
     "name": "stderr",
     "output_type": "stream",
     "text": [
      "Generating embeddings:  17%|█▋        | 213/1267 [00:31<03:02,  5.79it/s]"
     ]
    },
    {
     "name": "stdout",
     "output_type": "stream",
     "text": [
      "Transcript generated forENST00000305784.7\n",
      "Transcript generated forENST00000256460.8\n"
     ]
    },
    {
     "name": "stderr",
     "output_type": "stream",
     "text": [
      "Generating embeddings:  17%|█▋        | 215/1267 [00:31<02:28,  7.10it/s]"
     ]
    },
    {
     "name": "stdout",
     "output_type": "stream",
     "text": [
      "Transcript generated forENST00000383820.9\n",
      "Transcript generated forENST00000530758.2\n"
     ]
    },
    {
     "name": "stderr",
     "output_type": "stream",
     "text": [
      "Generating embeddings:  17%|█▋        | 216/1267 [00:31<02:51,  6.13it/s]"
     ]
    },
    {
     "name": "stdout",
     "output_type": "stream",
     "text": [
      "Transcript generated forENST00000350697.8\n"
     ]
    },
    {
     "name": "stderr",
     "output_type": "stream",
     "text": [
      "Generating embeddings:  17%|█▋        | 217/1267 [00:31<04:07,  4.25it/s]"
     ]
    },
    {
     "name": "stdout",
     "output_type": "stream",
     "text": [
      "Transcript generated forENST00000455809.5\n"
     ]
    },
    {
     "name": "stderr",
     "output_type": "stream",
     "text": [
      "Generating embeddings:  17%|█▋        | 218/1267 [00:32<04:27,  3.92it/s]"
     ]
    },
    {
     "name": "stdout",
     "output_type": "stream",
     "text": [
      "Transcript generated forENST00000396914.4\n"
     ]
    },
    {
     "name": "stderr",
     "output_type": "stream",
     "text": [
      "Generating embeddings:  17%|█▋        | 220/1267 [00:32<04:05,  4.26it/s]"
     ]
    },
    {
     "name": "stdout",
     "output_type": "stream",
     "text": [
      "Transcript generated forENST00000307526.4\n",
      "Transcript generated forENST00000301821.11\n"
     ]
    },
    {
     "name": "stderr",
     "output_type": "stream",
     "text": [
      "Generating embeddings:  18%|█▊        | 222/1267 [00:33<03:59,  4.36it/s]"
     ]
    },
    {
     "name": "stdout",
     "output_type": "stream",
     "text": [
      "Transcript generated forENST00000232905.4\n",
      "Transcript generated forENST00000447630.5\n"
     ]
    },
    {
     "name": "stderr",
     "output_type": "stream",
     "text": [
      "Generating embeddings:  18%|█▊        | 223/1267 [00:33<03:37,  4.80it/s]"
     ]
    },
    {
     "name": "stdout",
     "output_type": "stream",
     "text": [
      "Transcript generated forENST00000321331.11\n"
     ]
    },
    {
     "name": "stderr",
     "output_type": "stream",
     "text": [
      "Generating embeddings:  18%|█▊        | 225/1267 [00:33<03:16,  5.29it/s]"
     ]
    },
    {
     "name": "stdout",
     "output_type": "stream",
     "text": [
      "Transcript generated forENST00000302392.5\n",
      "Transcript generated forENST00000265564.8\n"
     ]
    },
    {
     "name": "stderr",
     "output_type": "stream",
     "text": [
      "Generating embeddings:  18%|█▊        | 227/1267 [00:33<02:47,  6.21it/s]"
     ]
    },
    {
     "name": "stdout",
     "output_type": "stream",
     "text": [
      "Transcript generated forENST00000425441.5\n",
      "Transcript generated forENST00000296149.9\n"
     ]
    },
    {
     "name": "stderr",
     "output_type": "stream",
     "text": [
      "Generating embeddings:  18%|█▊        | 230/1267 [00:34<02:11,  7.87it/s]"
     ]
    },
    {
     "name": "stdout",
     "output_type": "stream",
     "text": [
      "Transcript generated forENST00000452211.5\n",
      "Transcript generated forENST00000438607.2\n",
      "Transcript generated forENST00000326925.11\n"
     ]
    },
    {
     "name": "stderr",
     "output_type": "stream",
     "text": [
      "Generating embeddings:  18%|█▊        | 233/1267 [00:34<02:07,  8.12it/s]"
     ]
    },
    {
     "name": "stdout",
     "output_type": "stream",
     "text": [
      "Transcript generated forENST00000354862.4\n",
      "Transcript generated forENST00000528157.7\n",
      "Transcript generated forENST00000273596.8\n"
     ]
    },
    {
     "name": "stderr",
     "output_type": "stream",
     "text": [
      "Generating embeddings:  19%|█▊        | 235/1267 [00:34<02:38,  6.53it/s]"
     ]
    },
    {
     "name": "stdout",
     "output_type": "stream",
     "text": [
      "Transcript generated forENST00000404366.7\n",
      "Transcript generated forENST00000294189.11\n",
      "Transcript generated forENST00000232975.8\n"
     ]
    },
    {
     "name": "stderr",
     "output_type": "stream",
     "text": [
      "Generating embeddings:  19%|█▉        | 238/1267 [00:35<02:49,  6.06it/s]"
     ]
    },
    {
     "name": "stdout",
     "output_type": "stream",
     "text": [
      "Transcript generated forENST00000495461.6\n",
      "Transcript generated forENST00000295899.10\n"
     ]
    },
    {
     "name": "stderr",
     "output_type": "stream",
     "text": [
      "Generating embeddings:  19%|█▉        | 239/1267 [00:36<05:01,  3.41it/s]"
     ]
    },
    {
     "name": "stdout",
     "output_type": "stream",
     "text": [
      "Transcript generated forENST00000295901.8\n"
     ]
    },
    {
     "name": "stderr",
     "output_type": "stream",
     "text": [
      "Generating embeddings:  19%|█▉        | 240/1267 [00:36<06:09,  2.78it/s]"
     ]
    },
    {
     "name": "stdout",
     "output_type": "stream",
     "text": [
      "Transcript generated forENST00000394077.8\n"
     ]
    },
    {
     "name": "stderr",
     "output_type": "stream",
     "text": [
      "Generating embeddings:  19%|█▉        | 242/1267 [00:37<04:45,  3.59it/s]"
     ]
    },
    {
     "name": "stdout",
     "output_type": "stream",
     "text": [
      "Transcript generated forENST00000361309.5\n",
      "Transcript generated forENST00000184266.3\n"
     ]
    },
    {
     "name": "stderr",
     "output_type": "stream",
     "text": [
      "Generating embeddings:  19%|█▉        | 243/1267 [00:37<04:22,  3.90it/s]"
     ]
    },
    {
     "name": "stdout",
     "output_type": "stream",
     "text": [
      "Transcript generated forENST00000273668.7\n"
     ]
    },
    {
     "name": "stderr",
     "output_type": "stream",
     "text": [
      "Generating embeddings:  19%|█▉        | 244/1267 [00:37<04:48,  3.55it/s]"
     ]
    },
    {
     "name": "stdout",
     "output_type": "stream",
     "text": [
      "Transcript generated forENST00000291458.9\n"
     ]
    },
    {
     "name": "stderr",
     "output_type": "stream",
     "text": [
      "Generating embeddings:  19%|█▉        | 246/1267 [00:38<04:07,  4.13it/s]"
     ]
    },
    {
     "name": "stdout",
     "output_type": "stream",
     "text": [
      "Transcript generated forENST00000290913.8\n",
      "Transcript generated forENST00000393035.6\n"
     ]
    },
    {
     "name": "stderr",
     "output_type": "stream",
     "text": [
      "Generating embeddings:  20%|█▉        | 248/1267 [00:38<03:17,  5.17it/s]"
     ]
    },
    {
     "name": "stdout",
     "output_type": "stream",
     "text": [
      "Transcript generated forENST00000619087.4\n",
      "Transcript generated forENST00000264265.4\n"
     ]
    },
    {
     "name": "stderr",
     "output_type": "stream",
     "text": [
      "Generating embeddings:  20%|█▉        | 250/1267 [00:39<05:11,  3.27it/s]"
     ]
    },
    {
     "name": "stdout",
     "output_type": "stream",
     "text": [
      "Transcript generated forENST00000476781.6\n",
      "Transcript generated forENST00000382564.8\n"
     ]
    },
    {
     "name": "stderr",
     "output_type": "stream",
     "text": [
      "Generating embeddings:  20%|█▉        | 251/1267 [00:39<04:25,  3.83it/s]"
     ]
    },
    {
     "name": "stdout",
     "output_type": "stream",
     "text": [
      "Transcript generated forENST00000324557.9\n"
     ]
    },
    {
     "name": "stderr",
     "output_type": "stream",
     "text": [
      "Generating embeddings:  20%|█▉        | 253/1267 [00:39<04:04,  4.14it/s]"
     ]
    },
    {
     "name": "stdout",
     "output_type": "stream",
     "text": [
      "Transcript generated forENST00000296238.4\n",
      "Transcript generated forENST00000392481.6\n"
     ]
    },
    {
     "name": "stderr",
     "output_type": "stream",
     "text": [
      "Generating embeddings:  20%|██        | 255/1267 [00:40<03:03,  5.53it/s]"
     ]
    },
    {
     "name": "stdout",
     "output_type": "stream",
     "text": [
      "Transcript generated forENST00000433055.1\n",
      "Transcript generated forENST00000325318.10\n"
     ]
    },
    {
     "name": "stderr",
     "output_type": "stream",
     "text": [
      "Generating embeddings:  20%|██        | 256/1267 [00:40<02:50,  5.92it/s]"
     ]
    },
    {
     "name": "stdout",
     "output_type": "stream",
     "text": [
      "Transcript generated forENST00000602845.2\n"
     ]
    },
    {
     "name": "stderr",
     "output_type": "stream",
     "text": [
      "Generating embeddings:  20%|██        | 258/1267 [00:40<02:59,  5.61it/s]"
     ]
    },
    {
     "name": "stdout",
     "output_type": "stream",
     "text": [
      "Transcript generated forENST00000647248.2\n",
      "Transcript generated forENST00000400159.6\n"
     ]
    },
    {
     "name": "stderr",
     "output_type": "stream",
     "text": [
      "Generating embeddings:  20%|██        | 259/1267 [00:40<03:05,  5.42it/s]"
     ]
    },
    {
     "name": "stdout",
     "output_type": "stream",
     "text": [
      "Transcript generated forENST00000382753.5\n"
     ]
    },
    {
     "name": "stderr",
     "output_type": "stream",
     "text": [
      "Generating embeddings:  21%|██        | 260/1267 [00:41<03:42,  4.52it/s]"
     ]
    },
    {
     "name": "stdout",
     "output_type": "stream",
     "text": [
      "Transcript generated forENST00000320776.5\n"
     ]
    },
    {
     "name": "stderr",
     "output_type": "stream",
     "text": [
      "Generating embeddings:  21%|██        | 262/1267 [00:41<03:26,  4.87it/s]"
     ]
    },
    {
     "name": "stdout",
     "output_type": "stream",
     "text": [
      "Transcript generated forENST00000506197.2\n",
      "Transcript generated forENST00000284440.9\n"
     ]
    },
    {
     "name": "stderr",
     "output_type": "stream",
     "text": [
      "Generating embeddings:  21%|██        | 264/1267 [00:41<02:55,  5.71it/s]"
     ]
    },
    {
     "name": "stdout",
     "output_type": "stream",
     "text": [
      "Transcript generated forENST00000381571.6\n",
      "Transcript generated forENST00000508632.6\n"
     ]
    },
    {
     "name": "stderr",
     "output_type": "stream",
     "text": [
      "Generating embeddings:  21%|██        | 265/1267 [00:42<02:47,  5.97it/s]"
     ]
    },
    {
     "name": "stdout",
     "output_type": "stream",
     "text": [
      "Transcript generated forENST00000263921.8\n",
      "Transcript generated forENST00000264218.7\n"
     ]
    },
    {
     "name": "stderr",
     "output_type": "stream",
     "text": [
      "Generating embeddings:  21%|██        | 268/1267 [00:42<02:18,  7.20it/s]"
     ]
    },
    {
     "name": "stdout",
     "output_type": "stream",
     "text": [
      "Transcript generated forENST00000295666.6\n",
      "Transcript generated forENST00000395748.8\n"
     ]
    },
    {
     "name": "stderr",
     "output_type": "stream",
     "text": [
      "Generating embeddings:  21%|██▏       | 270/1267 [00:42<02:13,  7.45it/s]"
     ]
    },
    {
     "name": "stdout",
     "output_type": "stream",
     "text": [
      "Transcript generated forENST00000315567.13\n",
      "Transcript generated forENST00000264908.11\n"
     ]
    },
    {
     "name": "stderr",
     "output_type": "stream",
     "text": [
      "Generating embeddings:  21%|██▏       | 272/1267 [00:42<02:12,  7.49it/s]"
     ]
    },
    {
     "name": "stdout",
     "output_type": "stream",
     "text": [
      "Transcript generated forENST00000273968.5\n",
      "Transcript generated forENST00000296417.6\n"
     ]
    },
    {
     "name": "stderr",
     "output_type": "stream",
     "text": [
      "Generating embeddings:  22%|██▏       | 274/1267 [00:43<02:05,  7.92it/s]"
     ]
    },
    {
     "name": "stdout",
     "output_type": "stream",
     "text": [
      "Transcript generated forENST00000394668.2\n",
      "Transcript generated forENST00000361564.9\n"
     ]
    },
    {
     "name": "stderr",
     "output_type": "stream",
     "text": [
      "Generating embeddings:  22%|██▏       | 276/1267 [00:43<02:12,  7.46it/s]"
     ]
    },
    {
     "name": "stdout",
     "output_type": "stream",
     "text": [
      "Transcript generated forENST00000226796.7\n",
      "Transcript generated forENST00000304430.10\n"
     ]
    },
    {
     "name": "stderr",
     "output_type": "stream",
     "text": [
      "Generating embeddings:  22%|██▏       | 278/1267 [00:43<02:32,  6.50it/s]"
     ]
    },
    {
     "name": "stdout",
     "output_type": "stream",
     "text": [
      "Transcript generated forENST00000398955.2\n",
      "Transcript generated forENST00000544855.5\n"
     ]
    },
    {
     "name": "stderr",
     "output_type": "stream",
     "text": [
      "Generating embeddings:  22%|██▏       | 281/1267 [00:44<02:06,  7.82it/s]"
     ]
    },
    {
     "name": "stdout",
     "output_type": "stream",
     "text": [
      "Transcript generated forENST00000616265.4\n",
      "Transcript generated forENST00000274065.9\n",
      "Transcript generated forENST00000240488.8\n"
     ]
    },
    {
     "name": "stderr",
     "output_type": "stream",
     "text": [
      "Generating embeddings:  22%|██▏       | 283/1267 [00:44<02:16,  7.19it/s]"
     ]
    },
    {
     "name": "stdout",
     "output_type": "stream",
     "text": [
      "Transcript generated forENST00000393381.3\n",
      "Transcript generated forENST00000296503.10\n"
     ]
    },
    {
     "name": "stderr",
     "output_type": "stream",
     "text": [
      "Generating embeddings:  22%|██▏       | 284/1267 [00:44<02:14,  7.31it/s]"
     ]
    },
    {
     "name": "stdout",
     "output_type": "stream",
     "text": [
      "Transcript generated forENST00000296504.4\n",
      "Transcript generated forENST00000335174.6\n"
     ]
    },
    {
     "name": "stderr",
     "output_type": "stream",
     "text": [
      "Generating embeddings:  23%|██▎       | 287/1267 [00:44<01:59,  8.19it/s]"
     ]
    },
    {
     "name": "stdout",
     "output_type": "stream",
     "text": [
      "Transcript generated forENST00000226798.9\n",
      "Transcript generated forENST00000264933.9\n"
     ]
    },
    {
     "name": "stderr",
     "output_type": "stream",
     "text": [
      "Generating embeddings:  23%|██▎       | 290/1267 [00:45<01:45,  9.22it/s]"
     ]
    },
    {
     "name": "stdout",
     "output_type": "stream",
     "text": [
      "Transcript generated forENST00000508987.1\n",
      "Transcript generated forENST00000274137.10\n",
      "Transcript generated forENST00000255764.4\n"
     ]
    },
    {
     "name": "stderr",
     "output_type": "stream",
     "text": [
      "Generating embeddings:  23%|██▎       | 291/1267 [00:45<01:44,  9.31it/s]"
     ]
    },
    {
     "name": "stdout",
     "output_type": "stream",
     "text": [
      "Transcript generated forENST00000382068.3\n",
      "Transcript generated forENST00000296684.10\n"
     ]
    },
    {
     "name": "stderr",
     "output_type": "stream",
     "text": [
      "Generating embeddings:  23%|██▎       | 294/1267 [00:45<01:49,  8.92it/s]"
     ]
    },
    {
     "name": "stdout",
     "output_type": "stream",
     "text": [
      "Transcript generated forENST00000282572.5\n",
      "Transcript generated forENST00000285947.5\n",
      "Transcript generated forENST00000296597.10\n"
     ]
    },
    {
     "name": "stderr",
     "output_type": "stream",
     "text": [
      "Generating embeddings:  23%|██▎       | 297/1267 [00:45<01:46,  9.14it/s]"
     ]
    },
    {
     "name": "stdout",
     "output_type": "stream",
     "text": [
      "Transcript generated forENST00000438419.6\n",
      "Transcript generated forENST00000283006.7\n"
     ]
    },
    {
     "name": "stderr",
     "output_type": "stream",
     "text": [
      "Generating embeddings:  24%|██▎       | 299/1267 [00:46<01:56,  8.34it/s]"
     ]
    },
    {
     "name": "stdout",
     "output_type": "stream",
     "text": [
      "Transcript generated forENST00000256441.5\n",
      "Transcript generated forENST00000256443.8\n"
     ]
    },
    {
     "name": "stderr",
     "output_type": "stream",
     "text": [
      "Generating embeddings:  24%|██▍       | 301/1267 [00:46<02:14,  7.20it/s]"
     ]
    },
    {
     "name": "stdout",
     "output_type": "stream",
     "text": [
      "Transcript generated forENST00000328663.8\n",
      "Transcript generated forENST00000380591.7\n"
     ]
    },
    {
     "name": "stderr",
     "output_type": "stream",
     "text": [
      "Generating embeddings:  24%|██▍       | 303/1267 [00:46<01:58,  8.13it/s]"
     ]
    },
    {
     "name": "stdout",
     "output_type": "stream",
     "text": [
      "Transcript generated forENST00000380377.8\n",
      "Transcript generated forENST00000256897.9\n"
     ]
    },
    {
     "name": "stderr",
     "output_type": "stream",
     "text": [
      "Generating embeddings:  24%|██▍       | 305/1267 [00:47<02:02,  7.86it/s]"
     ]
    },
    {
     "name": "stdout",
     "output_type": "stream",
     "text": [
      "Transcript generated forENST00000379979.8\n",
      "Transcript generated forENST00000312637.5\n"
     ]
    },
    {
     "name": "stderr",
     "output_type": "stream",
     "text": [
      "Generating embeddings:  24%|██▍       | 307/1267 [00:47<02:07,  7.52it/s]"
     ]
    },
    {
     "name": "stdout",
     "output_type": "stream",
     "text": [
      "Transcript generated forENST00000316788.12\n",
      "Transcript generated forENST00000274458.9\n"
     ]
    },
    {
     "name": "stderr",
     "output_type": "stream",
     "text": [
      "Generating embeddings:  24%|██▍       | 310/1267 [00:47<01:48,  8.86it/s]"
     ]
    },
    {
     "name": "stdout",
     "output_type": "stream",
     "text": [
      "Transcript generated forENST00000306442.5\n",
      "Transcript generated forENST00000296662.9\n",
      "Transcript generated forENST00000304043.10\n"
     ]
    },
    {
     "name": "stderr",
     "output_type": "stream",
     "text": [
      "Generating embeddings:  25%|██▍       | 313/1267 [00:47<01:31, 10.37it/s]"
     ]
    },
    {
     "name": "stdout",
     "output_type": "stream",
     "text": [
      "Transcript generated forENST00000458198.3\n",
      "Transcript generated forENST00000450845.6\n",
      "Transcript generated forENST00000261811.6\n"
     ]
    },
    {
     "name": "stderr",
     "output_type": "stream",
     "text": [
      "Generating embeddings:  25%|██▍       | 315/1267 [00:48<01:31, 10.38it/s]"
     ]
    },
    {
     "name": "stdout",
     "output_type": "stream",
     "text": [
      "Transcript generated forENST00000261813.9\n",
      "Transcript generated forENST00000252102.9\n",
      "Transcript generated forENST00000505416.5\n"
     ]
    },
    {
     "name": "stderr",
     "output_type": "stream",
     "text": [
      "Generating embeddings:  25%|██▌       | 317/1267 [00:48<01:25, 11.15it/s]"
     ]
    },
    {
     "name": "stdout",
     "output_type": "stream",
     "text": [
      "Transcript generated forENST00000524142.5\n",
      "Transcript generated forENST00000231238.10\n"
     ]
    },
    {
     "name": "stderr",
     "output_type": "stream",
     "text": [
      "Generating embeddings:  25%|██▌       | 321/1267 [00:48<01:32, 10.21it/s]"
     ]
    },
    {
     "name": "stdout",
     "output_type": "stream",
     "text": [
      "Transcript generated forENST00000393964.1\n",
      "Transcript generated forENST00000521476.5\n",
      "Transcript generated forENST00000519374.6\n"
     ]
    },
    {
     "name": "stderr",
     "output_type": "stream",
     "text": [
      "Generating embeddings:  25%|██▌       | 323/1267 [00:48<01:33, 10.13it/s]"
     ]
    },
    {
     "name": "stdout",
     "output_type": "stream",
     "text": [
      "Transcript generated forENST00000351486.9\n",
      "Transcript generated forENST00000614830.5\n",
      "Transcript generated forENST00000274787.3\n"
     ]
    },
    {
     "name": "stderr",
     "output_type": "stream",
     "text": [
      "Generating embeddings:  26%|██▌       | 326/1267 [00:49<01:47,  8.73it/s]"
     ]
    },
    {
     "name": "stdout",
     "output_type": "stream",
     "text": [
      "Transcript generated forENST00000310418.8\n",
      "Transcript generated forENST00000439742.6\n"
     ]
    },
    {
     "name": "stderr",
     "output_type": "stream",
     "text": [
      "Generating embeddings:  26%|██▌       | 328/1267 [00:49<02:04,  7.53it/s]"
     ]
    },
    {
     "name": "stdout",
     "output_type": "stream",
     "text": [
      "Transcript generated forENST00000303204.9\n",
      "Transcript generated forENST00000323249.8\n"
     ]
    },
    {
     "name": "stderr",
     "output_type": "stream",
     "text": [
      "Generating embeddings:  26%|██▌       | 330/1267 [00:49<02:06,  7.40it/s]"
     ]
    },
    {
     "name": "stdout",
     "output_type": "stream",
     "text": [
      "Transcript generated forENST00000274606.8\n",
      "Transcript generated forENST00000292586.11\n"
     ]
    },
    {
     "name": "stderr",
     "output_type": "stream",
     "text": [
      "Generating embeddings:  26%|██▌       | 331/1267 [00:49<02:04,  7.51it/s]"
     ]
    },
    {
     "name": "stdout",
     "output_type": "stream",
     "text": [
      "Transcript generated forENST00000512805.6\n",
      "Transcript generated forENST00000438998.7\n"
     ]
    },
    {
     "name": "stderr",
     "output_type": "stream",
     "text": [
      "Generating embeddings:  26%|██▋       | 334/1267 [00:50<02:10,  7.17it/s]"
     ]
    },
    {
     "name": "stdout",
     "output_type": "stream",
     "text": [
      "Transcript generated forENST00000380118.7\n",
      "Transcript generated forENST00000380051.7\n"
     ]
    },
    {
     "name": "stderr",
     "output_type": "stream",
     "text": [
      "Generating embeddings:  27%|██▋       | 336/1267 [00:50<02:22,  6.53it/s]"
     ]
    },
    {
     "name": "stdout",
     "output_type": "stream",
     "text": [
      "Transcript generated forENST00000379715.10\n",
      "Transcript generated forENST00000379542.10\n"
     ]
    },
    {
     "name": "stderr",
     "output_type": "stream",
     "text": [
      "Generating embeddings:  27%|██▋       | 338/1267 [00:51<02:21,  6.57it/s]"
     ]
    },
    {
     "name": "stdout",
     "output_type": "stream",
     "text": [
      "Transcript generated forENST00000344537.10\n",
      "Transcript generated forENST00000230056.8\n"
     ]
    },
    {
     "name": "stderr",
     "output_type": "stream",
     "text": [
      "Generating embeddings:  27%|██▋       | 341/1267 [00:51<01:46,  8.69it/s]"
     ]
    },
    {
     "name": "stdout",
     "output_type": "stream",
     "text": [
      "Transcript generated forENST00000244573.5\n",
      "Transcript generated forENST00000244534.7\n",
      "Transcript generated forENST00000358739.4\n"
     ]
    },
    {
     "name": "stderr",
     "output_type": "stream",
     "text": [
      "Generating embeddings:  27%|██▋       | 343/1267 [00:51<01:55,  8.03it/s]"
     ]
    },
    {
     "name": "stdout",
     "output_type": "stream",
     "text": [
      "Transcript generated forENST00000616365.2\n",
      "Transcript generated forENST00000340487.5\n"
     ]
    },
    {
     "name": "stderr",
     "output_type": "stream",
     "text": [
      "Generating embeddings:  27%|██▋       | 345/1267 [00:52<02:50,  5.41it/s]"
     ]
    },
    {
     "name": "stdout",
     "output_type": "stream",
     "text": [
      "Transcript generated forENST00000259951.12\n",
      "Transcript generated forENST00000332435.10\n"
     ]
    },
    {
     "name": "stderr",
     "output_type": "stream",
     "text": [
      "Generating embeddings:  27%|██▋       | 346/1267 [00:52<02:31,  6.08it/s]"
     ]
    },
    {
     "name": "stdout",
     "output_type": "stream",
     "text": [
      "Transcript generated forENST00000442966.6\n"
     ]
    },
    {
     "name": "stderr",
     "output_type": "stream",
     "text": [
      "Generating embeddings:  27%|██▋       | 347/1267 [00:52<02:41,  5.70it/s]"
     ]
    },
    {
     "name": "stdout",
     "output_type": "stream",
     "text": [
      "Transcript generated forENST00000259873.5\n"
     ]
    },
    {
     "name": "stderr",
     "output_type": "stream",
     "text": [
      "Generating embeddings:  27%|██▋       | 348/1267 [00:52<02:48,  5.44it/s]"
     ]
    },
    {
     "name": "stdout",
     "output_type": "stream",
     "text": [
      "Transcript generated forENST00000376473.9\n"
     ]
    },
    {
     "name": "stderr",
     "output_type": "stream",
     "text": [
      "Generating embeddings:  28%|██▊       | 350/1267 [00:53<02:45,  5.53it/s]"
     ]
    },
    {
     "name": "stdout",
     "output_type": "stream",
     "text": [
      "Transcript generated forENST00000259874.6\n",
      "Transcript generated forENST00000449934.7\n"
     ]
    },
    {
     "name": "stderr",
     "output_type": "stream",
     "text": [
      "Generating embeddings:  28%|██▊       | 352/1267 [00:53<02:59,  5.11it/s]"
     ]
    },
    {
     "name": "stdout",
     "output_type": "stream",
     "text": [
      "Transcript generated forENST00000376148.9\n",
      "Transcript generated forENST00000375916.4\n"
     ]
    },
    {
     "name": "stderr",
     "output_type": "stream",
     "text": [
      "Generating embeddings:  28%|██▊       | 354/1267 [00:53<02:26,  6.24it/s]"
     ]
    },
    {
     "name": "stdout",
     "output_type": "stream",
     "text": [
      "Transcript generated forENST00000375866.2\n",
      "Transcript generated forENST00000375661.6\n"
     ]
    },
    {
     "name": "stderr",
     "output_type": "stream",
     "text": [
      "Generating embeddings:  28%|██▊       | 356/1267 [00:54<02:34,  5.91it/s]"
     ]
    },
    {
     "name": "stdout",
     "output_type": "stream",
     "text": [
      "Transcript generated forENST00000375429.8\n",
      "Transcript generated forENST00000375156.4\n"
     ]
    },
    {
     "name": "stderr",
     "output_type": "stream",
     "text": [
      "Generating embeddings:  28%|██▊       | 358/1267 [00:54<02:26,  6.21it/s]"
     ]
    },
    {
     "name": "stdout",
     "output_type": "stream",
     "text": [
      "Transcript generated forENST00000375094.4\n",
      "Transcript generated forENST00000360004.5\n"
     ]
    },
    {
     "name": "stderr",
     "output_type": "stream",
     "text": [
      "Generating embeddings:  28%|██▊       | 360/1267 [00:54<02:11,  6.89it/s]"
     ]
    },
    {
     "name": "stdout",
     "output_type": "stream",
     "text": [
      "Transcript generated forENST00000374882.8\n",
      "Transcript generated forENST00000374859.3\n"
     ]
    },
    {
     "name": "stderr",
     "output_type": "stream",
     "text": [
      "Generating embeddings:  29%|██▊       | 362/1267 [00:55<02:25,  6.20it/s]"
     ]
    },
    {
     "name": "stdout",
     "output_type": "stream",
     "text": [
      "Transcript generated forENST00000418107.3\n",
      "Transcript generated forENST00000374843.9\n"
     ]
    },
    {
     "name": "stderr",
     "output_type": "stream",
     "text": [
      "Generating embeddings:  29%|██▉       | 365/1267 [00:55<01:51,  8.05it/s]"
     ]
    },
    {
     "name": "stdout",
     "output_type": "stream",
     "text": [
      "Transcript generated forENST00000374662.4\n",
      "Transcript generated forENST00000439602.7\n",
      "Transcript generated forENST00000395131.5\n"
     ]
    },
    {
     "name": "stderr",
     "output_type": "stream",
     "text": [
      "Generating embeddings:  29%|██▉       | 366/1267 [00:55<01:48,  8.32it/s]"
     ]
    },
    {
     "name": "stdout",
     "output_type": "stream",
     "text": [
      "Transcript generated forENST00000488034.5\n"
     ]
    },
    {
     "name": "stderr",
     "output_type": "stream",
     "text": [
      "Generating embeddings:  29%|██▉       | 367/1267 [00:55<02:10,  6.89it/s]"
     ]
    },
    {
     "name": "stdout",
     "output_type": "stream",
     "text": [
      "Transcript generated forENST00000607484.6\n"
     ]
    },
    {
     "name": "stderr",
     "output_type": "stream",
     "text": [
      "Generating embeddings:  29%|██▉       | 369/1267 [00:56<03:06,  4.82it/s]"
     ]
    },
    {
     "name": "stdout",
     "output_type": "stream",
     "text": [
      "Transcript generated forENST00000481533.5\n",
      "Transcript generated forENST00000621356.3\n"
     ]
    },
    {
     "name": "stderr",
     "output_type": "stream",
     "text": [
      "Generating embeddings:  29%|██▉       | 370/1267 [00:56<02:43,  5.50it/s]"
     ]
    },
    {
     "name": "stdout",
     "output_type": "stream",
     "text": [
      "Transcript generated forENST00000244520.10\n"
     ]
    },
    {
     "name": "stderr",
     "output_type": "stream",
     "text": [
      "Generating embeddings:  29%|██▉       | 371/1267 [00:56<03:33,  4.20it/s]"
     ]
    },
    {
     "name": "stdout",
     "output_type": "stream",
     "text": [
      "Transcript generated forENST00000322203.7\n"
     ]
    },
    {
     "name": "stderr",
     "output_type": "stream",
     "text": [
      "Generating embeddings:  30%|██▉       | 374/1267 [00:57<02:23,  6.24it/s]"
     ]
    },
    {
     "name": "stdout",
     "output_type": "stream",
     "text": [
      "Transcript generated forENST00000355190.7\n",
      "Transcript generated forENST00000373408.4\n",
      "Transcript generated forENST00000408925.4\n"
     ]
    },
    {
     "name": "stderr",
     "output_type": "stream",
     "text": [
      "Generating embeddings:  30%|██▉       | 376/1267 [00:57<02:19,  6.38it/s]"
     ]
    },
    {
     "name": "stdout",
     "output_type": "stream",
     "text": [
      "Transcript generated forENST00000372836.5\n",
      "Transcript generated forENST00000244496.6\n"
     ]
    },
    {
     "name": "stderr",
     "output_type": "stream",
     "text": [
      "Generating embeddings:  30%|██▉       | 378/1267 [00:57<02:32,  5.82it/s]"
     ]
    },
    {
     "name": "stdout",
     "output_type": "stream",
     "text": [
      "Transcript generated forENST00000388752.8\n",
      "Transcript generated forENST00000230431.11\n"
     ]
    },
    {
     "name": "stderr",
     "output_type": "stream",
     "text": [
      "Generating embeddings:  30%|██▉       | 379/1267 [00:58<02:27,  6.02it/s]"
     ]
    },
    {
     "name": "stdout",
     "output_type": "stream",
     "text": [
      "Transcript generated forENST00000642195.1\n"
     ]
    },
    {
     "name": "stderr",
     "output_type": "stream",
     "text": [
      "Generating embeddings:  30%|███       | 381/1267 [00:58<02:42,  5.46it/s]"
     ]
    },
    {
     "name": "stdout",
     "output_type": "stream",
     "text": [
      "Transcript generated forENST00000372171.4\n",
      "Transcript generated forENST00000372133.7\n"
     ]
    },
    {
     "name": "stderr",
     "output_type": "stream",
     "text": [
      "Generating embeddings:  30%|███       | 383/1267 [00:58<02:22,  6.19it/s]"
     ]
    },
    {
     "name": "stdout",
     "output_type": "stream",
     "text": [
      "Transcript generated forENST00000523950.5\n",
      "Transcript generated forENST00000372014.5\n"
     ]
    },
    {
     "name": "stderr",
     "output_type": "stream",
     "text": [
      "Generating embeddings:  30%|███       | 385/1267 [00:59<02:14,  6.58it/s]"
     ]
    },
    {
     "name": "stdout",
     "output_type": "stream",
     "text": [
      "Transcript generated forENST00000211314.5\n",
      "Transcript generated forENST00000370963.9\n"
     ]
    },
    {
     "name": "stderr",
     "output_type": "stream",
     "text": [
      "Generating embeddings:  31%|███       | 387/1267 [00:59<01:57,  7.52it/s]"
     ]
    },
    {
     "name": "stdout",
     "output_type": "stream",
     "text": [
      "Transcript generated forENST00000370474.4\n",
      "Transcript generated forENST00000370081.6\n"
     ]
    },
    {
     "name": "stderr",
     "output_type": "stream",
     "text": [
      "Generating embeddings:  31%|███       | 389/1267 [00:59<01:53,  7.73it/s]"
     ]
    },
    {
     "name": "stdout",
     "output_type": "stream",
     "text": [
      "Transcript generated forENST00000344726.9\n",
      "Transcript generated forENST00000254759.8\n"
     ]
    },
    {
     "name": "stderr",
     "output_type": "stream",
     "text": [
      "Generating embeddings:  31%|███       | 391/1267 [00:59<01:57,  7.46it/s]"
     ]
    },
    {
     "name": "stdout",
     "output_type": "stream",
     "text": [
      "Transcript generated forENST00000405204.6\n",
      "Transcript generated forENST00000329970.8\n"
     ]
    },
    {
     "name": "stderr",
     "output_type": "stream",
     "text": [
      "Generating embeddings:  31%|███       | 394/1267 [01:00<01:51,  7.85it/s]"
     ]
    },
    {
     "name": "stdout",
     "output_type": "stream",
     "text": [
      "Transcript generated forENST00000398153.7\n",
      "Transcript generated forENST00000368328.4\n",
      "Transcript generated forENST00000230050.4\n"
     ]
    },
    {
     "name": "stderr",
     "output_type": "stream",
     "text": [
      "Generating embeddings:  31%|███▏      | 396/1267 [01:00<02:02,  7.13it/s]"
     ]
    },
    {
     "name": "stdout",
     "output_type": "stream",
     "text": [
      "Transcript generated forENST00000318471.5\n",
      "Transcript generated forENST00000617445.4\n"
     ]
    },
    {
     "name": "stderr",
     "output_type": "stream",
     "text": [
      "Generating embeddings:  31%|███▏      | 398/1267 [01:00<01:44,  8.34it/s]"
     ]
    },
    {
     "name": "stdout",
     "output_type": "stream",
     "text": [
      "Transcript generated forENST00000367660.4\n",
      "Transcript generated forENST00000367569.4\n"
     ]
    },
    {
     "name": "stderr",
     "output_type": "stream",
     "text": [
      "Generating embeddings:  32%|███▏      | 400/1267 [01:01<01:54,  7.57it/s]"
     ]
    },
    {
     "name": "stdout",
     "output_type": "stream",
     "text": [
      "Transcript generated forENST00000367495.4\n",
      "Transcript generated forENST00000367351.4\n"
     ]
    },
    {
     "name": "stderr",
     "output_type": "stream",
     "text": [
      "Generating embeddings:  32%|███▏      | 402/1267 [01:01<01:52,  7.72it/s]"
     ]
    },
    {
     "name": "stdout",
     "output_type": "stream",
     "text": [
      "Transcript generated forENST00000622845.5\n",
      "Transcript generated forENST00000367089.8\n"
     ]
    },
    {
     "name": "stderr",
     "output_type": "stream",
     "text": [
      "Generating embeddings:  32%|███▏      | 404/1267 [01:01<01:50,  7.82it/s]"
     ]
    },
    {
     "name": "stdout",
     "output_type": "stream",
     "text": [
      "Transcript generated forENST00000367034.5\n",
      "Transcript generated forENST00000361731.4\n"
     ]
    },
    {
     "name": "stderr",
     "output_type": "stream",
     "text": [
      "Generating embeddings:  32%|███▏      | 406/1267 [01:01<01:58,  7.26it/s]"
     ]
    },
    {
     "name": "stdout",
     "output_type": "stream",
     "text": [
      "Transcript generated forENST00000360961.11\n",
      "Transcript generated forENST00000620173.4\n"
     ]
    },
    {
     "name": "stderr",
     "output_type": "stream",
     "text": [
      "Generating embeddings:  32%|███▏      | 408/1267 [01:02<01:48,  7.94it/s]"
     ]
    },
    {
     "name": "stdout",
     "output_type": "stream",
     "text": [
      "Transcript generated forENST00000262193.7\n",
      "Transcript generated forENST00000316495.8\n"
     ]
    },
    {
     "name": "stderr",
     "output_type": "stream",
     "text": [
      "Generating embeddings:  32%|███▏      | 410/1267 [01:02<02:24,  5.93it/s]"
     ]
    },
    {
     "name": "stdout",
     "output_type": "stream",
     "text": [
      "Transcript generated forENST00000288607.3\n",
      "Transcript generated forENST00000397049.2\n"
     ]
    },
    {
     "name": "stderr",
     "output_type": "stream",
     "text": [
      "Generating embeddings:  32%|███▏      | 411/1267 [01:02<02:15,  6.34it/s]"
     ]
    },
    {
     "name": "stdout",
     "output_type": "stream",
     "text": [
      "Transcript generated forENST00000223029.8\n",
      "Transcript generated forENST00000358435.8\n"
     ]
    },
    {
     "name": "stderr",
     "output_type": "stream",
     "text": [
      "Generating embeddings:  33%|███▎      | 414/1267 [01:03<02:02,  6.96it/s]"
     ]
    },
    {
     "name": "stdout",
     "output_type": "stream",
     "text": [
      "Transcript generated forENST00000344962.9\n",
      "Transcript generated forENST00000275428.9\n"
     ]
    },
    {
     "name": "stderr",
     "output_type": "stream",
     "text": [
      "Generating embeddings:  33%|███▎      | 416/1267 [01:03<02:08,  6.65it/s]"
     ]
    },
    {
     "name": "stdout",
     "output_type": "stream",
     "text": [
      "Transcript generated forENST00000453212.5\n",
      "Transcript generated forENST00000223273.7\n"
     ]
    },
    {
     "name": "stderr",
     "output_type": "stream",
     "text": [
      "Generating embeddings:  33%|███▎      | 418/1267 [01:03<01:50,  7.69it/s]"
     ]
    },
    {
     "name": "stdout",
     "output_type": "stream",
     "text": [
      "Transcript generated forENST00000223324.3\n",
      "Transcript generated forENST00000402924.5\n",
      "Transcript generated forENST00000317534.6\n"
     ]
    },
    {
     "name": "stderr",
     "output_type": "stream",
     "text": [
      "Generating embeddings:  33%|███▎      | 422/1267 [01:03<01:27,  9.70it/s]"
     ]
    },
    {
     "name": "stdout",
     "output_type": "stream",
     "text": [
      "Transcript generated forENST00000415949.5\n",
      "Transcript generated forENST00000395422.4\n",
      "Transcript generated forENST00000307355.11\n"
     ]
    },
    {
     "name": "stderr",
     "output_type": "stream",
     "text": [
      "Generating embeddings:  33%|███▎      | 424/1267 [01:04<01:42,  8.21it/s]"
     ]
    },
    {
     "name": "stdout",
     "output_type": "stream",
     "text": [
      "Transcript generated forENST00000265758.7\n",
      "Transcript generated forENST00000222800.7\n"
     ]
    },
    {
     "name": "stderr",
     "output_type": "stream",
     "text": [
      "Generating embeddings:  34%|███▎      | 426/1267 [01:04<01:45,  7.97it/s]"
     ]
    },
    {
     "name": "stdout",
     "output_type": "stream",
     "text": [
      "Transcript generated forENST00000297873.9\n",
      "Transcript generated forENST00000248600.5\n"
     ]
    },
    {
     "name": "stderr",
     "output_type": "stream",
     "text": [
      "Generating embeddings:  34%|███▍      | 428/1267 [01:04<01:30,  9.22it/s]"
     ]
    },
    {
     "name": "stdout",
     "output_type": "stream",
     "text": [
      "Transcript generated forENST00000248553.7\n",
      "Transcript generated forENST00000257663.4\n"
     ]
    },
    {
     "name": "stderr",
     "output_type": "stream",
     "text": [
      "Generating embeddings:  34%|███▍      | 430/1267 [01:04<01:37,  8.57it/s]"
     ]
    },
    {
     "name": "stdout",
     "output_type": "stream",
     "text": [
      "Transcript generated forENST00000433078.5\n",
      "Transcript generated forENST00000297205.7\n"
     ]
    },
    {
     "name": "stderr",
     "output_type": "stream",
     "text": [
      "Generating embeddings:  34%|███▍      | 432/1267 [01:05<01:46,  7.81it/s]"
     ]
    },
    {
     "name": "stdout",
     "output_type": "stream",
     "text": [
      "Transcript generated forENST00000222547.8\n",
      "Transcript generated forENST00000248566.3\n"
     ]
    },
    {
     "name": "stderr",
     "output_type": "stream",
     "text": [
      "Generating embeddings:  34%|███▍      | 433/1267 [01:05<01:40,  8.28it/s]"
     ]
    },
    {
     "name": "stdout",
     "output_type": "stream",
     "text": [
      "Transcript generated forENST00000432641.3\n",
      "Transcript generated forENST00000297290.4\n"
     ]
    },
    {
     "name": "stderr",
     "output_type": "stream",
     "text": [
      "Generating embeddings:  34%|███▍      | 436/1267 [01:05<01:50,  7.49it/s]"
     ]
    },
    {
     "name": "stdout",
     "output_type": "stream",
     "text": [
      "Transcript generated forENST00000403633.6\n",
      "Transcript generated forENST00000303904.8\n"
     ]
    },
    {
     "name": "stderr",
     "output_type": "stream",
     "text": [
      "Generating embeddings:  35%|███▍      | 438/1267 [01:05<01:59,  6.95it/s]"
     ]
    },
    {
     "name": "stdout",
     "output_type": "stream",
     "text": [
      "Transcript generated forENST00000262932.5\n",
      "Transcript generated forENST00000398075.4\n"
     ]
    },
    {
     "name": "stderr",
     "output_type": "stream",
     "text": [
      "Generating embeddings:  35%|███▍      | 440/1267 [01:06<01:43,  8.01it/s]"
     ]
    },
    {
     "name": "stdout",
     "output_type": "stream",
     "text": [
      "Transcript generated forENST00000341942.9\n",
      "Transcript generated forENST00000292330.3\n"
     ]
    },
    {
     "name": "stderr",
     "output_type": "stream",
     "text": [
      "Generating embeddings:  35%|███▍      | 441/1267 [01:06<02:00,  6.86it/s]"
     ]
    },
    {
     "name": "stdout",
     "output_type": "stream",
     "text": [
      "Transcript generated forENST00000393950.7\n",
      "Transcript generated forENST00000303151.5\n"
     ]
    },
    {
     "name": "stderr",
     "output_type": "stream",
     "text": [
      "Generating embeddings:  35%|███▌      | 444/1267 [01:06<01:44,  7.87it/s]"
     ]
    },
    {
     "name": "stdout",
     "output_type": "stream",
     "text": [
      "Transcript generated forENST00000337619.11\n",
      "Transcript generated forENST00000305105.3\n",
      "Transcript generated forENST00000223136.5\n"
     ]
    },
    {
     "name": "stderr",
     "output_type": "stream",
     "text": [
      "Generating embeddings:  35%|███▌      | 447/1267 [01:07<01:34,  8.66it/s]"
     ]
    },
    {
     "name": "stdout",
     "output_type": "stream",
     "text": [
      "Transcript generated forENST00000292614.9\n",
      "Transcript generated forENST00000397764.8\n"
     ]
    },
    {
     "name": "stderr",
     "output_type": "stream",
     "text": [
      "Generating embeddings:  35%|███▌      | 449/1267 [01:07<01:38,  8.32it/s]"
     ]
    },
    {
     "name": "stdout",
     "output_type": "stream",
     "text": [
      "Transcript generated forENST00000000233.10\n",
      "Transcript generated forENST00000257696.5\n"
     ]
    },
    {
     "name": "stderr",
     "output_type": "stream",
     "text": [
      "Generating embeddings:  36%|███▌      | 451/1267 [01:07<01:33,  8.72it/s]"
     ]
    },
    {
     "name": "stdout",
     "output_type": "stream",
     "text": [
      "Transcript generated forENST00000249289.5\n",
      "Transcript generated forENST00000448878.6\n"
     ]
    },
    {
     "name": "stderr",
     "output_type": "stream",
     "text": [
      "Generating embeddings:  36%|███▌      | 453/1267 [01:07<01:54,  7.11it/s]"
     ]
    },
    {
     "name": "stdout",
     "output_type": "stream",
     "text": [
      "Transcript generated forENST00000285930.9\n",
      "Transcript generated forENST00000393114.7\n"
     ]
    },
    {
     "name": "stderr",
     "output_type": "stream",
     "text": [
      "Generating embeddings:  36%|███▌      | 455/1267 [01:08<01:50,  7.35it/s]"
     ]
    },
    {
     "name": "stdout",
     "output_type": "stream",
     "text": [
      "Transcript generated forENST00000348225.7\n",
      "Transcript generated forENST00000297534.7\n"
     ]
    },
    {
     "name": "stderr",
     "output_type": "stream",
     "text": [
      "Generating embeddings:  36%|███▌      | 457/1267 [01:08<01:42,  7.89it/s]"
     ]
    },
    {
     "name": "stdout",
     "output_type": "stream",
     "text": [
      "Transcript generated forENST00000481508.1\n",
      "Transcript generated forENST00000358406.10\n"
     ]
    },
    {
     "name": "stderr",
     "output_type": "stream",
     "text": [
      "Generating embeddings:  36%|███▌      | 459/1267 [01:08<01:46,  7.56it/s]"
     ]
    },
    {
     "name": "stdout",
     "output_type": "stream",
     "text": [
      "Transcript generated forENST00000485972.6\n",
      "Transcript generated forENST00000532059.5\n"
     ]
    },
    {
     "name": "stderr",
     "output_type": "stream",
     "text": [
      "Generating embeddings:  36%|███▋      | 461/1267 [01:08<01:42,  7.89it/s]"
     ]
    },
    {
     "name": "stdout",
     "output_type": "stream",
     "text": [
      "Transcript generated forENST00000380254.7\n",
      "Transcript generated forENST00000221114.8\n"
     ]
    },
    {
     "name": "stderr",
     "output_type": "stream",
     "text": [
      "Generating embeddings:  37%|███▋      | 464/1267 [01:09<01:27,  9.23it/s]"
     ]
    },
    {
     "name": "stdout",
     "output_type": "stream",
     "text": [
      "Transcript generated forENST00000265616.10\n",
      "Transcript generated forENST00000338825.5\n",
      "Transcript generated forENST00000311351.9\n"
     ]
    },
    {
     "name": "stderr",
     "output_type": "stream",
     "text": [
      "Generating embeddings:  37%|███▋      | 466/1267 [01:09<01:43,  7.73it/s]"
     ]
    },
    {
     "name": "stdout",
     "output_type": "stream",
     "text": [
      "Transcript generated forENST00000265421.9\n",
      "Transcript generated forENST00000022615.9\n"
     ]
    },
    {
     "name": "stderr",
     "output_type": "stream",
     "text": [
      "Generating embeddings:  37%|███▋      | 469/1267 [01:09<01:28,  9.04it/s]"
     ]
    },
    {
     "name": "stdout",
     "output_type": "stream",
     "text": [
      "Transcript generated forENST00000408965.4\n",
      "Transcript generated forENST00000521262.5\n",
      "Transcript generated forENST00000260118.7\n"
     ]
    },
    {
     "name": "stderr",
     "output_type": "stream",
     "text": [
      "Generating embeddings:  37%|███▋      | 471/1267 [01:10<01:30,  8.76it/s]"
     ]
    },
    {
     "name": "stdout",
     "output_type": "stream",
     "text": [
      "Transcript generated forENST00000357849.9\n",
      "Transcript generated forENST00000352983.7\n",
      "Transcript generated forENST00000284818.7\n"
     ]
    },
    {
     "name": "stderr",
     "output_type": "stream",
     "text": [
      "Generating embeddings:  37%|███▋      | 475/1267 [01:10<01:11, 11.12it/s]"
     ]
    },
    {
     "name": "stdout",
     "output_type": "stream",
     "text": [
      "Transcript generated forENST00000276585.9\n",
      "Transcript generated forENST00000297258.11\n",
      "Transcript generated forENST00000619594.5\n"
     ]
    },
    {
     "name": "stderr",
     "output_type": "stream",
     "text": [
      "Generating embeddings:  38%|███▊      | 477/1267 [01:10<01:17, 10.24it/s]"
     ]
    },
    {
     "name": "stdout",
     "output_type": "stream",
     "text": [
      "Transcript generated forENST00000517562.3\n",
      "Transcript generated forENST00000287025.4\n",
      "Transcript generated forENST00000521291.5\n"
     ]
    },
    {
     "name": "stderr",
     "output_type": "stream",
     "text": [
      "Generating embeddings:  38%|███▊      | 479/1267 [01:10<01:14, 10.56it/s]"
     ]
    },
    {
     "name": "stdout",
     "output_type": "stream",
     "text": [
      "Transcript generated forENST00000254878.8\n",
      "Transcript generated forENST00000523016.1\n"
     ]
    },
    {
     "name": "stderr",
     "output_type": "stream",
     "text": [
      "Generating embeddings:  38%|███▊      | 481/1267 [01:10<01:20,  9.79it/s]"
     ]
    },
    {
     "name": "stdout",
     "output_type": "stream",
     "text": [
      "Transcript generated forENST00000353107.8\n"
     ]
    },
    {
     "name": "stderr",
     "output_type": "stream",
     "text": [
      "Generating embeddings:  38%|███▊      | 482/1267 [01:11<01:43,  7.61it/s]"
     ]
    },
    {
     "name": "stdout",
     "output_type": "stream",
     "text": [
      "Transcript generated forENST00000297347.7\n",
      "Transcript generated forENST00000524796.6\n"
     ]
    },
    {
     "name": "stderr",
     "output_type": "stream",
     "text": [
      "Generating embeddings:  38%|███▊      | 485/1267 [01:11<01:38,  7.96it/s]"
     ]
    },
    {
     "name": "stdout",
     "output_type": "stream",
     "text": [
      "Transcript generated forENST00000306185.8\n",
      "Transcript generated forENST00000276704.6\n"
     ]
    },
    {
     "name": "stderr",
     "output_type": "stream",
     "text": [
      "Generating embeddings:  38%|███▊      | 486/1267 [01:11<01:36,  8.09it/s]"
     ]
    },
    {
     "name": "stdout",
     "output_type": "stream",
     "text": [
      "Transcript generated forENST00000276692.11\n",
      "Transcript generated forENST00000276689.8\n"
     ]
    },
    {
     "name": "stderr",
     "output_type": "stream",
     "text": [
      "Generating embeddings:  39%|███▊      | 489/1267 [01:12<01:40,  7.72it/s]"
     ]
    },
    {
     "name": "stdout",
     "output_type": "stream",
     "text": [
      "Transcript generated forENST00000287437.8\n",
      "Transcript generated forENST00000517503.1\n"
     ]
    },
    {
     "name": "stderr",
     "output_type": "stream",
     "text": [
      "Generating embeddings:  39%|███▉      | 491/1267 [01:12<01:44,  7.43it/s]"
     ]
    },
    {
     "name": "stdout",
     "output_type": "stream",
     "text": [
      "Transcript generated forENST00000340042.2\n",
      "Transcript generated forENST00000425753.7\n"
     ]
    },
    {
     "name": "stderr",
     "output_type": "stream",
     "text": [
      "Generating embeddings:  39%|███▉      | 493/1267 [01:12<01:44,  7.40it/s]"
     ]
    },
    {
     "name": "stdout",
     "output_type": "stream",
     "text": [
      "Transcript generated forENST00000316052.6\n",
      "Transcript generated forENST00000318911.5\n"
     ]
    },
    {
     "name": "stderr",
     "output_type": "stream",
     "text": [
      "Generating embeddings:  39%|███▉      | 495/1267 [01:12<01:44,  7.42it/s]"
     ]
    },
    {
     "name": "stdout",
     "output_type": "stream",
     "text": [
      "Transcript generated forENST00000398712.7\n",
      "Transcript generated forENST00000292510.6\n"
     ]
    },
    {
     "name": "stderr",
     "output_type": "stream",
     "text": [
      "Generating embeddings:  39%|███▉      | 497/1267 [01:13<01:35,  8.09it/s]"
     ]
    },
    {
     "name": "stdout",
     "output_type": "stream",
     "text": [
      "Transcript generated forENST00000262584.7\n",
      "Transcript generated forENST00000223864.7\n"
     ]
    },
    {
     "name": "stderr",
     "output_type": "stream",
     "text": [
      "Generating embeddings:  39%|███▉      | 499/1267 [01:13<01:41,  7.59it/s]"
     ]
    },
    {
     "name": "stdout",
     "output_type": "stream",
     "text": [
      "Transcript generated forENST00000380394.9\n",
      "Transcript generated forENST00000304494.9\n"
     ]
    },
    {
     "name": "stderr",
     "output_type": "stream",
     "text": [
      "Generating embeddings:  40%|███▉      | 501/1267 [01:13<01:39,  7.70it/s]"
     ]
    },
    {
     "name": "stdout",
     "output_type": "stream",
     "text": [
      "Transcript generated forENST00000379847.8\n",
      "Transcript generated forENST00000379155.9\n"
     ]
    },
    {
     "name": "stderr",
     "output_type": "stream",
     "text": [
      "Generating embeddings:  40%|███▉      | 502/1267 [01:13<01:36,  7.94it/s]"
     ]
    },
    {
     "name": "stdout",
     "output_type": "stream",
     "text": [
      "Transcript generated forENST00000297613.4\n",
      "Transcript generated forENST00000259632.12\n"
     ]
    },
    {
     "name": "stderr",
     "output_type": "stream",
     "text": [
      "Generating embeddings:  40%|███▉      | 505/1267 [01:14<01:30,  8.44it/s]"
     ]
    },
    {
     "name": "stdout",
     "output_type": "stream",
     "text": [
      "Transcript generated forENST00000356493.10\n",
      "Transcript generated forENST00000378409.7\n"
     ]
    },
    {
     "name": "stderr",
     "output_type": "stream",
     "text": [
      "Generating embeddings:  40%|████      | 507/1267 [01:14<01:39,  7.60it/s]"
     ]
    },
    {
     "name": "stdout",
     "output_type": "stream",
     "text": [
      "Transcript generated forENST00000647435.1\n",
      "Transcript generated forENST00000353704.3\n"
     ]
    },
    {
     "name": "stderr",
     "output_type": "stream",
     "text": [
      "Generating embeddings:  40%|████      | 509/1267 [01:14<01:28,  8.53it/s]"
     ]
    },
    {
     "name": "stdout",
     "output_type": "stream",
     "text": [
      "Transcript generated forENST00000259667.6\n",
      "Transcript generated forENST00000433436.6\n"
     ]
    },
    {
     "name": "stderr",
     "output_type": "stream",
     "text": [
      "Generating embeddings:  40%|████      | 512/1267 [01:14<01:18,  9.60it/s]"
     ]
    },
    {
     "name": "stdout",
     "output_type": "stream",
     "text": [
      "Transcript generated forENST00000318158.11\n",
      "Transcript generated forENST00000321301.7\n",
      "Transcript generated forENST00000334731.7\n"
     ]
    },
    {
     "name": "stderr",
     "output_type": "stream",
     "text": [
      "Generating embeddings:  41%|████      | 514/1267 [01:15<01:22,  9.14it/s]"
     ]
    },
    {
     "name": "stdout",
     "output_type": "stream",
     "text": [
      "Transcript generated forENST00000346234.7\n",
      "Transcript generated forENST00000376419.5\n",
      "Transcript generated forENST00000314355.7\n"
     ]
    },
    {
     "name": "stderr",
     "output_type": "stream",
     "text": [
      "Generating embeddings:  41%|████      | 518/1267 [01:15<01:13, 10.19it/s]"
     ]
    },
    {
     "name": "stdout",
     "output_type": "stream",
     "text": [
      "Transcript generated forENST00000252506.11\n",
      "Transcript generated forENST00000375464.7\n",
      "Transcript generated forENST00000375446.5\n"
     ]
    },
    {
     "name": "stderr",
     "output_type": "stream",
     "text": [
      "Generating embeddings:  41%|████      | 520/1267 [01:15<01:20,  9.32it/s]"
     ]
    },
    {
     "name": "stdout",
     "output_type": "stream",
     "text": [
      "Transcript generated forENST00000375128.5\n",
      "Transcript generated forENST00000339399.5\n"
     ]
    },
    {
     "name": "stderr",
     "output_type": "stream",
     "text": [
      "Generating embeddings:  41%|████▏     | 523/1267 [01:16<01:15,  9.82it/s]"
     ]
    },
    {
     "name": "stdout",
     "output_type": "stream",
     "text": [
      "Transcript generated forENST00000210444.6\n",
      "Transcript generated forENST00000223641.5\n",
      "Transcript generated forENST00000374517.6\n"
     ]
    },
    {
     "name": "stderr",
     "output_type": "stream",
     "text": [
      "Generating embeddings:  41%|████▏     | 525/1267 [01:16<01:13, 10.04it/s]"
     ]
    },
    {
     "name": "stdout",
     "output_type": "stream",
     "text": [
      "Transcript generated forENST00000374293.5\n",
      "Transcript generated forENST00000374206.4\n",
      "Transcript generated forENST00000373768.4\n"
     ]
    },
    {
     "name": "stderr",
     "output_type": "stream",
     "text": [
      "Generating embeddings:  42%|████▏     | 527/1267 [01:16<01:10, 10.50it/s]"
     ]
    },
    {
     "name": "stdout",
     "output_type": "stream",
     "text": [
      "Transcript generated forENST00000259457.8\n",
      "Transcript generated forENST00000361436.10\n"
     ]
    },
    {
     "name": "stderr",
     "output_type": "stream",
     "text": [
      "Generating embeddings:  42%|████▏     | 529/1267 [01:16<01:14,  9.91it/s]"
     ]
    },
    {
     "name": "stdout",
     "output_type": "stream",
     "text": [
      "Transcript generated forENST00000373284.10\n",
      "Transcript generated forENST00000372994.2\n"
     ]
    },
    {
     "name": "stderr",
     "output_type": "stream",
     "text": [
      "Generating embeddings:  42%|████▏     | 532/1267 [01:17<01:31,  8.04it/s]"
     ]
    },
    {
     "name": "stdout",
     "output_type": "stream",
     "text": [
      "Transcript generated forENST00000418976.1\n",
      "Transcript generated forENST00000300452.8\n"
     ]
    },
    {
     "name": "stderr",
     "output_type": "stream",
     "text": [
      "Generating embeddings:  42%|████▏     | 534/1267 [01:17<01:38,  7.41it/s]"
     ]
    },
    {
     "name": "stdout",
     "output_type": "stream",
     "text": [
      "Transcript generated forENST00000372663.9\n",
      "Transcript generated forENST00000372642.5\n"
     ]
    },
    {
     "name": "stderr",
     "output_type": "stream",
     "text": [
      "Generating embeddings:  42%|████▏     | 536/1267 [01:17<01:50,  6.60it/s]"
     ]
    },
    {
     "name": "stdout",
     "output_type": "stream",
     "text": [
      "Transcript generated forENST00000292035.10\n",
      "Transcript generated forENST00000350499.6\n"
     ]
    },
    {
     "name": "stderr",
     "output_type": "stream",
     "text": [
      "Generating embeddings:  42%|████▏     | 537/1267 [01:17<01:53,  6.46it/s]"
     ]
    },
    {
     "name": "stdout",
     "output_type": "stream",
     "text": [
      "Transcript generated forENST00000323345.11\n"
     ]
    },
    {
     "name": "stderr",
     "output_type": "stream",
     "text": [
      "Generating embeddings:  42%|████▏     | 538/1267 [01:18<02:04,  5.85it/s]"
     ]
    },
    {
     "name": "stdout",
     "output_type": "stream",
     "text": [
      "Transcript generated forENST00000371974.8\n"
     ]
    },
    {
     "name": "stderr",
     "output_type": "stream",
     "text": [
      "Generating embeddings:  43%|████▎     | 539/1267 [01:18<02:18,  5.24it/s]"
     ]
    },
    {
     "name": "stdout",
     "output_type": "stream",
     "text": [
      "Transcript generated forENST00000371964.5\n"
     ]
    },
    {
     "name": "stderr",
     "output_type": "stream",
     "text": [
      "Generating embeddings:  43%|████▎     | 541/1267 [01:19<04:00,  3.02it/s]"
     ]
    },
    {
     "name": "stdout",
     "output_type": "stream",
     "text": [
      "Transcript generated forENST00000429260.7\n",
      "Transcript generated forENST00000290079.9\n"
     ]
    },
    {
     "name": "stderr",
     "output_type": "stream",
     "text": [
      "Generating embeddings:  43%|████▎     | 542/1267 [01:19<03:13,  3.75it/s]"
     ]
    },
    {
     "name": "stdout",
     "output_type": "stream",
     "text": [
      "Transcript generated forENST00000247665.12\n",
      "Transcript generated forENST00000224073.6\n"
     ]
    },
    {
     "name": "stderr",
     "output_type": "stream",
     "text": [
      "Generating embeddings:  43%|████▎     | 544/1267 [01:20<03:31,  3.42it/s]"
     ]
    },
    {
     "name": "stdout",
     "output_type": "stream",
     "text": [
      "Transcript generated forENST00000371620.4\n"
     ]
    },
    {
     "name": "stderr",
     "output_type": "stream",
     "text": [
      "Generating embeddings:  43%|████▎     | 546/1267 [01:21<03:46,  3.19it/s]"
     ]
    },
    {
     "name": "stdout",
     "output_type": "stream",
     "text": [
      "Transcript generated forENST00000371601.5\n",
      "Transcript generated forENST00000322310.10\n"
     ]
    },
    {
     "name": "stderr",
     "output_type": "stream",
     "text": [
      "Generating embeddings:  43%|████▎     | 547/1267 [01:21<03:24,  3.53it/s]"
     ]
    },
    {
     "name": "stdout",
     "output_type": "stream",
     "text": [
      "Transcript generated forENST00000298585.3\n"
     ]
    },
    {
     "name": "stderr",
     "output_type": "stream",
     "text": [
      "Generating embeddings:  43%|████▎     | 549/1267 [01:21<03:08,  3.82it/s]"
     ]
    },
    {
     "name": "stdout",
     "output_type": "stream",
     "text": [
      "Transcript generated forENST00000380554.5\n",
      "Transcript generated forENST00000356708.12\n"
     ]
    },
    {
     "name": "stderr",
     "output_type": "stream",
     "text": [
      "Generating embeddings:  43%|████▎     | 551/1267 [01:22<02:27,  4.87it/s]"
     ]
    },
    {
     "name": "stdout",
     "output_type": "stream",
     "text": [
      "Transcript generated forENST00000281141.9\n",
      "Transcript generated forENST00000376836.8\n"
     ]
    },
    {
     "name": "stderr",
     "output_type": "stream",
     "text": [
      "Generating embeddings:  44%|████▎     | 553/1267 [01:22<02:23,  4.97it/s]"
     ]
    },
    {
     "name": "stdout",
     "output_type": "stream",
     "text": [
      "Transcript generated forENST00000395797.1\n",
      "Transcript generated forENST00000580018.4\n"
     ]
    },
    {
     "name": "stderr",
     "output_type": "stream",
     "text": [
      "Generating embeddings:  44%|████▍     | 555/1267 [01:22<02:14,  5.28it/s]"
     ]
    },
    {
     "name": "stdout",
     "output_type": "stream",
     "text": [
      "Transcript generated forENST00000225171.7\n",
      "Transcript generated forENST00000242465.4\n"
     ]
    },
    {
     "name": "stderr",
     "output_type": "stream",
     "text": [
      "Generating embeddings:  44%|████▍     | 556/1267 [01:22<02:11,  5.40it/s]"
     ]
    },
    {
     "name": "stdout",
     "output_type": "stream",
     "text": [
      "Transcript generated forENST00000373279.6\n"
     ]
    },
    {
     "name": "stderr",
     "output_type": "stream",
     "text": [
      "Generating embeddings:  44%|████▍     | 559/1267 [01:23<01:44,  6.80it/s]"
     ]
    },
    {
     "name": "stdout",
     "output_type": "stream",
     "text": [
      "Transcript generated forENST00000373232.8\n",
      "Transcript generated forENST00000299299.4\n",
      "Transcript generated forENST00000372833.6\n"
     ]
    },
    {
     "name": "stderr",
     "output_type": "stream",
     "text": [
      "Generating embeddings:  44%|████▍     | 562/1267 [01:23<01:22,  8.51it/s]"
     ]
    },
    {
     "name": "stdout",
     "output_type": "stream",
     "text": [
      "Transcript generated forENST00000372538.8\n",
      "Transcript generated forENST00000645440.1\n",
      "Transcript generated forENST00000372017.4\n"
     ]
    },
    {
     "name": "stderr",
     "output_type": "stream",
     "text": [
      "Generating embeddings:  45%|████▍     | 564/1267 [01:24<01:47,  6.56it/s]"
     ]
    },
    {
     "name": "stdout",
     "output_type": "stream",
     "text": [
      "Transcript generated forENST00000372013.8\n",
      "Transcript generated forENST00000224784.10\n"
     ]
    },
    {
     "name": "stderr",
     "output_type": "stream",
     "text": [
      "Generating embeddings:  45%|████▍     | 566/1267 [01:24<01:41,  6.91it/s]"
     ]
    },
    {
     "name": "stdout",
     "output_type": "stream",
     "text": [
      "Transcript generated forENST00000329399.7\n",
      "Transcript generated forENST00000370902.8\n"
     ]
    },
    {
     "name": "stderr",
     "output_type": "stream",
     "text": [
      "Generating embeddings:  45%|████▍     | 567/1267 [01:24<01:43,  6.79it/s]"
     ]
    },
    {
     "name": "stdout",
     "output_type": "stream",
     "text": [
      "Transcript generated forENST00000370626.4\n"
     ]
    },
    {
     "name": "stderr",
     "output_type": "stream",
     "text": [
      "Generating embeddings:  45%|████▍     | 568/1267 [01:24<02:06,  5.50it/s]"
     ]
    },
    {
     "name": "stdout",
     "output_type": "stream",
     "text": [
      "Transcript generated forENST00000370476.10\n"
     ]
    },
    {
     "name": "stderr",
     "output_type": "stream",
     "text": [
      "Generating embeddings:  45%|████▍     | 570/1267 [01:25<02:09,  5.40it/s]"
     ]
    },
    {
     "name": "stdout",
     "output_type": "stream",
     "text": [
      "Transcript generated forENST00000299166.9\n",
      "Transcript generated forENST00000318364.12\n"
     ]
    },
    {
     "name": "stderr",
     "output_type": "stream",
     "text": [
      "Generating embeddings:  45%|████▌     | 572/1267 [01:25<01:46,  6.53it/s]"
     ]
    },
    {
     "name": "stdout",
     "output_type": "stream",
     "text": [
      "Transcript generated forENST00000370151.9\n",
      "Transcript generated forENST00000370110.5\n"
     ]
    },
    {
     "name": "stderr",
     "output_type": "stream",
     "text": [
      "Generating embeddings:  45%|████▌     | 574/1267 [01:25<01:33,  7.38it/s]"
     ]
    },
    {
     "name": "stdout",
     "output_type": "stream",
     "text": [
      "Transcript generated forENST00000369937.5\n",
      "Transcript generated forENST00000369825.6\n",
      "Transcript generated forENST00000369713.10\n"
     ]
    },
    {
     "name": "stderr",
     "output_type": "stream",
     "text": [
      "Generating embeddings:  45%|████▌     | 576/1267 [01:25<01:20,  8.59it/s]"
     ]
    },
    {
     "name": "stdout",
     "output_type": "stream",
     "text": [
      "Transcript generated forENST00000369103.3\n"
     ]
    },
    {
     "name": "stderr",
     "output_type": "stream",
     "text": [
      "Generating embeddings:  46%|████▌     | 578/1267 [01:26<01:44,  6.62it/s]"
     ]
    },
    {
     "name": "stdout",
     "output_type": "stream",
     "text": [
      "Transcript generated forENST00000369023.8\n",
      "Transcript generated forENST00000368858.9\n"
     ]
    },
    {
     "name": "stderr",
     "output_type": "stream",
     "text": [
      "Generating embeddings:  46%|████▌     | 580/1267 [01:26<01:40,  6.81it/s]"
     ]
    },
    {
     "name": "stdout",
     "output_type": "stream",
     "text": [
      "Transcript generated forENST00000278100.11\n",
      "Transcript generated forENST00000306010.8\n"
     ]
    },
    {
     "name": "stderr",
     "output_type": "stream",
     "text": [
      "Generating embeddings:  46%|████▌     | 581/1267 [01:26<01:37,  7.05it/s]"
     ]
    },
    {
     "name": "stdout",
     "output_type": "stream",
     "text": [
      "Transcript generated forENST00000361518.10\n",
      "Transcript generated forENST00000278025.9\n"
     ]
    },
    {
     "name": "stderr",
     "output_type": "stream",
     "text": [
      "Generating embeddings:  46%|████▌     | 585/1267 [01:27<01:20,  8.51it/s]"
     ]
    },
    {
     "name": "stdout",
     "output_type": "stream",
     "text": [
      "Transcript generated forENST00000368547.4\n",
      "Transcript generated forENST00000616316.1\n",
      "Transcript generated forENST00000328221.5\n"
     ]
    },
    {
     "name": "stderr",
     "output_type": "stream",
     "text": [
      "Generating embeddings:  46%|████▋     | 587/1267 [01:27<01:24,  8.04it/s]"
     ]
    },
    {
     "name": "stdout",
     "output_type": "stream",
     "text": [
      "Transcript generated forENST00000399808.5\n",
      "Transcript generated forENST00000451590.5\n"
     ]
    },
    {
     "name": "stderr",
     "output_type": "stream",
     "text": [
      "Generating embeddings:  46%|████▋     | 589/1267 [01:27<01:23,  8.16it/s]"
     ]
    },
    {
     "name": "stdout",
     "output_type": "stream",
     "text": [
      "Transcript generated forENST00000397510.7\n",
      "Transcript generated forENST00000319006.8\n"
     ]
    },
    {
     "name": "stderr",
     "output_type": "stream",
     "text": [
      "Generating embeddings:  47%|████▋     | 591/1267 [01:27<01:30,  7.48it/s]"
     ]
    },
    {
     "name": "stdout",
     "output_type": "stream",
     "text": [
      "Transcript generated forENST00000530797.5\n",
      "Transcript generated forENST00000322028.5\n"
     ]
    },
    {
     "name": "stderr",
     "output_type": "stream",
     "text": [
      "Generating embeddings:  47%|████▋     | 593/1267 [01:28<01:51,  6.03it/s]"
     ]
    },
    {
     "name": "stdout",
     "output_type": "stream",
     "text": [
      "Transcript generated forENST00000397404.5\n",
      "Transcript generated forENST00000397298.8\n"
     ]
    },
    {
     "name": "stderr",
     "output_type": "stream",
     "text": [
      "Generating embeddings:  47%|████▋     | 595/1267 [01:28<01:43,  6.50it/s]"
     ]
    },
    {
     "name": "stdout",
     "output_type": "stream",
     "text": [
      "Transcript generated forENST00000263645.10\n",
      "Transcript generated forENST00000314222.5\n"
     ]
    },
    {
     "name": "stderr",
     "output_type": "stream",
     "text": [
      "Generating embeddings:  47%|████▋     | 597/1267 [01:28<01:43,  6.45it/s]"
     ]
    },
    {
     "name": "stdout",
     "output_type": "stream",
     "text": [
      "Transcript generated forENST00000351018.5\n",
      "Transcript generated forENST00000303927.4\n"
     ]
    },
    {
     "name": "stderr",
     "output_type": "stream",
     "text": [
      "Generating embeddings:  47%|████▋     | 598/1267 [01:29<01:41,  6.62it/s]"
     ]
    },
    {
     "name": "stdout",
     "output_type": "stream",
     "text": [
      "Transcript generated forENST00000309377.9\n",
      "Transcript generated forENST00000525634.6\n"
     ]
    },
    {
     "name": "stderr",
     "output_type": "stream",
     "text": [
      "Generating embeddings:  47%|████▋     | 601/1267 [01:29<01:39,  6.71it/s]"
     ]
    },
    {
     "name": "stdout",
     "output_type": "stream",
     "text": [
      "Transcript generated forENST00000265965.10\n",
      "Transcript generated forENST00000328697.11\n"
     ]
    },
    {
     "name": "stderr",
     "output_type": "stream",
     "text": [
      "Generating embeddings:  48%|████▊     | 603/1267 [01:29<01:28,  7.52it/s]"
     ]
    },
    {
     "name": "stdout",
     "output_type": "stream",
     "text": [
      "Transcript generated forENST00000278200.5\n",
      "Transcript generated forENST00000395787.4\n"
     ]
    },
    {
     "name": "stderr",
     "output_type": "stream",
     "text": [
      "Generating embeddings:  48%|████▊     | 604/1267 [01:29<01:25,  7.72it/s]"
     ]
    },
    {
     "name": "stdout",
     "output_type": "stream",
     "text": [
      "Transcript generated forENST00000446510.6\n",
      "Transcript generated forENST00000637401.1\n"
     ]
    },
    {
     "name": "stderr",
     "output_type": "stream",
     "text": [
      "Generating embeddings:  48%|████▊     | 607/1267 [01:30<01:26,  7.61it/s]"
     ]
    },
    {
     "name": "stdout",
     "output_type": "stream",
     "text": [
      "Transcript generated forENST00000617612.3\n",
      "Transcript generated forENST00000405308.6\n"
     ]
    },
    {
     "name": "stderr",
     "output_type": "stream",
     "text": [
      "Generating embeddings:  48%|████▊     | 608/1267 [01:30<01:23,  7.90it/s]"
     ]
    },
    {
     "name": "stdout",
     "output_type": "stream",
     "text": [
      "Transcript generated forENST00000263774.9\n",
      "Transcript generated forENST00000257245.9\n"
     ]
    },
    {
     "name": "stderr",
     "output_type": "stream",
     "text": [
      "Generating embeddings:  48%|████▊     | 610/1267 [01:30<01:18,  8.41it/s]"
     ]
    },
    {
     "name": "stdout",
     "output_type": "stream",
     "text": [
      "Transcript generated forENST00000287156.9\n"
     ]
    },
    {
     "name": "stderr",
     "output_type": "stream",
     "text": [
      "Generating embeddings:  48%|████▊     | 612/1267 [01:30<01:29,  7.28it/s]"
     ]
    },
    {
     "name": "stdout",
     "output_type": "stream",
     "text": [
      "Transcript generated forENST00000431606.4\n",
      "Transcript generated forENST00000534355.6\n"
     ]
    },
    {
     "name": "stderr",
     "output_type": "stream",
     "text": [
      "Generating embeddings:  48%|████▊     | 613/1267 [01:31<01:30,  7.22it/s]"
     ]
    },
    {
     "name": "stdout",
     "output_type": "stream",
     "text": [
      "Transcript generated forENST00000300151.5\n"
     ]
    },
    {
     "name": "stderr",
     "output_type": "stream",
     "text": [
      "Generating embeddings:  49%|████▊     | 615/1267 [01:31<01:43,  6.30it/s]"
     ]
    },
    {
     "name": "stdout",
     "output_type": "stream",
     "text": [
      "Transcript generated forENST00000278826.11\n",
      "Transcript generated forENST00000515837.7\n"
     ]
    },
    {
     "name": "stderr",
     "output_type": "stream",
     "text": [
      "Generating embeddings:  49%|████▊     | 617/1267 [01:31<01:33,  6.98it/s]"
     ]
    },
    {
     "name": "stdout",
     "output_type": "stream",
     "text": [
      "Transcript generated forENST00000301761.7\n",
      "Transcript generated forENST00000537328.6\n"
     ]
    },
    {
     "name": "stderr",
     "output_type": "stream",
     "text": [
      "Generating embeddings:  49%|████▉     | 619/1267 [01:32<01:59,  5.44it/s]"
     ]
    },
    {
     "name": "stdout",
     "output_type": "stream",
     "text": [
      "Transcript generated forENST00000273550.12\n",
      "Transcript generated forENST00000257247.11\n"
     ]
    },
    {
     "name": "stderr",
     "output_type": "stream",
     "text": [
      "Generating embeddings:  49%|████▉     | 621/1267 [01:32<01:58,  5.44it/s]"
     ]
    },
    {
     "name": "stdout",
     "output_type": "stream",
     "text": [
      "Transcript generated forENST00000265471.10\n",
      "Transcript generated forENST00000301935.9\n"
     ]
    },
    {
     "name": "stderr",
     "output_type": "stream",
     "text": [
      "Generating embeddings:  49%|████▉     | 622/1267 [01:32<01:48,  5.93it/s]"
     ]
    },
    {
     "name": "stdout",
     "output_type": "stream",
     "text": [
      "Transcript generated forENST00000316461.9\n",
      "Transcript generated forENST00000301788.12\n"
     ]
    },
    {
     "name": "stderr",
     "output_type": "stream",
     "text": [
      "Generating embeddings:  49%|████▉     | 625/1267 [01:33<01:35,  6.75it/s]"
     ]
    },
    {
     "name": "stdout",
     "output_type": "stream",
     "text": [
      "Transcript generated forENST00000307366.8\n",
      "Transcript generated forENST00000333449.9\n",
      "Transcript generated forENST00000255688.8\n"
     ]
    },
    {
     "name": "stderr",
     "output_type": "stream",
     "text": [
      "Generating embeddings:  50%|████▉     | 628/1267 [01:33<01:32,  6.90it/s]"
     ]
    },
    {
     "name": "stdout",
     "output_type": "stream",
     "text": [
      "Transcript generated forENST00000255681.7\n",
      "Transcript generated forENST00000317459.11\n"
     ]
    },
    {
     "name": "stderr",
     "output_type": "stream",
     "text": [
      "Generating embeddings:  50%|████▉     | 630/1267 [01:33<01:32,  6.86it/s]"
     ]
    },
    {
     "name": "stdout",
     "output_type": "stream",
     "text": [
      "Transcript generated forENST00000279206.8\n",
      "Transcript generated forENST00000321685.7\n"
     ]
    },
    {
     "name": "stderr",
     "output_type": "stream",
     "text": [
      "Generating embeddings:  50%|████▉     | 632/1267 [01:34<01:27,  7.26it/s]"
     ]
    },
    {
     "name": "stdout",
     "output_type": "stream",
     "text": [
      "Transcript generated forENST00000426086.2\n",
      "Transcript generated forENST00000309318.8\n"
     ]
    },
    {
     "name": "stderr",
     "output_type": "stream",
     "text": [
      "Generating embeddings:  50%|█████     | 634/1267 [01:34<01:19,  7.93it/s]"
     ]
    },
    {
     "name": "stdout",
     "output_type": "stream",
     "text": [
      "Transcript generated forENST00000394532.7\n",
      "Transcript generated forENST00000544844.6\n",
      "Transcript generated forENST00000265462.9\n"
     ]
    },
    {
     "name": "stderr",
     "output_type": "stream",
     "text": [
      "Generating embeddings:  50%|█████     | 637/1267 [01:34<01:21,  7.70it/s]"
     ]
    },
    {
     "name": "stdout",
     "output_type": "stream",
     "text": [
      "Transcript generated forENST00000294258.8\n",
      "Transcript generated forENST00000310597.6\n"
     ]
    },
    {
     "name": "stderr",
     "output_type": "stream",
     "text": [
      "Generating embeddings:  50%|█████     | 638/1267 [01:34<01:17,  8.11it/s]"
     ]
    },
    {
     "name": "stdout",
     "output_type": "stream",
     "text": [
      "Transcript generated forENST00000531743.5\n",
      "Transcript generated forENST00000309328.8\n"
     ]
    },
    {
     "name": "stderr",
     "output_type": "stream",
     "text": [
      "Generating embeddings:  51%|█████     | 641/1267 [01:35<01:21,  7.68it/s]"
     ]
    },
    {
     "name": "stdout",
     "output_type": "stream",
     "text": [
      "Transcript generated forENST00000530349.2\n",
      "Transcript generated forENST00000312579.4\n"
     ]
    },
    {
     "name": "stderr",
     "output_type": "stream",
     "text": [
      "Generating embeddings:  51%|█████     | 643/1267 [01:35<01:25,  7.29it/s]"
     ]
    },
    {
     "name": "stdout",
     "output_type": "stream",
     "text": [
      "Transcript generated forENST00000312515.7\n",
      "Transcript generated forENST00000533166.5\n"
     ]
    },
    {
     "name": "stderr",
     "output_type": "stream",
     "text": [
      "Generating embeddings:  51%|█████     | 644/1267 [01:35<01:32,  6.72it/s]"
     ]
    },
    {
     "name": "stdout",
     "output_type": "stream",
     "text": [
      "Transcript generated forENST00000376901.9\n"
     ]
    },
    {
     "name": "stderr",
     "output_type": "stream",
     "text": [
      "Generating embeddings:  51%|█████     | 646/1267 [01:36<01:37,  6.34it/s]"
     ]
    },
    {
     "name": "stdout",
     "output_type": "stream",
     "text": [
      "Transcript generated forENST00000359957.8\n",
      "Transcript generated forENST00000533244.6\n"
     ]
    },
    {
     "name": "stderr",
     "output_type": "stream",
     "text": [
      "Generating embeddings:  51%|█████     | 648/1267 [01:36<01:49,  5.65it/s]"
     ]
    },
    {
     "name": "stdout",
     "output_type": "stream",
     "text": [
      "Transcript generated forENST00000309657.8\n",
      "Transcript generated forENST00000308831.7\n"
     ]
    },
    {
     "name": "stderr",
     "output_type": "stream",
     "text": [
      "Generating embeddings:  51%|█████     | 649/1267 [01:36<01:52,  5.48it/s]"
     ]
    },
    {
     "name": "stdout",
     "output_type": "stream",
     "text": [
      "Transcript generated forENST00000376745.9\n"
     ]
    },
    {
     "name": "stderr",
     "output_type": "stream",
     "text": [
      "Generating embeddings:  51%|█████▏    | 651/1267 [01:37<01:52,  5.47it/s]"
     ]
    },
    {
     "name": "stdout",
     "output_type": "stream",
     "text": [
      "Transcript generated forENST00000279146.8\n",
      "Transcript generated forENST00000301488.8\n"
     ]
    },
    {
     "name": "stderr",
     "output_type": "stream",
     "text": [
      "Generating embeddings:  52%|█████▏    | 653/1267 [01:37<01:34,  6.51it/s]"
     ]
    },
    {
     "name": "stdout",
     "output_type": "stream",
     "text": [
      "Transcript generated forENST00000398606.10\n",
      "Transcript generated forENST00000376693.3\n"
     ]
    },
    {
     "name": "stderr",
     "output_type": "stream",
     "text": [
      "Generating embeddings:  52%|█████▏    | 656/1267 [01:37<01:14,  8.24it/s]"
     ]
    },
    {
     "name": "stdout",
     "output_type": "stream",
     "text": [
      "Transcript generated forENST00000313468.10\n",
      "Transcript generated forENST00000265643.4\n",
      "Transcript generated forENST00000362034.7\n"
     ]
    },
    {
     "name": "stderr",
     "output_type": "stream",
     "text": [
      "Generating embeddings:  52%|█████▏    | 659/1267 [01:37<01:11,  8.49it/s]"
     ]
    },
    {
     "name": "stdout",
     "output_type": "stream",
     "text": [
      "Transcript generated forENST00000426628.6\n",
      "Transcript generated forENST00000529513.5\n",
      "Transcript generated forENST00000278671.10\n"
     ]
    },
    {
     "name": "stderr",
     "output_type": "stream",
     "text": [
      "Generating embeddings:  52%|█████▏    | 661/1267 [01:38<01:14,  8.18it/s]"
     ]
    },
    {
     "name": "stdout",
     "output_type": "stream",
     "text": [
      "Transcript generated forENST00000227618.8\n",
      "Transcript generated forENST00000310614.12\n"
     ]
    },
    {
     "name": "stderr",
     "output_type": "stream",
     "text": [
      "Generating embeddings:  52%|█████▏    | 663/1267 [01:38<01:01,  9.76it/s]"
     ]
    },
    {
     "name": "stdout",
     "output_type": "stream",
     "text": [
      "Transcript generated forENST00000545127.1\n",
      "Transcript generated forENST00000526415.5\n",
      "Transcript generated forENST00000358867.11\n"
     ]
    },
    {
     "name": "stderr",
     "output_type": "stream",
     "text": [
      "Generating embeddings:  52%|█████▏    | 665/1267 [01:38<00:56, 10.70it/s]"
     ]
    },
    {
     "name": "stdout",
     "output_type": "stream",
     "text": [
      "Transcript generated forENST00000304511.7\n",
      "Transcript generated forENST00000278483.8\n"
     ]
    },
    {
     "name": "stderr",
     "output_type": "stream",
     "text": [
      "Generating embeddings:  53%|█████▎    | 667/1267 [01:38<01:16,  7.83it/s]"
     ]
    },
    {
     "name": "stdout",
     "output_type": "stream",
     "text": [
      "Transcript generated forENST00000243662.11\n",
      "Transcript generated forENST00000298966.7\n"
     ]
    },
    {
     "name": "stderr",
     "output_type": "stream",
     "text": [
      "Generating embeddings:  53%|█████▎    | 670/1267 [01:39<01:10,  8.44it/s]"
     ]
    },
    {
     "name": "stdout",
     "output_type": "stream",
     "text": [
      "Transcript generated forENST00000444739.7\n",
      "Transcript generated forENST00000280350.8\n",
      "Transcript generated forENST00000504148.3\n"
     ]
    },
    {
     "name": "stderr",
     "output_type": "stream",
     "text": [
      "Generating embeddings:  53%|█████▎    | 673/1267 [01:39<01:07,  8.74it/s]"
     ]
    },
    {
     "name": "stdout",
     "output_type": "stream",
     "text": [
      "Transcript generated forENST00000375549.8\n",
      "Transcript generated forENST00000280357.12\n"
     ]
    },
    {
     "name": "stderr",
     "output_type": "stream",
     "text": [
      "Generating embeddings:  53%|█████▎    | 675/1267 [01:39<01:10,  8.41it/s]"
     ]
    },
    {
     "name": "stdout",
     "output_type": "stream",
     "text": [
      "Transcript generated forENST00000280362.8\n",
      "Transcript generated forENST00000325636.8\n"
     ]
    },
    {
     "name": "stderr",
     "output_type": "stream",
     "text": [
      "Generating embeddings:  53%|█████▎    | 677/1267 [01:40<01:24,  7.01it/s]"
     ]
    },
    {
     "name": "stdout",
     "output_type": "stream",
     "text": [
      "Transcript generated forENST00000611665.4\n",
      "Transcript generated forENST00000300688.8\n"
     ]
    },
    {
     "name": "stderr",
     "output_type": "stream",
     "text": [
      "Generating embeddings:  54%|█████▎    | 679/1267 [01:40<01:17,  7.59it/s]"
     ]
    },
    {
     "name": "stdout",
     "output_type": "stream",
     "text": [
      "Transcript generated forENST00000334418.6\n",
      "Transcript generated forENST00000533632.6\n"
     ]
    },
    {
     "name": "stderr",
     "output_type": "stream",
     "text": [
      "Generating embeddings:  54%|█████▎    | 681/1267 [01:40<01:11,  8.22it/s]"
     ]
    },
    {
     "name": "stdout",
     "output_type": "stream",
     "text": [
      "Transcript generated forENST00000284292.11\n",
      "Transcript generated forENST00000392678.7\n"
     ]
    },
    {
     "name": "stderr",
     "output_type": "stream",
     "text": [
      "Generating embeddings:  54%|█████▍    | 683/1267 [01:40<01:18,  7.46it/s]"
     ]
    },
    {
     "name": "stdout",
     "output_type": "stream",
     "text": [
      "Transcript generated forENST00000341541.8\n",
      "Transcript generated forENST00000396308.3\n"
     ]
    },
    {
     "name": "stderr",
     "output_type": "stream",
     "text": [
      "Generating embeddings:  54%|█████▍    | 685/1267 [01:41<01:16,  7.61it/s]"
     ]
    },
    {
     "name": "stdout",
     "output_type": "stream",
     "text": [
      "Transcript generated forENST00000229238.5\n",
      "Transcript generated forENST00000396861.5\n"
     ]
    },
    {
     "name": "stderr",
     "output_type": "stream",
     "text": [
      "Generating embeddings:  54%|█████▍    | 687/1267 [01:41<01:24,  6.90it/s]"
     ]
    },
    {
     "name": "stdout",
     "output_type": "stream",
     "text": [
      "Transcript generated forENST00000309083.8\n",
      "Transcript generated forENST00000396705.10\n"
     ]
    },
    {
     "name": "stderr",
     "output_type": "stream",
     "text": [
      "Generating embeddings:  54%|█████▍    | 688/1267 [01:41<01:17,  7.43it/s]"
     ]
    },
    {
     "name": "stdout",
     "output_type": "stream",
     "text": [
      "Transcript generated forENST00000524270.5\n",
      "Transcript generated forENST00000229281.6\n"
     ]
    },
    {
     "name": "stderr",
     "output_type": "stream",
     "text": [
      "Generating embeddings:  55%|█████▍    | 691/1267 [01:41<01:13,  7.78it/s]"
     ]
    },
    {
     "name": "stdout",
     "output_type": "stream",
     "text": [
      "Transcript generated forENST00000535923.6\n",
      "Transcript generated forENST00000014930.9\n",
      "Transcript generated forENST00000544848.2\n"
     ]
    },
    {
     "name": "stderr",
     "output_type": "stream",
     "text": [
      "Generating embeddings:  55%|█████▍    | 694/1267 [01:42<01:05,  8.71it/s]"
     ]
    },
    {
     "name": "stdout",
     "output_type": "stream",
     "text": [
      "Transcript generated forENST00000228945.9\n",
      "Transcript generated forENST00000396209.5\n"
     ]
    },
    {
     "name": "stderr",
     "output_type": "stream",
     "text": [
      "Generating embeddings:  55%|█████▍    | 696/1267 [01:42<01:46,  5.38it/s]"
     ]
    },
    {
     "name": "stdout",
     "output_type": "stream",
     "text": [
      "Transcript generated forENST00000557540.7\n",
      "Transcript generated forENST00000550765.6\n"
     ]
    },
    {
     "name": "stderr",
     "output_type": "stream",
     "text": [
      "Generating embeddings:  55%|█████▌    | 698/1267 [01:43<01:28,  6.44it/s]"
     ]
    },
    {
     "name": "stdout",
     "output_type": "stream",
     "text": [
      "Transcript generated forENST00000301068.11\n",
      "Transcript generated forENST00000317943.6\n"
     ]
    },
    {
     "name": "stderr",
     "output_type": "stream",
     "text": [
      "Generating embeddings:  55%|█████▌    | 699/1267 [01:43<01:34,  5.99it/s]"
     ]
    },
    {
     "name": "stdout",
     "output_type": "stream",
     "text": [
      "Transcript generated forENST00000336854.8\n"
     ]
    },
    {
     "name": "stderr",
     "output_type": "stream",
     "text": [
      "Generating embeddings:  55%|█████▌    | 700/1267 [01:43<01:42,  5.54it/s]"
     ]
    },
    {
     "name": "stdout",
     "output_type": "stream",
     "text": [
      "Transcript generated forENST00000388837.6\n"
     ]
    },
    {
     "name": "stderr",
     "output_type": "stream",
     "text": [
      "Generating embeddings:  55%|█████▌    | 701/1267 [01:43<02:00,  4.69it/s]"
     ]
    },
    {
     "name": "stdout",
     "output_type": "stream",
     "text": [
      "Transcript generated forENST00000301464.4\n"
     ]
    },
    {
     "name": "stderr",
     "output_type": "stream",
     "text": [
      "Generating embeddings:  55%|█████▌    | 703/1267 [01:44<01:53,  4.96it/s]"
     ]
    },
    {
     "name": "stdout",
     "output_type": "stream",
     "text": [
      "Transcript generated forENST00000551018.5\n",
      "Transcript generated forENST00000267103.10\n"
     ]
    },
    {
     "name": "stderr",
     "output_type": "stream",
     "text": [
      "Generating embeddings:  56%|█████▌    | 705/1267 [01:44<01:46,  5.29it/s]"
     ]
    },
    {
     "name": "stdout",
     "output_type": "stream",
     "text": [
      "Transcript generated forENST00000429243.7\n",
      "Transcript generated forENST00000394252.4\n"
     ]
    },
    {
     "name": "stderr",
     "output_type": "stream",
     "text": [
      "Generating embeddings:  56%|█████▌    | 707/1267 [01:45<02:12,  4.23it/s]"
     ]
    },
    {
     "name": "stdout",
     "output_type": "stream",
     "text": [
      "Transcript generated forENST00000548925.5\n",
      "Transcript generated forENST00000549117.5\n"
     ]
    },
    {
     "name": "stderr",
     "output_type": "stream",
     "text": [
      "Generating embeddings:  56%|█████▌    | 709/1267 [01:45<01:51,  5.02it/s]"
     ]
    },
    {
     "name": "stdout",
     "output_type": "stream",
     "text": [
      "Transcript generated forENST00000336133.8\n",
      "Transcript generated forENST00000398213.4\n"
     ]
    },
    {
     "name": "stderr",
     "output_type": "stream",
     "text": [
      "Generating embeddings:  56%|█████▌    | 711/1267 [01:45<01:56,  4.79it/s]"
     ]
    },
    {
     "name": "stdout",
     "output_type": "stream",
     "text": [
      "Transcript generated forENST00000356464.10\n",
      "Transcript generated forENST00000546591.6\n"
     ]
    },
    {
     "name": "stderr",
     "output_type": "stream",
     "text": [
      "Generating embeddings:  56%|█████▌    | 712/1267 [01:46<01:48,  5.13it/s]"
     ]
    },
    {
     "name": "stdout",
     "output_type": "stream",
     "text": [
      "Transcript generated forENST00000553066.5\n",
      "Transcript generated forENST00000547649.5\n"
     ]
    },
    {
     "name": "stderr",
     "output_type": "stream",
     "text": [
      "Generating embeddings:  56%|█████▋    | 715/1267 [01:46<01:25,  6.45it/s]"
     ]
    },
    {
     "name": "stdout",
     "output_type": "stream",
     "text": [
      "Transcript generated forENST00000273308.9\n",
      "Transcript generated forENST00000338193.11\n"
     ]
    },
    {
     "name": "stderr",
     "output_type": "stream",
     "text": [
      "Generating embeddings:  57%|█████▋    | 717/1267 [01:46<01:22,  6.69it/s]"
     ]
    },
    {
     "name": "stdout",
     "output_type": "stream",
     "text": [
      "Transcript generated forENST00000623876.2\n",
      "Transcript generated forENST00000324871.12\n"
     ]
    },
    {
     "name": "stderr",
     "output_type": "stream",
     "text": [
      "Generating embeddings:  57%|█████▋    | 718/1267 [01:46<01:16,  7.19it/s]"
     ]
    },
    {
     "name": "stdout",
     "output_type": "stream",
     "text": [
      "Transcript generated forENST00000637125.1\n"
     ]
    },
    {
     "name": "stderr",
     "output_type": "stream",
     "text": [
      "Generating embeddings:  57%|█████▋    | 720/1267 [01:47<01:20,  6.80it/s]"
     ]
    },
    {
     "name": "stdout",
     "output_type": "stream",
     "text": [
      "Transcript generated forENST00000247843.7\n",
      "Transcript generated forENST00000311083.10\n"
     ]
    },
    {
     "name": "stderr",
     "output_type": "stream",
     "text": [
      "Generating embeddings:  57%|█████▋    | 722/1267 [01:47<01:16,  7.11it/s]"
     ]
    },
    {
     "name": "stdout",
     "output_type": "stream",
     "text": [
      "Transcript generated forENST00000316824.4\n",
      "Transcript generated forENST00000542893.2\n",
      "Transcript generated forENST00000327772.7\n"
     ]
    },
    {
     "name": "stderr",
     "output_type": "stream",
     "text": [
      "Generating embeddings:  57%|█████▋    | 724/1267 [01:47<01:18,  6.88it/s]"
     ]
    },
    {
     "name": "stdout",
     "output_type": "stream",
     "text": [
      "Transcript generated forENST00000266735.9\n"
     ]
    },
    {
     "name": "stderr",
     "output_type": "stream",
     "text": [
      "Generating embeddings:  57%|█████▋    | 725/1267 [01:48<01:40,  5.40it/s]"
     ]
    },
    {
     "name": "stdout",
     "output_type": "stream",
     "text": [
      "Transcript generated forENST00000416321.5\n",
      "Transcript generated forENST00000240079.11\n"
     ]
    },
    {
     "name": "stderr",
     "output_type": "stream",
     "text": [
      "Generating embeddings:  57%|█████▋    | 728/1267 [01:48<01:16,  7.04it/s]"
     ]
    },
    {
     "name": "stdout",
     "output_type": "stream",
     "text": [
      "Transcript generated forENST00000443585.6\n",
      "Transcript generated forENST00000311893.13\n"
     ]
    },
    {
     "name": "stderr",
     "output_type": "stream",
     "text": [
      "Generating embeddings:  58%|█████▊    | 731/1267 [01:48<01:03,  8.40it/s]"
     ]
    },
    {
     "name": "stdout",
     "output_type": "stream",
     "text": [
      "Transcript generated forENST00000429722.3\n",
      "Transcript generated forENST00000549724.2\n",
      "Transcript generated forENST00000228825.12\n"
     ]
    },
    {
     "name": "stderr",
     "output_type": "stream",
     "text": [
      "Generating embeddings:  58%|█████▊    | 732/1267 [01:48<01:03,  8.37it/s]"
     ]
    },
    {
     "name": "stdout",
     "output_type": "stream",
     "text": [
      "Transcript generated forENST00000228827.8\n",
      "Transcript generated forENST00000377673.10\n"
     ]
    },
    {
     "name": "stderr",
     "output_type": "stream",
     "text": [
      "Generating embeddings:  58%|█████▊    | 734/1267 [01:49<01:02,  8.50it/s]"
     ]
    },
    {
     "name": "stdout",
     "output_type": "stream",
     "text": [
      "Transcript generated forENST00000340766.9\n",
      "Transcript generated forENST00000424576.6\n"
     ]
    },
    {
     "name": "stderr",
     "output_type": "stream",
     "text": [
      "Generating embeddings:  58%|█████▊    | 737/1267 [01:49<01:01,  8.58it/s]"
     ]
    },
    {
     "name": "stdout",
     "output_type": "stream",
     "text": [
      "Transcript generated forENST00000345635.8\n",
      "Transcript generated forENST00000335209.12\n"
     ]
    },
    {
     "name": "stderr",
     "output_type": "stream",
     "text": [
      "Generating embeddings:  58%|█████▊    | 739/1267 [01:49<01:14,  7.05it/s]"
     ]
    },
    {
     "name": "stdout",
     "output_type": "stream",
     "text": [
      "Transcript generated forENST00000261313.3\n",
      "Transcript generated forENST00000551150.5\n"
     ]
    },
    {
     "name": "stderr",
     "output_type": "stream",
     "text": [
      "Generating embeddings:  59%|█████▊    | 742/1267 [01:50<01:00,  8.73it/s]"
     ]
    },
    {
     "name": "stdout",
     "output_type": "stream",
     "text": [
      "Transcript generated forENST00000202967.4\n",
      "Transcript generated forENST00000229379.3\n",
      "Transcript generated forENST00000546954.2\n"
     ]
    },
    {
     "name": "stderr",
     "output_type": "stream",
     "text": [
      "Generating embeddings:  59%|█████▉    | 745/1267 [01:50<00:54,  9.55it/s]"
     ]
    },
    {
     "name": "stdout",
     "output_type": "stream",
     "text": [
      "Transcript generated forENST00000229390.8\n",
      "Transcript generated forENST00000392509.6\n",
      "Transcript generated forENST00000357500.5\n"
     ]
    },
    {
     "name": "stderr",
     "output_type": "stream",
     "text": [
      "Generating embeddings:  59%|█████▉    | 747/1267 [01:50<01:00,  8.64it/s]"
     ]
    },
    {
     "name": "stdout",
     "output_type": "stream",
     "text": [
      "Transcript generated forENST00000537817.5\n",
      "Transcript generated forENST00000617316.2\n"
     ]
    },
    {
     "name": "stderr",
     "output_type": "stream",
     "text": [
      "Generating embeddings:  59%|█████▉    | 749/1267 [01:50<01:04,  8.06it/s]"
     ]
    },
    {
     "name": "stdout",
     "output_type": "stream",
     "text": [
      "Transcript generated forENST00000261692.7\n",
      "Transcript generated forENST00000526639.3\n"
     ]
    },
    {
     "name": "stderr",
     "output_type": "stream",
     "text": [
      "Generating embeddings:  59%|█████▉    | 751/1267 [01:51<01:02,  8.30it/s]"
     ]
    },
    {
     "name": "stdout",
     "output_type": "stream",
     "text": [
      "Transcript generated forENST00000317479.8\n",
      "Transcript generated forENST00000298248.12\n"
     ]
    },
    {
     "name": "stderr",
     "output_type": "stream",
     "text": [
      "Generating embeddings:  59%|█████▉    | 752/1267 [01:51<01:00,  8.56it/s]"
     ]
    },
    {
     "name": "stdout",
     "output_type": "stream",
     "text": [
      "Transcript generated forENST00000382758.6\n",
      "Transcript generated forENST00000311549.10\n"
     ]
    },
    {
     "name": "stderr",
     "output_type": "stream",
     "text": [
      "Generating embeddings:  60%|█████▉    | 756/1267 [01:51<00:51,  9.85it/s]"
     ]
    },
    {
     "name": "stdout",
     "output_type": "stream",
     "text": [
      "Transcript generated forENST00000381140.9\n",
      "Transcript generated forENST00000381116.5\n",
      "Transcript generated forENST00000302979.5\n"
     ]
    },
    {
     "name": "stderr",
     "output_type": "stream",
     "text": [
      "Generating embeddings:  60%|█████▉    | 758/1267 [01:51<00:54,  9.41it/s]"
     ]
    },
    {
     "name": "stdout",
     "output_type": "stream",
     "text": [
      "Transcript generated forENST00000380842.5\n",
      "Transcript generated forENST00000239891.4\n"
     ]
    },
    {
     "name": "stderr",
     "output_type": "stream",
     "text": [
      "Generating embeddings:  60%|█████▉    | 759/1267 [01:51<01:00,  8.42it/s]"
     ]
    },
    {
     "name": "stdout",
     "output_type": "stream",
     "text": [
      "Transcript generated forENST00000389704.4\n"
     ]
    },
    {
     "name": "stderr",
     "output_type": "stream",
     "text": [
      "Generating embeddings:  60%|██████    | 761/1267 [01:52<01:15,  6.74it/s]"
     ]
    },
    {
     "name": "stdout",
     "output_type": "stream",
     "text": [
      "Transcript generated forENST00000323563.8\n",
      "Transcript generated forENST00000379359.4\n"
     ]
    },
    {
     "name": "stderr",
     "output_type": "stream",
     "text": [
      "Generating embeddings:  60%|██████    | 763/1267 [01:52<01:12,  6.95it/s]"
     ]
    },
    {
     "name": "stdout",
     "output_type": "stream",
     "text": [
      "Transcript generated forENST00000378720.8\n",
      "Transcript generated forENST00000378319.8\n"
     ]
    },
    {
     "name": "stderr",
     "output_type": "stream",
     "text": [
      "Generating embeddings:  60%|██████    | 764/1267 [01:52<01:06,  7.61it/s]"
     ]
    },
    {
     "name": "stdout",
     "output_type": "stream",
     "text": [
      "Transcript generated forENST00000242827.11\n",
      "Transcript generated forENST00000377595.7\n"
     ]
    },
    {
     "name": "stderr",
     "output_type": "stream",
     "text": [
      "Generating embeddings:  61%|██████    | 767/1267 [01:53<01:02,  7.95it/s]"
     ]
    },
    {
     "name": "stdout",
     "output_type": "stream",
     "text": [
      "Transcript generated forENST00000376032.9\n",
      "Transcript generated forENST00000375431.9\n"
     ]
    },
    {
     "name": "stderr",
     "output_type": "stream",
     "text": [
      "Generating embeddings:  61%|██████    | 769/1267 [01:53<01:09,  7.22it/s]"
     ]
    },
    {
     "name": "stdout",
     "output_type": "stream",
     "text": [
      "Transcript generated forENST00000216714.8\n",
      "Transcript generated forENST00000361505.10\n"
     ]
    },
    {
     "name": "stderr",
     "output_type": "stream",
     "text": [
      "Generating embeddings:  61%|██████    | 772/1267 [01:53<01:00,  8.22it/s]"
     ]
    },
    {
     "name": "stdout",
     "output_type": "stream",
     "text": [
      "Transcript generated forENST00000336811.10\n",
      "Transcript generated forENST00000250498.9\n",
      "Transcript generated forENST00000355151.9\n"
     ]
    },
    {
     "name": "stderr",
     "output_type": "stream",
     "text": [
      "Generating embeddings:  61%|██████    | 774/1267 [01:53<00:56,  8.72it/s]"
     ]
    },
    {
     "name": "stdout",
     "output_type": "stream",
     "text": [
      "Transcript generated forENST00000361611.11\n",
      "Transcript generated forENST00000408901.8\n"
     ]
    },
    {
     "name": "stderr",
     "output_type": "stream",
     "text": [
      "Generating embeddings:  61%|██████    | 776/1267 [01:54<01:00,  8.16it/s]"
     ]
    },
    {
     "name": "stdout",
     "output_type": "stream",
     "text": [
      "Transcript generated forENST00000313250.10\n",
      "Transcript generated forENST00000335125.11\n"
     ]
    },
    {
     "name": "stderr",
     "output_type": "stream",
     "text": [
      "Generating embeddings:  61%|██████▏   | 779/1267 [01:54<00:50,  9.70it/s]"
     ]
    },
    {
     "name": "stdout",
     "output_type": "stream",
     "text": [
      "Transcript generated forENST00000206451.11\n",
      "Transcript generated forENST00000419198.6\n",
      "Transcript generated forENST00000216802.10\n"
     ]
    },
    {
     "name": "stderr",
     "output_type": "stream",
     "text": [
      "Generating embeddings:  62%|██████▏   | 781/1267 [01:54<00:46, 10.47it/s]"
     ]
    },
    {
     "name": "stdout",
     "output_type": "stream",
     "text": [
      "Transcript generated forENST00000347519.12\n",
      "Transcript generated forENST00000288087.12\n",
      "Transcript generated forENST00000250495.10\n"
     ]
    },
    {
     "name": "stderr",
     "output_type": "stream",
     "text": [
      "Generating embeddings:  62%|██████▏   | 784/1267 [01:55<00:50,  9.66it/s]"
     ]
    },
    {
     "name": "stdout",
     "output_type": "stream",
     "text": [
      "Transcript generated forENST00000396813.5\n",
      "Transcript generated forENST00000399395.7\n"
     ]
    },
    {
     "name": "stderr",
     "output_type": "stream",
     "text": [
      "Generating embeddings:  62%|██████▏   | 785/1267 [01:55<00:51,  9.39it/s]"
     ]
    },
    {
     "name": "stdout",
     "output_type": "stream",
     "text": [
      "Transcript generated forENST00000250454.8\n",
      "Transcript generated forENST00000261479.9\n"
     ]
    },
    {
     "name": "stderr",
     "output_type": "stream",
     "text": [
      "Generating embeddings:  62%|██████▏   | 789/1267 [01:55<00:46, 10.32it/s]"
     ]
    },
    {
     "name": "stdout",
     "output_type": "stream",
     "text": [
      "Transcript generated forENST00000308317.10\n",
      "Transcript generated forENST00000556230.2\n",
      "Transcript generated forENST00000298289.7\n"
     ]
    },
    {
     "name": "stderr",
     "output_type": "stream",
     "text": [
      "Generating embeddings:  62%|██████▏   | 791/1267 [01:55<00:44, 10.78it/s]"
     ]
    },
    {
     "name": "stdout",
     "output_type": "stream",
     "text": [
      "Transcript generated forENST00000335183.11\n",
      "Transcript generated forENST00000254301.14\n",
      "Transcript generated forENST00000216455.9\n"
     ]
    },
    {
     "name": "stderr",
     "output_type": "stream",
     "text": [
      "Generating embeddings:  63%|██████▎   | 795/1267 [01:56<00:45, 10.36it/s]"
     ]
    },
    {
     "name": "stdout",
     "output_type": "stream",
     "text": [
      "Transcript generated forENST00000395159.7\n",
      "Transcript generated forENST00000216452.9\n",
      "Transcript generated forENST00000557016.6\n"
     ]
    },
    {
     "name": "stderr",
     "output_type": "stream",
     "text": [
      "Generating embeddings:  63%|██████▎   | 797/1267 [01:56<00:41, 11.36it/s]"
     ]
    },
    {
     "name": "stdout",
     "output_type": "stream",
     "text": [
      "Transcript generated forENST00000555619.6\n",
      "Transcript generated forENST00000238618.8\n",
      "Transcript generated forENST00000314067.10\n"
     ]
    },
    {
     "name": "stderr",
     "output_type": "stream",
     "text": [
      "Generating embeddings:  63%|██████▎   | 801/1267 [01:56<00:44, 10.37it/s]"
     ]
    },
    {
     "name": "stdout",
     "output_type": "stream",
     "text": [
      "Transcript generated forENST00000216465.10\n",
      "Transcript generated forENST00000216479.8\n",
      "Transcript generated forENST00000329559.8\n"
     ]
    },
    {
     "name": "stderr",
     "output_type": "stream",
     "text": [
      "Generating embeddings:  63%|██████▎   | 803/1267 [01:56<00:42, 10.81it/s]"
     ]
    },
    {
     "name": "stdout",
     "output_type": "stream",
     "text": [
      "Transcript generated forENST00000306954.5\n",
      "Transcript generated forENST00000393115.7\n",
      "Transcript generated forENST00000612813.4\n"
     ]
    },
    {
     "name": "stderr",
     "output_type": "stream",
     "text": [
      "Generating embeddings:  64%|██████▎   | 805/1267 [01:57<00:42, 10.98it/s]"
     ]
    },
    {
     "name": "stdout",
     "output_type": "stream",
     "text": [
      "Transcript generated forENST00000331334.5\n",
      "Transcript generated forENST00000216756.11\n"
     ]
    },
    {
     "name": "stderr",
     "output_type": "stream",
     "text": [
      "Generating embeddings:  64%|██████▍   | 809/1267 [01:57<00:45, 10.09it/s]"
     ]
    },
    {
     "name": "stdout",
     "output_type": "stream",
     "text": [
      "Transcript generated forENST00000348956.7\n",
      "Transcript generated forENST00000311141.6\n",
      "Transcript generated forENST00000554880.5\n"
     ]
    },
    {
     "name": "stderr",
     "output_type": "stream",
     "text": [
      "Generating embeddings:  64%|██████▍   | 811/1267 [01:57<00:43, 10.50it/s]"
     ]
    },
    {
     "name": "stdout",
     "output_type": "stream",
     "text": [
      "Transcript generated forENST00000329967.11\n",
      "Transcript generated forENST00000392568.7\n"
     ]
    },
    {
     "name": "stderr",
     "output_type": "stream",
     "text": [
      "Generating embeddings:  64%|██████▍   | 813/1267 [01:57<00:44, 10.12it/s]"
     ]
    },
    {
     "name": "stdout",
     "output_type": "stream",
     "text": [
      "Transcript generated forENST00000329146.9\n",
      "Transcript generated forENST00000256545.9\n",
      "Transcript generated forENST00000267750.9\n"
     ]
    },
    {
     "name": "stderr",
     "output_type": "stream",
     "text": [
      "Generating embeddings:  64%|██████▍   | 815/1267 [01:57<00:41, 10.81it/s]"
     ]
    },
    {
     "name": "stdout",
     "output_type": "stream",
     "text": [
      "Transcript generated forENST00000328848.6\n",
      "Transcript generated forENST00000290378.6\n"
     ]
    },
    {
     "name": "stderr",
     "output_type": "stream",
     "text": [
      "Generating embeddings:  65%|██████▍   | 819/1267 [01:58<00:43, 10.29it/s]"
     ]
    },
    {
     "name": "stdout",
     "output_type": "stream",
     "text": [
      "Transcript generated forENST00000267884.11\n",
      "Transcript generated forENST00000260447.6\n",
      "Transcript generated forENST00000220514.8\n"
     ]
    },
    {
     "name": "stderr",
     "output_type": "stream",
     "text": [
      "Generating embeddings:  65%|██████▍   | 821/1267 [01:58<00:47,  9.44it/s]"
     ]
    },
    {
     "name": "stdout",
     "output_type": "stream",
     "text": [
      "Transcript generated forENST00000397299.9\n",
      "Transcript generated forENST00000267838.7\n"
     ]
    },
    {
     "name": "stderr",
     "output_type": "stream",
     "text": [
      "Generating embeddings:  65%|██████▍   | 823/1267 [01:58<00:44, 10.02it/s]"
     ]
    },
    {
     "name": "stdout",
     "output_type": "stream",
     "text": [
      "Transcript generated forENST00000436697.3\n",
      "Transcript generated forENST00000569691.2\n",
      "Transcript generated forENST00000352903.6\n"
     ]
    },
    {
     "name": "stderr",
     "output_type": "stream",
     "text": [
      "Generating embeddings:  65%|██████▌   | 826/1267 [01:59<00:53,  8.31it/s]"
     ]
    },
    {
     "name": "stdout",
     "output_type": "stream",
     "text": [
      "Transcript generated forENST00000288207.7\n",
      "Transcript generated forENST00000403994.9\n"
     ]
    },
    {
     "name": "stderr",
     "output_type": "stream",
     "text": [
      "Generating embeddings:  65%|██████▌   | 829/1267 [01:59<00:48,  9.11it/s]"
     ]
    },
    {
     "name": "stdout",
     "output_type": "stream",
     "text": [
      "Transcript generated forENST00000300030.8\n",
      "Transcript generated forENST00000300026.4\n",
      "Transcript generated forENST00000316634.6\n"
     ]
    },
    {
     "name": "stderr",
     "output_type": "stream",
     "text": [
      "Generating embeddings:  66%|██████▌   | 831/1267 [01:59<00:50,  8.69it/s]"
     ]
    },
    {
     "name": "stdout",
     "output_type": "stream",
     "text": [
      "Transcript generated forENST00000260379.11\n",
      "Transcript generated forENST00000322347.11\n"
     ]
    },
    {
     "name": "stderr",
     "output_type": "stream",
     "text": [
      "Generating embeddings:  66%|██████▌   | 833/1267 [02:00<00:52,  8.19it/s]"
     ]
    },
    {
     "name": "stdout",
     "output_type": "stream",
     "text": [
      "Transcript generated forENST00000267935.13\n",
      "Transcript generated forENST00000258930.8\n"
     ]
    },
    {
     "name": "stderr",
     "output_type": "stream",
     "text": [
      "Generating embeddings:  66%|██████▌   | 835/1267 [02:00<00:54,  7.88it/s]"
     ]
    },
    {
     "name": "stdout",
     "output_type": "stream",
     "text": [
      "Transcript generated forENST00000558311.5\n",
      "Transcript generated forENST00000299705.10\n"
     ]
    },
    {
     "name": "stderr",
     "output_type": "stream",
     "text": [
      "Generating embeddings:  66%|██████▌   | 837/1267 [02:00<00:49,  8.63it/s]"
     ]
    },
    {
     "name": "stdout",
     "output_type": "stream",
     "text": [
      "Transcript generated forENST00000360476.8\n",
      "Transcript generated forENST00000268220.12\n"
     ]
    },
    {
     "name": "stderr",
     "output_type": "stream",
     "text": [
      "Generating embeddings:  66%|██████▌   | 839/1267 [02:00<00:49,  8.60it/s]"
     ]
    },
    {
     "name": "stdout",
     "output_type": "stream",
     "text": [
      "Transcript generated forENST00000312475.5\n",
      "Transcript generated forENST00000328649.11\n"
     ]
    },
    {
     "name": "stderr",
     "output_type": "stream",
     "text": [
      "Generating embeddings:  66%|██████▋   | 841/1267 [02:01<00:55,  7.70it/s]"
     ]
    },
    {
     "name": "stdout",
     "output_type": "stream",
     "text": [
      "Transcript generated forENST00000379095.5\n",
      "Transcript generated forENST00000398226.7\n"
     ]
    },
    {
     "name": "stderr",
     "output_type": "stream",
     "text": [
      "Generating embeddings:  67%|██████▋   | 843/1267 [02:01<00:51,  8.31it/s]"
     ]
    },
    {
     "name": "stdout",
     "output_type": "stream",
     "text": [
      "Transcript generated forENST00000254193.11\n",
      "Transcript generated forENST00000347970.7\n"
     ]
    },
    {
     "name": "stderr",
     "output_type": "stream",
     "text": [
      "Generating embeddings:  67%|██████▋   | 845/1267 [02:01<00:47,  8.81it/s]"
     ]
    },
    {
     "name": "stdout",
     "output_type": "stream",
     "text": [
      "Transcript generated forENST00000293860.6\n",
      "Transcript generated forENST00000293861.8\n",
      "Transcript generated forENST00000356432.8\n"
     ]
    },
    {
     "name": "stderr",
     "output_type": "stream",
     "text": [
      "Generating embeddings:  67%|██████▋   | 849/1267 [02:01<00:46,  9.06it/s]"
     ]
    },
    {
     "name": "stdout",
     "output_type": "stream",
     "text": [
      "Transcript generated forENST00000293872.12\n",
      "Transcript generated forENST00000219479.7\n",
      "Transcript generated forENST00000301686.13\n"
     ]
    },
    {
     "name": "stderr",
     "output_type": "stream",
     "text": [
      "Generating embeddings:  67%|██████▋   | 851/1267 [02:02<00:45,  9.13it/s]"
     ]
    },
    {
     "name": "stdout",
     "output_type": "stream",
     "text": [
      "Transcript generated forENST00000307650.9\n",
      "Transcript generated forENST00000219548.9\n"
     ]
    },
    {
     "name": "stderr",
     "output_type": "stream",
     "text": [
      "Generating embeddings:  67%|██████▋   | 853/1267 [02:02<00:44,  9.26it/s]"
     ]
    },
    {
     "name": "stdout",
     "output_type": "stream",
     "text": [
      "Transcript generated forENST00000569529.6\n",
      "Transcript generated forENST00000389703.7\n"
     ]
    },
    {
     "name": "stderr",
     "output_type": "stream",
     "text": [
      "Generating embeddings:  68%|██████▊   | 856/1267 [02:02<00:42,  9.63it/s]"
     ]
    },
    {
     "name": "stdout",
     "output_type": "stream",
     "text": [
      "Transcript generated forENST00000007390.3\n",
      "Transcript generated forENST00000442039.3\n",
      "Transcript generated forENST00000219302.7\n"
     ]
    },
    {
     "name": "stderr",
     "output_type": "stream",
     "text": [
      "Generating embeddings:  68%|██████▊   | 858/1267 [02:02<00:43,  9.44it/s]"
     ]
    },
    {
     "name": "stdout",
     "output_type": "stream",
     "text": [
      "Transcript generated forENST00000397375.7\n",
      "Transcript generated forENST00000262302.14\n"
     ]
    },
    {
     "name": "stderr",
     "output_type": "stream",
     "text": [
      "Generating embeddings:  68%|██████▊   | 861/1267 [02:03<00:42,  9.65it/s]"
     ]
    },
    {
     "name": "stdout",
     "output_type": "stream",
     "text": [
      "Transcript generated forENST00000361871.7\n",
      "Transcript generated forENST00000268668.11\n",
      "Transcript generated forENST00000343262.9\n"
     ]
    },
    {
     "name": "stderr",
     "output_type": "stream",
     "text": [
      "Generating embeddings:  68%|██████▊   | 863/1267 [02:03<00:42,  9.47it/s]"
     ]
    },
    {
     "name": "stdout",
     "output_type": "stream",
     "text": [
      "Transcript generated forENST00000219066.5\n",
      "Transcript generated forENST00000330398.9\n"
     ]
    },
    {
     "name": "stderr",
     "output_type": "stream",
     "text": [
      "Generating embeddings:  68%|██████▊   | 866/1267 [02:03<00:43,  9.30it/s]"
     ]
    },
    {
     "name": "stdout",
     "output_type": "stream",
     "text": [
      "Transcript generated forENST00000293971.10\n",
      "Transcript generated forENST00000409906.9\n",
      "Transcript generated forENST00000396958.8\n"
     ]
    },
    {
     "name": "stderr",
     "output_type": "stream",
     "text": [
      "Generating embeddings:  69%|██████▊   | 868/1267 [02:03<00:39, 10.21it/s]"
     ]
    },
    {
     "name": "stdout",
     "output_type": "stream",
     "text": [
      "Transcript generated forENST00000326577.9\n",
      "Transcript generated forENST00000574980.5\n"
     ]
    },
    {
     "name": "stderr",
     "output_type": "stream",
     "text": [
      "Generating embeddings:  69%|██████▊   | 870/1267 [02:04<00:42,  9.33it/s]"
     ]
    },
    {
     "name": "stdout",
     "output_type": "stream",
     "text": [
      "Transcript generated forENST00000326266.13\n",
      "Transcript generated forENST00000534507.5\n"
     ]
    },
    {
     "name": "stderr",
     "output_type": "stream",
     "text": [
      "Generating embeddings:  69%|██████▉   | 872/1267 [02:04<00:50,  7.78it/s]"
     ]
    },
    {
     "name": "stdout",
     "output_type": "stream",
     "text": [
      "Transcript generated forENST00000283474.12\n",
      "Transcript generated forENST00000304301.10\n"
     ]
    },
    {
     "name": "stderr",
     "output_type": "stream",
     "text": [
      "Generating embeddings:  69%|██████▉   | 874/1267 [02:04<00:52,  7.44it/s]"
     ]
    },
    {
     "name": "stdout",
     "output_type": "stream",
     "text": [
      "Transcript generated forENST00000322048.12\n",
      "Transcript generated forENST00000333050.7\n"
     ]
    },
    {
     "name": "stderr",
     "output_type": "stream",
     "text": [
      "Generating embeddings:  69%|██████▉   | 876/1267 [02:05<01:00,  6.48it/s]"
     ]
    },
    {
     "name": "stdout",
     "output_type": "stream",
     "text": [
      "Transcript generated forENST00000283027.10\n",
      "Transcript generated forENST00000312499.6\n"
     ]
    },
    {
     "name": "stderr",
     "output_type": "stream",
     "text": [
      "Generating embeddings:  69%|██████▉   | 878/1267 [02:05<01:00,  6.42it/s]"
     ]
    },
    {
     "name": "stdout",
     "output_type": "stream",
     "text": [
      "Transcript generated forENST00000287706.8\n",
      "Transcript generated forENST00000219599.8\n"
     ]
    },
    {
     "name": "stderr",
     "output_type": "stream",
     "text": [
      "Generating embeddings:  69%|██████▉   | 880/1267 [02:05<00:55,  7.03it/s]"
     ]
    },
    {
     "name": "stdout",
     "output_type": "stream",
     "text": [
      "Transcript generated forENST00000570319.5\n",
      "Transcript generated forENST00000399069.8\n"
     ]
    },
    {
     "name": "stderr",
     "output_type": "stream",
     "text": [
      "Generating embeddings:  70%|██████▉   | 882/1267 [02:05<00:50,  7.57it/s]"
     ]
    },
    {
     "name": "stdout",
     "output_type": "stream",
     "text": [
      "Transcript generated forENST00000361439.9\n",
      "Transcript generated forENST00000317058.8\n"
     ]
    },
    {
     "name": "stderr",
     "output_type": "stream",
     "text": [
      "Generating embeddings:  70%|██████▉   | 884/1267 [02:06<00:50,  7.62it/s]"
     ]
    },
    {
     "name": "stdout",
     "output_type": "stream",
     "text": [
      "Transcript generated forENST00000330978.3\n",
      "Transcript generated forENST00000566848.5\n"
     ]
    },
    {
     "name": "stderr",
     "output_type": "stream",
     "text": [
      "Generating embeddings:  70%|██████▉   | 886/1267 [02:06<00:52,  7.22it/s]"
     ]
    },
    {
     "name": "stdout",
     "output_type": "stream",
     "text": [
      "Transcript generated forENST00000563197.6\n",
      "Transcript generated forENST00000279387.12\n"
     ]
    },
    {
     "name": "stderr",
     "output_type": "stream",
     "text": [
      "Generating embeddings:  70%|███████   | 888/1267 [02:06<00:49,  7.65it/s]"
     ]
    },
    {
     "name": "stdout",
     "output_type": "stream",
     "text": [
      "Transcript generated forENST00000398838.8\n",
      "Transcript generated forENST00000319285.5\n"
     ]
    },
    {
     "name": "stderr",
     "output_type": "stream",
     "text": [
      "Generating embeddings:  70%|███████   | 891/1267 [02:07<00:43,  8.57it/s]"
     ]
    },
    {
     "name": "stdout",
     "output_type": "stream",
     "text": [
      "Transcript generated forENST00000313843.8\n",
      "Transcript generated forENST00000394975.3\n",
      "Transcript generated forENST00000247470.10\n"
     ]
    },
    {
     "name": "stderr",
     "output_type": "stream",
     "text": [
      "Generating embeddings:  70%|███████   | 893/1267 [02:07<00:49,  7.50it/s]"
     ]
    },
    {
     "name": "stdout",
     "output_type": "stream",
     "text": [
      "Transcript generated forENST00000306061.10\n",
      "Transcript generated forENST00000219207.10\n"
     ]
    },
    {
     "name": "stderr",
     "output_type": "stream",
     "text": [
      "Generating embeddings:  71%|███████   | 894/1267 [02:07<00:51,  7.21it/s]"
     ]
    },
    {
     "name": "stdout",
     "output_type": "stream",
     "text": [
      "Transcript generated forENST00000262498.8\n",
      "Transcript generated forENST00000264001.9\n"
     ]
    },
    {
     "name": "stderr",
     "output_type": "stream",
     "text": [
      "Generating embeddings:  71%|███████   | 896/1267 [02:07<00:45,  8.18it/s]"
     ]
    },
    {
     "name": "stdout",
     "output_type": "stream",
     "text": [
      "Transcript generated forENST00000394106.6\n",
      "Transcript generated forENST00000422424.7\n"
     ]
    },
    {
     "name": "stderr",
     "output_type": "stream",
     "text": [
      "Generating embeddings:  71%|███████   | 899/1267 [02:08<00:43,  8.47it/s]"
     ]
    },
    {
     "name": "stdout",
     "output_type": "stream",
     "text": [
      "Transcript generated forENST00000345057.9\n",
      "Transcript generated forENST00000268605.11\n",
      "Transcript generated forENST00000304800.14\n"
     ]
    },
    {
     "name": "stderr",
     "output_type": "stream",
     "text": [
      "Generating embeddings:  71%|███████   | 902/1267 [02:08<00:39,  9.32it/s]"
     ]
    },
    {
     "name": "stdout",
     "output_type": "stream",
     "text": [
      "Transcript generated forENST00000358514.9\n",
      "Transcript generated forENST00000283882.4\n"
     ]
    },
    {
     "name": "stderr",
     "output_type": "stream",
     "text": [
      "Generating embeddings:  71%|███████▏  | 904/1267 [02:08<00:37,  9.59it/s]"
     ]
    },
    {
     "name": "stdout",
     "output_type": "stream",
     "text": [
      "Transcript generated forENST00000037243.7\n",
      "Transcript generated forENST00000268533.9\n"
     ]
    },
    {
     "name": "stderr",
     "output_type": "stream",
     "text": [
      "Generating embeddings:  72%|███████▏  | 906/1267 [02:08<00:35, 10.04it/s]"
     ]
    },
    {
     "name": "stdout",
     "output_type": "stream",
     "text": [
      "Transcript generated forENST00000258169.9\n",
      "Transcript generated forENST00000284245.9\n",
      "Transcript generated forENST00000562336.5\n"
     ]
    },
    {
     "name": "stderr",
     "output_type": "stream",
     "text": [
      "Generating embeddings:  72%|███████▏  | 910/1267 [02:09<00:33, 10.78it/s]"
     ]
    },
    {
     "name": "stdout",
     "output_type": "stream",
     "text": [
      "Transcript generated forENST00000567970.2\n",
      "Transcript generated forENST00000261623.8\n",
      "Transcript generated forENST00000378364.8\n"
     ]
    },
    {
     "name": "stderr",
     "output_type": "stream",
     "text": [
      "Generating embeddings:  72%|███████▏  | 912/1267 [02:09<00:37,  9.55it/s]"
     ]
    },
    {
     "name": "stdout",
     "output_type": "stream",
     "text": [
      "Transcript generated forENST00000579310.5\n",
      "Transcript generated forENST00000254722.9\n"
     ]
    },
    {
     "name": "stderr",
     "output_type": "stream",
     "text": [
      "Generating embeddings:  72%|███████▏  | 914/1267 [02:09<00:37,  9.35it/s]"
     ]
    },
    {
     "name": "stdout",
     "output_type": "stream",
     "text": [
      "Transcript generated forENST00000572195.3\n",
      "Transcript generated forENST00000225525.4\n",
      "Transcript generated forENST00000293777.6\n"
     ]
    },
    {
     "name": "stderr",
     "output_type": "stream",
     "text": [
      "Generating embeddings:  72%|███████▏  | 916/1267 [02:09<00:33, 10.34it/s]"
     ]
    },
    {
     "name": "stdout",
     "output_type": "stream",
     "text": [
      "Transcript generated forENST00000270586.8\n",
      "Transcript generated forENST00000225655.6\n"
     ]
    },
    {
     "name": "stderr",
     "output_type": "stream",
     "text": [
      "Generating embeddings:  73%|███████▎  | 919/1267 [02:10<00:36,  9.54it/s]"
     ]
    },
    {
     "name": "stdout",
     "output_type": "stream",
     "text": [
      "Transcript generated forENST00000206020.8\n",
      "Transcript generated forENST00000225698.8\n",
      "Transcript generated forENST00000593646.5\n"
     ]
    },
    {
     "name": "stderr",
     "output_type": "stream",
     "text": [
      "Generating embeddings:  73%|███████▎  | 921/1267 [02:10<00:34, 10.15it/s]"
     ]
    },
    {
     "name": "stdout",
     "output_type": "stream",
     "text": [
      "Transcript generated forENST00000302386.10\n",
      "Transcript generated forENST00000396628.6\n"
     ]
    },
    {
     "name": "stderr",
     "output_type": "stream",
     "text": [
      "Generating embeddings:  73%|███████▎  | 924/1267 [02:10<00:38,  8.91it/s]"
     ]
    },
    {
     "name": "stdout",
     "output_type": "stream",
     "text": [
      "Transcript generated forENST00000576930.5\n",
      "Transcript generated forENST00000389167.9\n"
     ]
    },
    {
     "name": "stderr",
     "output_type": "stream",
     "text": [
      "Generating embeddings:  73%|███████▎  | 927/1267 [02:10<00:35,  9.68it/s]"
     ]
    },
    {
     "name": "stdout",
     "output_type": "stream",
     "text": [
      "Transcript generated forENST00000250124.11\n",
      "Transcript generated forENST00000269298.10\n",
      "Transcript generated forENST00000575771.5\n"
     ]
    },
    {
     "name": "stderr",
     "output_type": "stream",
     "text": [
      "Generating embeddings:  73%|███████▎  | 929/1267 [02:11<00:34,  9.87it/s]"
     ]
    },
    {
     "name": "stdout",
     "output_type": "stream",
     "text": [
      "Transcript generated forENST00000303731.9\n",
      "Transcript generated forENST00000585124.6\n",
      "Transcript generated forENST00000226105.11\n"
     ]
    },
    {
     "name": "stderr",
     "output_type": "stream",
     "text": [
      "Generating embeddings:  74%|███████▎  | 933/1267 [02:11<00:31, 10.58it/s]"
     ]
    },
    {
     "name": "stdout",
     "output_type": "stream",
     "text": [
      "Transcript generated forENST00000584164.6\n",
      "Transcript generated forENST00000306357.9\n",
      "Transcript generated forENST00000225609.10\n"
     ]
    },
    {
     "name": "stderr",
     "output_type": "stream",
     "text": [
      "Generating embeddings:  74%|███████▍  | 935/1267 [02:11<00:32, 10.32it/s]"
     ]
    },
    {
     "name": "stdout",
     "output_type": "stream",
     "text": [
      "Transcript generated forENST00000299736.5\n",
      "Transcript generated forENST00000614404.1\n",
      "Transcript generated forENST00000395783.5\n"
     ]
    },
    {
     "name": "stderr",
     "output_type": "stream",
     "text": [
      "Generating embeddings:  74%|███████▍  | 939/1267 [02:12<00:30, 10.70it/s]"
     ]
    },
    {
     "name": "stdout",
     "output_type": "stream",
     "text": [
      "Transcript generated forENST00000261499.10\n",
      "Transcript generated forENST00000317635.6\n",
      "Transcript generated forENST00000585313.5\n"
     ]
    },
    {
     "name": "stderr",
     "output_type": "stream",
     "text": [
      "Generating embeddings:  74%|███████▍  | 941/1267 [02:12<00:32,  9.88it/s]"
     ]
    },
    {
     "name": "stdout",
     "output_type": "stream",
     "text": [
      "Transcript generated forENST00000335765.9\n",
      "Transcript generated forENST00000247020.9\n"
     ]
    },
    {
     "name": "stderr",
     "output_type": "stream",
     "text": [
      "Generating embeddings:  74%|███████▍  | 943/1267 [02:12<00:34,  9.38it/s]"
     ]
    },
    {
     "name": "stdout",
     "output_type": "stream",
     "text": [
      "Transcript generated forENST00000422514.7\n",
      "Transcript generated forENST00000292090.8\n"
     ]
    },
    {
     "name": "stderr",
     "output_type": "stream",
     "text": [
      "Generating embeddings:  75%|███████▍  | 945/1267 [02:12<00:37,  8.55it/s]"
     ]
    },
    {
     "name": "stdout",
     "output_type": "stream",
     "text": [
      "Transcript generated forENST00000301057.8\n",
      "Transcript generated forENST00000451249.6\n"
     ]
    },
    {
     "name": "stderr",
     "output_type": "stream",
     "text": [
      "Generating embeddings:  75%|███████▍  | 948/1267 [02:13<00:32,  9.82it/s]"
     ]
    },
    {
     "name": "stdout",
     "output_type": "stream",
     "text": [
      "Transcript generated forENST00000581216.6\n",
      "Transcript generated forENST00000302362.11\n",
      "Transcript generated forENST00000225831.4\n"
     ]
    },
    {
     "name": "stderr",
     "output_type": "stream",
     "text": [
      "Generating embeddings:  75%|███████▌  | 951/1267 [02:13<00:29, 10.63it/s]"
     ]
    },
    {
     "name": "stdout",
     "output_type": "stream",
     "text": [
      "Transcript generated forENST00000620284.5\n",
      "Transcript generated forENST00000617429.5\n",
      "Transcript generated forENST00000619426.5\n"
     ]
    },
    {
     "name": "stderr",
     "output_type": "stream",
     "text": [
      "Generating embeddings:  75%|███████▌  | 953/1267 [02:13<00:30, 10.46it/s]"
     ]
    },
    {
     "name": "stdout",
     "output_type": "stream",
     "text": [
      "Transcript generated forENST00000225430.9\n",
      "Transcript generated forENST00000394231.8\n"
     ]
    },
    {
     "name": "stderr",
     "output_type": "stream",
     "text": [
      "Generating embeddings:  75%|███████▌  | 955/1267 [02:13<00:33,  9.33it/s]"
     ]
    },
    {
     "name": "stdout",
     "output_type": "stream",
     "text": [
      "Transcript generated forENST00000361566.7\n",
      "Transcript generated forENST00000435506.7\n"
     ]
    },
    {
     "name": "stderr",
     "output_type": "stream",
     "text": [
      "Generating embeddings:  76%|███████▌  | 958/1267 [02:14<00:31,  9.90it/s]"
     ]
    },
    {
     "name": "stdout",
     "output_type": "stream",
     "text": [
      "Transcript generated forENST00000393795.7\n",
      "Transcript generated forENST00000253796.10\n",
      "Transcript generated forENST00000253794.7\n"
     ]
    },
    {
     "name": "stderr",
     "output_type": "stream",
     "text": [
      "Generating embeddings:  76%|███████▌  | 960/1267 [02:14<00:28, 10.90it/s]"
     ]
    },
    {
     "name": "stdout",
     "output_type": "stream",
     "text": [
      "Transcript generated forENST00000328434.8\n",
      "Transcript generated forENST00000589913.6\n",
      "Transcript generated forENST00000438323.2\n"
     ]
    },
    {
     "name": "stderr",
     "output_type": "stream",
     "text": [
      "Generating embeddings:  76%|███████▌  | 962/1267 [02:14<00:31,  9.79it/s]"
     ]
    },
    {
     "name": "stdout",
     "output_type": "stream",
     "text": [
      "Transcript generated forENST00000290216.14\n",
      "Transcript generated forENST00000621465.5\n"
     ]
    },
    {
     "name": "stderr",
     "output_type": "stream",
     "text": [
      "Generating embeddings:  76%|███████▌  | 966/1267 [02:14<00:28, 10.53it/s]"
     ]
    },
    {
     "name": "stdout",
     "output_type": "stream",
     "text": [
      "Transcript generated forENST00000239165.9\n",
      "Transcript generated forENST00000393366.7\n",
      "Transcript generated forENST00000290330.7\n"
     ]
    },
    {
     "name": "stderr",
     "output_type": "stream",
     "text": [
      "Generating embeddings:  76%|███████▋  | 968/1267 [02:15<00:29, 10.25it/s]"
     ]
    },
    {
     "name": "stdout",
     "output_type": "stream",
     "text": [
      "Transcript generated forENST00000225969.9\n",
      "Transcript generated forENST00000393196.7\n"
     ]
    },
    {
     "name": "stderr",
     "output_type": "stream",
     "text": [
      "Generating embeddings:  77%|███████▋  | 970/1267 [02:15<00:32,  9.25it/s]"
     ]
    },
    {
     "name": "stdout",
     "output_type": "stream",
     "text": [
      "Transcript generated forENST00000225504.8\n",
      "Transcript generated forENST00000258975.7\n"
     ]
    },
    {
     "name": "stderr",
     "output_type": "stream",
     "text": [
      "Generating embeddings:  77%|███████▋  | 972/1267 [02:15<00:33,  8.86it/s]"
     ]
    },
    {
     "name": "stdout",
     "output_type": "stream",
     "text": [
      "Transcript generated forENST00000310144.11\n",
      "Transcript generated forENST00000412356.5\n"
     ]
    },
    {
     "name": "stderr",
     "output_type": "stream",
     "text": [
      "Generating embeddings:  77%|███████▋  | 974/1267 [02:15<00:31,  9.21it/s]"
     ]
    },
    {
     "name": "stdout",
     "output_type": "stream",
     "text": [
      "Transcript generated forENST00000449250.3\n",
      "Transcript generated forENST00000311111.11\n"
     ]
    },
    {
     "name": "stderr",
     "output_type": "stream",
     "text": [
      "Generating embeddings:  77%|███████▋  | 976/1267 [02:15<00:28, 10.15it/s]"
     ]
    },
    {
     "name": "stdout",
     "output_type": "stream",
     "text": [
      "Transcript generated forENST00000301585.10\n",
      "Transcript generated forENST00000301587.9\n",
      "Transcript generated forENST00000245552.7\n"
     ]
    },
    {
     "name": "stderr",
     "output_type": "stream",
     "text": [
      "Generating embeddings:  77%|███████▋  | 979/1267 [02:16<00:31,  9.22it/s]"
     ]
    },
    {
     "name": "stdout",
     "output_type": "stream",
     "text": [
      "Transcript generated forENST00000409753.8\n",
      "Transcript generated forENST00000245539.11\n"
     ]
    },
    {
     "name": "stderr",
     "output_type": "stream",
     "text": [
      "Generating embeddings:  77%|███████▋  | 981/1267 [02:16<00:38,  7.47it/s]"
     ]
    },
    {
     "name": "stdout",
     "output_type": "stream",
     "text": [
      "Transcript generated forENST00000325102.12\n",
      "Transcript generated forENST00000225614.6\n"
     ]
    },
    {
     "name": "stderr",
     "output_type": "stream",
     "text": [
      "Generating embeddings:  78%|███████▊  | 983/1267 [02:16<00:40,  6.94it/s]"
     ]
    },
    {
     "name": "stdout",
     "output_type": "stream",
     "text": [
      "Transcript generated forENST00000309352.4\n",
      "Transcript generated forENST00000327490.8\n"
     ]
    },
    {
     "name": "stderr",
     "output_type": "stream",
     "text": [
      "Generating embeddings:  78%|███████▊  | 985/1267 [02:17<00:39,  7.15it/s]"
     ]
    },
    {
     "name": "stdout",
     "output_type": "stream",
     "text": [
      "Transcript generated forENST00000615984.4\n",
      "Transcript generated forENST00000301634.12\n"
     ]
    },
    {
     "name": "stderr",
     "output_type": "stream",
     "text": [
      "Generating embeddings:  78%|███████▊  | 987/1267 [02:17<00:38,  7.23it/s]"
     ]
    },
    {
     "name": "stdout",
     "output_type": "stream",
     "text": [
      "Transcript generated forENST00000431388.3\n",
      "Transcript generated forENST00000374741.4\n"
     ]
    },
    {
     "name": "stderr",
     "output_type": "stream",
     "text": [
      "Generating embeddings:  78%|███████▊  | 989/1267 [02:17<00:34,  7.97it/s]"
     ]
    },
    {
     "name": "stdout",
     "output_type": "stream",
     "text": [
      "Transcript generated forENST00000622299.4\n",
      "Transcript generated forENST00000333676.8\n"
     ]
    },
    {
     "name": "stderr",
     "output_type": "stream",
     "text": [
      "Generating embeddings:  78%|███████▊  | 991/1267 [02:17<00:36,  7.57it/s]"
     ]
    },
    {
     "name": "stdout",
     "output_type": "stream",
     "text": [
      "Transcript generated forENST00000505490.3\n",
      "Transcript generated forENST00000575195.2\n"
     ]
    },
    {
     "name": "stderr",
     "output_type": "stream",
     "text": [
      "Generating embeddings:  78%|███████▊  | 993/1267 [02:18<00:32,  8.52it/s]"
     ]
    },
    {
     "name": "stdout",
     "output_type": "stream",
     "text": [
      "Transcript generated forENST00000392359.8\n",
      "Transcript generated forENST00000306897.9\n"
     ]
    },
    {
     "name": "stderr",
     "output_type": "stream",
     "text": [
      "Generating embeddings:  79%|███████▊  | 995/1267 [02:18<00:32,  8.44it/s]"
     ]
    },
    {
     "name": "stdout",
     "output_type": "stream",
     "text": [
      "Transcript generated forENST00000306869.7\n",
      "Transcript generated forENST00000300784.8\n"
     ]
    },
    {
     "name": "stderr",
     "output_type": "stream",
     "text": [
      "Generating embeddings:  79%|███████▊  | 997/1267 [02:18<00:40,  6.70it/s]"
     ]
    },
    {
     "name": "stdout",
     "output_type": "stream",
     "text": [
      "Transcript generated forENST00000320865.3\n",
      "Transcript generated forENST00000217652.7\n"
     ]
    },
    {
     "name": "stderr",
     "output_type": "stream",
     "text": [
      "Generating embeddings:  79%|███████▉  | 998/1267 [02:18<00:39,  6.89it/s]"
     ]
    },
    {
     "name": "stdout",
     "output_type": "stream",
     "text": [
      "Transcript generated forENST00000581193.5\n",
      "Transcript generated forENST00000318388.11\n"
     ]
    },
    {
     "name": "stderr",
     "output_type": "stream",
     "text": [
      "Generating embeddings:  79%|███████▉  | 1001/1267 [02:19<00:34,  7.74it/s]"
     ]
    },
    {
     "name": "stdout",
     "output_type": "stream",
     "text": [
      "Transcript generated forENST00000269159.8\n",
      "Transcript generated forENST00000317615.11\n",
      "Transcript generated forENST00000334598.11\n"
     ]
    },
    {
     "name": "stderr",
     "output_type": "stream",
     "text": [
      "Generating embeddings:  79%|███████▉  | 1005/1267 [02:19<00:26,  9.89it/s]"
     ]
    },
    {
     "name": "stdout",
     "output_type": "stream",
     "text": [
      "Transcript generated forENST00000282058.11\n",
      "Transcript generated forENST00000579408.5\n",
      "Transcript generated forENST00000587834.6\n"
     ]
    },
    {
     "name": "stderr",
     "output_type": "stream",
     "text": [
      "Generating embeddings:  79%|███████▉  | 1007/1267 [02:19<00:25, 10.36it/s]"
     ]
    },
    {
     "name": "stdout",
     "output_type": "stream",
     "text": [
      "Transcript generated forENST00000451882.3\n",
      "Transcript generated forENST00000359315.6\n"
     ]
    },
    {
     "name": "stderr",
     "output_type": "stream",
     "text": [
      "Generating embeddings:  80%|███████▉  | 1009/1267 [02:20<00:29,  8.66it/s]"
     ]
    },
    {
     "name": "stdout",
     "output_type": "stream",
     "text": [
      "Transcript generated forENST00000215574.9\n",
      "Transcript generated forENST00000327726.11\n"
     ]
    },
    {
     "name": "stderr",
     "output_type": "stream",
     "text": [
      "Generating embeddings:  80%|███████▉  | 1011/1267 [02:20<00:27,  9.22it/s]"
     ]
    },
    {
     "name": "stdout",
     "output_type": "stream",
     "text": [
      "Transcript generated forENST00000354171.13\n",
      "Transcript generated forENST00000215375.7\n",
      "Transcript generated forENST00000409293.6\n"
     ]
    },
    {
     "name": "stderr",
     "output_type": "stream",
     "text": [
      "Generating embeddings:  80%|████████  | 1015/1267 [02:20<00:23, 10.53it/s]"
     ]
    },
    {
     "name": "stdout",
     "output_type": "stream",
     "text": [
      "Transcript generated forENST00000233627.14\n",
      "Transcript generated forENST00000252288.8\n",
      "Transcript generated forENST00000592588.6\n"
     ]
    },
    {
     "name": "stderr",
     "output_type": "stream",
     "text": [
      "Generating embeddings:  80%|████████  | 1017/1267 [02:20<00:24, 10.01it/s]"
     ]
    },
    {
     "name": "stdout",
     "output_type": "stream",
     "text": [
      "Transcript generated forENST00000233596.8\n",
      "Transcript generated forENST00000602676.6\n"
     ]
    },
    {
     "name": "stderr",
     "output_type": "stream",
     "text": [
      "Generating embeddings:  80%|████████  | 1019/1267 [02:21<00:26,  9.24it/s]"
     ]
    },
    {
     "name": "stdout",
     "output_type": "stream",
     "text": [
      "Transcript generated forENST00000215631.9\n",
      "Transcript generated forENST00000269740.9\n",
      "Transcript generated forENST00000330133.5\n"
     ]
    },
    {
     "name": "stderr",
     "output_type": "stream",
     "text": [
      "Generating embeddings:  81%|████████  | 1021/1267 [02:21<00:25,  9.51it/s]"
     ]
    },
    {
     "name": "stdout",
     "output_type": "stream",
     "text": [
      "Transcript generated forENST00000262962.12\n",
      "Transcript generated forENST00000262947.8\n"
     ]
    },
    {
     "name": "stderr",
     "output_type": "stream",
     "text": [
      "Generating embeddings:  81%|████████  | 1024/1267 [02:21<00:26,  9.32it/s]"
     ]
    },
    {
     "name": "stdout",
     "output_type": "stream",
     "text": [
      "Transcript generated forENST00000577222.5\n",
      "Transcript generated forENST00000309324.8\n",
      "Transcript generated forENST00000308961.5\n"
     ]
    },
    {
     "name": "stderr",
     "output_type": "stream",
     "text": [
      "Generating embeddings:  81%|████████  | 1028/1267 [02:21<00:23, 10.27it/s]"
     ]
    },
    {
     "name": "stdout",
     "output_type": "stream",
     "text": [
      "Transcript generated forENST00000245812.8\n",
      "Transcript generated forENST00000245903.4\n",
      "Transcript generated forENST00000221480.6\n"
     ]
    },
    {
     "name": "stderr",
     "output_type": "stream",
     "text": [
      "Generating embeddings:  81%|████████▏ | 1030/1267 [02:22<00:22, 10.58it/s]"
     ]
    },
    {
     "name": "stdout",
     "output_type": "stream",
     "text": [
      "Transcript generated forENST00000594797.6\n",
      "Transcript generated forENST00000318978.6\n"
     ]
    },
    {
     "name": "stderr",
     "output_type": "stream",
     "text": [
      "Generating embeddings:  81%|████████▏ | 1032/1267 [02:22<00:25,  9.20it/s]"
     ]
    },
    {
     "name": "stdout",
     "output_type": "stream",
     "text": [
      "Transcript generated forENST00000301458.10\n",
      "Transcript generated forENST00000600659.3\n",
      "Transcript generated forENST00000358666.7\n"
     ]
    },
    {
     "name": "stderr",
     "output_type": "stream",
     "text": [
      "Generating embeddings:  82%|████████▏ | 1034/1267 [02:22<00:23, 10.08it/s]"
     ]
    },
    {
     "name": "stdout",
     "output_type": "stream",
     "text": [
      "Transcript generated forENST00000247970.9\n",
      "Transcript generated forENST00000253108.9\n"
     ]
    },
    {
     "name": "stderr",
     "output_type": "stream",
     "text": [
      "Generating embeddings:  82%|████████▏ | 1036/1267 [02:22<00:24,  9.60it/s]"
     ]
    },
    {
     "name": "stdout",
     "output_type": "stream",
     "text": [
      "Transcript generated forENST00000307422.9\n",
      "Transcript generated forENST00000250237.10\n"
     ]
    },
    {
     "name": "stderr",
     "output_type": "stream",
     "text": [
      "Generating embeddings:  82%|████████▏ | 1039/1267 [02:23<00:25,  8.87it/s]"
     ]
    },
    {
     "name": "stdout",
     "output_type": "stream",
     "text": [
      "Transcript generated forENST00000270502.7\n",
      "Transcript generated forENST00000354882.10\n"
     ]
    },
    {
     "name": "stderr",
     "output_type": "stream",
     "text": [
      "Generating embeddings:  82%|████████▏ | 1041/1267 [02:23<00:27,  8.35it/s]"
     ]
    },
    {
     "name": "stdout",
     "output_type": "stream",
     "text": [
      "Transcript generated forENST00000588790.5\n",
      "Transcript generated forENST00000252456.7\n"
     ]
    },
    {
     "name": "stderr",
     "output_type": "stream",
     "text": [
      "Generating embeddings:  82%|████████▏ | 1043/1267 [02:23<00:27,  8.29it/s]"
     ]
    },
    {
     "name": "stdout",
     "output_type": "stream",
     "text": [
      "Transcript generated forENST00000252445.7\n",
      "Transcript generated forENST00000418543.8\n"
     ]
    },
    {
     "name": "stderr",
     "output_type": "stream",
     "text": [
      "Generating embeddings:  82%|████████▏ | 1044/1267 [02:23<00:27,  8.20it/s]"
     ]
    },
    {
     "name": "stdout",
     "output_type": "stream",
     "text": [
      "Transcript generated forENST00000210060.12\n",
      "Transcript generated forENST00000242784.5\n"
     ]
    },
    {
     "name": "stderr",
     "output_type": "stream",
     "text": [
      "Generating embeddings:  83%|████████▎ | 1048/1267 [02:24<00:23,  9.21it/s]"
     ]
    },
    {
     "name": "stdout",
     "output_type": "stream",
     "text": [
      "Transcript generated forENST00000591090.5\n",
      "Transcript generated forENST00000301522.3\n",
      "Transcript generated forENST00000221486.6\n"
     ]
    },
    {
     "name": "stderr",
     "output_type": "stream",
     "text": [
      "Generating embeddings:  83%|████████▎ | 1050/1267 [02:24<00:24,  8.91it/s]"
     ]
    },
    {
     "name": "stdout",
     "output_type": "stream",
     "text": [
      "Transcript generated forENST00000293695.8\n",
      "Transcript generated forENST00000587230.6\n"
     ]
    },
    {
     "name": "stderr",
     "output_type": "stream",
     "text": [
      "Generating embeddings:  83%|████████▎ | 1052/1267 [02:24<00:23,  8.99it/s]"
     ]
    },
    {
     "name": "stdout",
     "output_type": "stream",
     "text": [
      "Transcript generated forENST00000588234.6\n",
      "Transcript generated forENST00000242776.9\n"
     ]
    },
    {
     "name": "stderr",
     "output_type": "stream",
     "text": [
      "Generating embeddings:  83%|████████▎ | 1055/1267 [02:25<00:23,  8.97it/s]"
     ]
    },
    {
     "name": "stdout",
     "output_type": "stream",
     "text": [
      "Transcript generated forENST00000215567.10\n",
      "Transcript generated forENST00000215565.3\n",
      "Transcript generated forENST00000263384.12\n"
     ]
    },
    {
     "name": "stderr",
     "output_type": "stream",
     "text": [
      "Generating embeddings:  84%|████████▎ | 1058/1267 [02:25<00:22,  9.49it/s]"
     ]
    },
    {
     "name": "stdout",
     "output_type": "stream",
     "text": [
      "Transcript generated forENST00000253669.10\n",
      "Transcript generated forENST00000263897.10\n",
      "Transcript generated forENST00000215061.9\n"
     ]
    },
    {
     "name": "stderr",
     "output_type": "stream",
     "text": [
      "Generating embeddings:  84%|████████▎ | 1061/1267 [02:25<00:21,  9.63it/s]"
     ]
    },
    {
     "name": "stdout",
     "output_type": "stream",
     "text": [
      "Transcript generated forENST00000359435.8\n",
      "Transcript generated forENST00000252602.1\n",
      "Transcript generated forENST00000252593.7\n"
     ]
    },
    {
     "name": "stderr",
     "output_type": "stream",
     "text": [
      "Generating embeddings:  84%|████████▍ | 1064/1267 [02:25<00:19, 10.26it/s]"
     ]
    },
    {
     "name": "stdout",
     "output_type": "stream",
     "text": [
      "Transcript generated forENST00000317040.12\n",
      "Transcript generated forENST00000252603.7\n",
      "Transcript generated forENST00000222247.10\n"
     ]
    },
    {
     "name": "stderr",
     "output_type": "stream",
     "text": [
      "Generating embeddings:  84%|████████▍ | 1066/1267 [02:26<00:21,  9.45it/s]"
     ]
    },
    {
     "name": "stdout",
     "output_type": "stream",
     "text": [
      "Transcript generated forENST00000597436.5\n",
      "Transcript generated forENST00000222256.9\n"
     ]
    },
    {
     "name": "stderr",
     "output_type": "stream",
     "text": [
      "Generating embeddings:  84%|████████▍ | 1069/1267 [02:26<00:20,  9.74it/s]"
     ]
    },
    {
     "name": "stdout",
     "output_type": "stream",
     "text": [
      "Transcript generated forENST00000252809.3\n",
      "Transcript generated forENST00000450195.6\n",
      "Transcript generated forENST00000262812.9\n"
     ]
    },
    {
     "name": "stderr",
     "output_type": "stream",
     "text": [
      "Generating embeddings:  85%|████████▍ | 1071/1267 [02:26<00:20,  9.53it/s]"
     ]
    },
    {
     "name": "stdout",
     "output_type": "stream",
     "text": [
      "Transcript generated forENST00000462790.8\n",
      "Transcript generated forENST00000303088.9\n"
     ]
    },
    {
     "name": "stderr",
     "output_type": "stream",
     "text": [
      "Generating embeddings:  85%|████████▍ | 1074/1267 [02:26<00:17, 10.95it/s]"
     ]
    },
    {
     "name": "stdout",
     "output_type": "stream",
     "text": [
      "Transcript generated forENST00000331552.12\n",
      "Transcript generated forENST00000507754.9\n",
      "Transcript generated forENST00000590247.7\n"
     ]
    },
    {
     "name": "stderr",
     "output_type": "stream",
     "text": [
      "Generating embeddings:  85%|████████▍ | 1076/1267 [02:27<00:17, 10.63it/s]"
     ]
    },
    {
     "name": "stdout",
     "output_type": "stream",
     "text": [
      "Transcript generated forENST00000246535.4\n",
      "Transcript generated forENST00000222284.10\n",
      "Transcript generated forENST00000592141.6\n"
     ]
    },
    {
     "name": "stderr",
     "output_type": "stream",
     "text": [
      "Generating embeddings:  85%|████████▌ | 1080/1267 [02:27<00:18,  9.92it/s]"
     ]
    },
    {
     "name": "stdout",
     "output_type": "stream",
     "text": [
      "Transcript generated forENST00000587708.7\n",
      "Transcript generated forENST00000378887.3\n",
      "Transcript generated forENST00000252984.11\n"
     ]
    },
    {
     "name": "stderr",
     "output_type": "stream",
     "text": [
      "Generating embeddings:  85%|████████▌ | 1082/1267 [02:27<00:21,  8.59it/s]"
     ]
    },
    {
     "name": "stdout",
     "output_type": "stream",
     "text": [
      "Transcript generated forENST00000292894.2\n",
      "Transcript generated forENST00000221855.8\n"
     ]
    },
    {
     "name": "stderr",
     "output_type": "stream",
     "text": [
      "Generating embeddings:  85%|████████▌ | 1083/1267 [02:28<00:23,  7.93it/s]"
     ]
    },
    {
     "name": "stdout",
     "output_type": "stream",
     "text": [
      "Transcript generated forENST00000588815.5\n",
      "Transcript generated forENST00000301242.9\n"
     ]
    },
    {
     "name": "stderr",
     "output_type": "stream",
     "text": [
      "Generating embeddings:  86%|████████▌ | 1087/1267 [02:28<00:20,  8.92it/s]"
     ]
    },
    {
     "name": "stdout",
     "output_type": "stream",
     "text": [
      "Transcript generated forENST00000252530.9\n",
      "Transcript generated forENST00000248342.9\n",
      "Transcript generated forENST00000221418.9\n"
     ]
    },
    {
     "name": "stderr",
     "output_type": "stream",
     "text": [
      "Generating embeddings:  86%|████████▌ | 1089/1267 [02:28<00:22,  7.83it/s]"
     ]
    },
    {
     "name": "stdout",
     "output_type": "stream",
     "text": [
      "Transcript generated forENST00000313582.6\n",
      "Transcript generated forENST00000407800.2\n"
     ]
    },
    {
     "name": "stderr",
     "output_type": "stream",
     "text": [
      "Generating embeddings:  86%|████████▌ | 1091/1267 [02:29<00:21,  8.13it/s]"
     ]
    },
    {
     "name": "stdout",
     "output_type": "stream",
     "text": [
      "Transcript generated forENST00000251453.8\n",
      "Transcript generated forENST00000390658.4\n"
     ]
    },
    {
     "name": "stderr",
     "output_type": "stream",
     "text": [
      "Generating embeddings:  86%|████████▌ | 1092/1267 [02:29<00:21,  8.29it/s]"
     ]
    },
    {
     "name": "stdout",
     "output_type": "stream",
     "text": [
      "Transcript generated forENST00000221801.8\n",
      "Transcript generated forENST00000263368.9\n"
     ]
    },
    {
     "name": "stderr",
     "output_type": "stream",
     "text": [
      "Generating embeddings:  86%|████████▋ | 1095/1267 [02:29<00:20,  8.55it/s]"
     ]
    },
    {
     "name": "stdout",
     "output_type": "stream",
     "text": [
      "Transcript generated forENST00000243563.8\n",
      "Transcript generated forENST00000243578.8\n"
     ]
    },
    {
     "name": "stderr",
     "output_type": "stream",
     "text": [
      "Generating embeddings:  87%|████████▋ | 1097/1267 [02:29<00:21,  7.75it/s]"
     ]
    },
    {
     "name": "stdout",
     "output_type": "stream",
     "text": [
      "Transcript generated forENST00000221233.9\n",
      "Transcript generated forENST00000222008.11\n"
     ]
    },
    {
     "name": "stderr",
     "output_type": "stream",
     "text": [
      "Generating embeddings:  87%|████████▋ | 1100/1267 [02:30<00:18,  8.81it/s]"
     ]
    },
    {
     "name": "stdout",
     "output_type": "stream",
     "text": [
      "Transcript generated forENST00000538771.5\n",
      "Transcript generated forENST00000222032.10\n",
      "Transcript generated forENST00000292147.7\n"
     ]
    },
    {
     "name": "stderr",
     "output_type": "stream",
     "text": [
      "Generating embeddings:  87%|████████▋ | 1102/1267 [02:30<00:21,  7.54it/s]"
     ]
    },
    {
     "name": "stdout",
     "output_type": "stream",
     "text": [
      "Transcript generated forENST00000300811.8\n",
      "Transcript generated forENST00000340093.8\n"
     ]
    },
    {
     "name": "stderr",
     "output_type": "stream",
     "text": [
      "Generating embeddings:  87%|████████▋ | 1105/1267 [02:30<00:19,  8.43it/s]"
     ]
    },
    {
     "name": "stdout",
     "output_type": "stream",
     "text": [
      "Transcript generated forENST00000252486.9\n",
      "Transcript generated forENST00000588750.5\n",
      "Transcript generated forENST00000585934.1\n"
     ]
    },
    {
     "name": "stderr",
     "output_type": "stream",
     "text": [
      "Generating embeddings:  87%|████████▋ | 1107/1267 [02:30<00:18,  8.52it/s]"
     ]
    },
    {
     "name": "stdout",
     "output_type": "stream",
     "text": [
      "Transcript generated forENST00000430715.6\n",
      "Transcript generated forENST00000342669.7\n",
      "Transcript generated forENST00000263270.11\n"
     ]
    },
    {
     "name": "stderr",
     "output_type": "stream",
     "text": [
      "Generating embeddings:  88%|████████▊ | 1111/1267 [02:31<00:14, 10.57it/s]"
     ]
    },
    {
     "name": "stdout",
     "output_type": "stream",
     "text": [
      "Transcript generated forENST00000253047.7\n",
      "Transcript generated forENST00000552360.4\n",
      "Transcript generated forENST00000601048.6\n"
     ]
    },
    {
     "name": "stderr",
     "output_type": "stream",
     "text": [
      "Generating embeddings:  88%|████████▊ | 1113/1267 [02:31<00:13, 11.69it/s]"
     ]
    },
    {
     "name": "stdout",
     "output_type": "stream",
     "text": [
      "Transcript generated forENST00000597279.5\n",
      "Transcript generated forENST00000549920.6\n",
      "Transcript generated forENST00000263278.9\n"
     ]
    },
    {
     "name": "stderr",
     "output_type": "stream",
     "text": [
      "Generating embeddings:  88%|████████▊ | 1117/1267 [02:31<00:12, 11.97it/s]"
     ]
    },
    {
     "name": "stdout",
     "output_type": "stream",
     "text": [
      "Transcript generated forENST00000345358.12\n",
      "Transcript generated forENST00000331825.11\n",
      "Transcript generated forENST00000221459.7\n"
     ]
    },
    {
     "name": "stderr",
     "output_type": "stream",
     "text": [
      "Generating embeddings:  88%|████████▊ | 1119/1267 [02:31<00:13, 11.12it/s]"
     ]
    },
    {
     "name": "stdout",
     "output_type": "stream",
     "text": [
      "Transcript generated forENST00000262265.10\n",
      "Transcript generated forENST00000391857.9\n",
      "Transcript generated forENST00000270625.7\n"
     ]
    },
    {
     "name": "stderr",
     "output_type": "stream",
     "text": [
      "Generating embeddings:  88%|████████▊ | 1121/1267 [02:32<00:13, 10.56it/s]"
     ]
    },
    {
     "name": "stdout",
     "output_type": "stream",
     "text": [
      "Transcript generated forENST00000270645.8\n",
      "Transcript generated forENST00000596358.6\n"
     ]
    },
    {
     "name": "stderr",
     "output_type": "stream",
     "text": [
      "Generating embeddings:  89%|████████▊ | 1124/1267 [02:32<00:15,  9.04it/s]"
     ]
    },
    {
     "name": "stdout",
     "output_type": "stream",
     "text": [
      "Transcript generated forENST00000246792.4\n",
      "Transcript generated forENST00000391851.8\n"
     ]
    },
    {
     "name": "stderr",
     "output_type": "stream",
     "text": [
      "Generating embeddings:  89%|████████▉ | 1125/1267 [02:32<00:16,  8.73it/s]"
     ]
    },
    {
     "name": "stdout",
     "output_type": "stream",
     "text": [
      "Transcript generated forENST00000600100.6\n",
      "Transcript generated forENST00000598418.6\n"
     ]
    },
    {
     "name": "stderr",
     "output_type": "stream",
     "text": [
      "Generating embeddings:  89%|████████▉ | 1129/1267 [02:33<00:13,  9.97it/s]"
     ]
    },
    {
     "name": "stdout",
     "output_type": "stream",
     "text": [
      "Transcript generated forENST00000250340.9\n",
      "Transcript generated forENST00000309244.9\n",
      "Transcript generated forENST00000485876.6\n"
     ]
    },
    {
     "name": "stderr",
     "output_type": "stream",
     "text": [
      "Generating embeddings:  89%|████████▉ | 1131/1267 [02:33<00:14,  9.55it/s]"
     ]
    },
    {
     "name": "stdout",
     "output_type": "stream",
     "text": [
      "Transcript generated forENST00000391759.5\n",
      "Transcript generated forENST00000222224.4\n",
      "Transcript generated forENST00000391752.5\n"
     ]
    },
    {
     "name": "stderr",
     "output_type": "stream",
     "text": [
      "Generating embeddings:  90%|████████▉ | 1135/1267 [02:33<00:12, 10.86it/s]"
     ]
    },
    {
     "name": "stdout",
     "output_type": "stream",
     "text": [
      "Transcript generated forENST00000587758.5\n",
      "Transcript generated forENST00000344887.10\n",
      "Transcript generated forENST00000444469.4\n"
     ]
    },
    {
     "name": "stderr",
     "output_type": "stream",
     "text": [
      "Generating embeddings:  90%|████████▉ | 1137/1267 [02:33<00:12, 10.32it/s]"
     ]
    },
    {
     "name": "stdout",
     "output_type": "stream",
     "text": [
      "Transcript generated forENST00000425675.7\n",
      "Transcript generated forENST00000205194.5\n"
     ]
    },
    {
     "name": "stderr",
     "output_type": "stream",
     "text": [
      "Generating embeddings:  90%|████████▉ | 1139/1267 [02:34<00:13,  9.47it/s]"
     ]
    },
    {
     "name": "stdout",
     "output_type": "stream",
     "text": [
      "Transcript generated forENST00000591046.1\n",
      "Transcript generated forENST00000587252.5\n"
     ]
    },
    {
     "name": "stderr",
     "output_type": "stream",
     "text": [
      "Generating embeddings:  90%|█████████ | 1141/1267 [02:34<00:13,  9.35it/s]"
     ]
    },
    {
     "name": "stdout",
     "output_type": "stream",
     "text": [
      "Transcript generated forENST00000600118.5\n",
      "Transcript generated forENST00000253023.8\n"
     ]
    },
    {
     "name": "stderr",
     "output_type": "stream",
     "text": [
      "Generating embeddings:  90%|█████████ | 1142/1267 [02:34<00:13,  9.47it/s]"
     ]
    },
    {
     "name": "stdout",
     "output_type": "stream",
     "text": [
      "Transcript generated forENST00000381342.7\n",
      "Transcript generated forENST00000380325.4\n"
     ]
    },
    {
     "name": "stderr",
     "output_type": "stream",
     "text": [
      "Generating embeddings:  90%|█████████ | 1144/1267 [02:34<00:12,  9.50it/s]"
     ]
    },
    {
     "name": "stdout",
     "output_type": "stream",
     "text": [
      "Transcript generated forENST00000354488.8\n",
      "Transcript generated forENST00000380113.8\n"
     ]
    },
    {
     "name": "stderr",
     "output_type": "stream",
     "text": [
      "Generating embeddings:  91%|█████████ | 1147/1267 [02:35<00:14,  8.16it/s]"
     ]
    },
    {
     "name": "stdout",
     "output_type": "stream",
     "text": [
      "Transcript generated forENST00000379160.3\n",
      "Transcript generated forENST00000432901.4\n"
     ]
    },
    {
     "name": "stderr",
     "output_type": "stream",
     "text": [
      "Generating embeddings:  91%|█████████ | 1149/1267 [02:35<00:14,  7.92it/s]"
     ]
    },
    {
     "name": "stdout",
     "output_type": "stream",
     "text": [
      "Transcript generated forENST00000334982.9\n",
      "Transcript generated forENST00000254998.3\n",
      "Transcript generated forENST00000394552.3\n"
     ]
    },
    {
     "name": "stderr",
     "output_type": "stream",
     "text": [
      "Generating embeddings:  91%|█████████ | 1151/1267 [02:35<00:11,  9.70it/s]"
     ]
    },
    {
     "name": "stdout",
     "output_type": "stream",
     "text": [
      "Transcript generated forENST00000357156.6\n",
      "Transcript generated forENST00000360668.8\n"
     ]
    },
    {
     "name": "stderr",
     "output_type": "stream",
     "text": [
      "Generating embeddings:  91%|█████████ | 1154/1267 [02:35<00:12,  9.22it/s]"
     ]
    },
    {
     "name": "stdout",
     "output_type": "stream",
     "text": [
      "Transcript generated forENST00000216968.5\n",
      "Transcript generated forENST00000374436.7\n"
     ]
    },
    {
     "name": "stderr",
     "output_type": "stream",
     "text": [
      "Generating embeddings:  91%|█████████ | 1155/1267 [02:35<00:12,  8.93it/s]"
     ]
    },
    {
     "name": "stdout",
     "output_type": "stream",
     "text": [
      "Transcript generated forENST00000348547.6\n",
      "Transcript generated forENST00000344795.8\n"
     ]
    },
    {
     "name": "stderr",
     "output_type": "stream",
     "text": [
      "Generating embeddings:  91%|█████████▏| 1158/1267 [02:36<00:12,  8.51it/s]"
     ]
    },
    {
     "name": "stdout",
     "output_type": "stream",
     "text": [
      "Transcript generated forENST00000372889.5\n",
      "Transcript generated forENST00000372874.9\n",
      "Transcript generated forENST00000338380.2\n"
     ]
    },
    {
     "name": "stderr",
     "output_type": "stream",
     "text": [
      "Generating embeddings:  92%|█████████▏| 1160/1267 [02:36<00:10, 10.14it/s]"
     ]
    },
    {
     "name": "stdout",
     "output_type": "stream",
     "text": [
      "Transcript generated forENST00000356455.9\n",
      "Transcript generated forENST00000217455.9\n"
     ]
    },
    {
     "name": "stderr",
     "output_type": "stream",
     "text": [
      "Generating embeddings:  92%|█████████▏| 1163/1267 [02:36<00:10,  9.55it/s]"
     ]
    },
    {
     "name": "stdout",
     "output_type": "stream",
     "text": [
      "Transcript generated forENST00000358791.9\n",
      "Transcript generated forENST00000371588.9\n"
     ]
    },
    {
     "name": "stderr",
     "output_type": "stream",
     "text": [
      "Generating embeddings:  92%|█████████▏| 1165/1267 [02:37<00:11,  8.67it/s]"
     ]
    },
    {
     "name": "stdout",
     "output_type": "stream",
     "text": [
      "Transcript generated forENST00000371419.7\n",
      "Transcript generated forENST00000370873.9\n"
     ]
    },
    {
     "name": "stderr",
     "output_type": "stream",
     "text": [
      "Generating embeddings:  92%|█████████▏| 1167/1267 [02:37<00:10,  9.15it/s]"
     ]
    },
    {
     "name": "stdout",
     "output_type": "stream",
     "text": [
      "Transcript generated forENST00000370179.8\n",
      "Transcript generated forENST00000348354.7\n"
     ]
    },
    {
     "name": "stderr",
     "output_type": "stream",
     "text": [
      "Generating embeddings:  92%|█████████▏| 1169/1267 [02:37<00:10,  9.21it/s]"
     ]
    },
    {
     "name": "stdout",
     "output_type": "stream",
     "text": [
      "Transcript generated forENST00000352957.9\n",
      "Transcript generated forENST00000400093.3\n"
     ]
    },
    {
     "name": "stderr",
     "output_type": "stream",
     "text": [
      "Generating embeddings:  92%|█████████▏| 1171/1267 [02:37<00:09,  9.88it/s]"
     ]
    },
    {
     "name": "stdout",
     "output_type": "stream",
     "text": [
      "Transcript generated forENST00000270142.11\n",
      "Transcript generated forENST00000290299.7\n",
      "Transcript generated forENST00000399312.3\n"
     ]
    },
    {
     "name": "stderr",
     "output_type": "stream",
     "text": [
      "Generating embeddings:  93%|█████████▎| 1173/1267 [02:37<00:09,  9.93it/s]"
     ]
    },
    {
     "name": "stdout",
     "output_type": "stream",
     "text": [
      "Transcript generated forENST00000290349.11\n",
      "Transcript generated forENST00000290354.6\n"
     ]
    },
    {
     "name": "stderr",
     "output_type": "stream",
     "text": [
      "Generating embeddings:  93%|█████████▎| 1177/1267 [02:38<00:08, 10.86it/s]"
     ]
    },
    {
     "name": "stdout",
     "output_type": "stream",
     "text": [
      "Transcript generated forENST00000380749.10\n",
      "Transcript generated forENST00000291568.7\n",
      "Transcript generated forENST00000397826.7\n"
     ]
    },
    {
     "name": "stderr",
     "output_type": "stream",
     "text": [
      "Generating embeddings:  93%|█████████▎| 1179/1267 [02:38<00:08, 10.19it/s]"
     ]
    },
    {
     "name": "stdout",
     "output_type": "stream",
     "text": [
      "Transcript generated forENST00000329319.7\n",
      "Transcript generated forENST00000253413.10\n"
     ]
    },
    {
     "name": "stderr",
     "output_type": "stream",
     "text": [
      "Generating embeddings:  93%|█████████▎| 1181/1267 [02:38<00:09,  9.11it/s]"
     ]
    },
    {
     "name": "stdout",
     "output_type": "stream",
     "text": [
      "Transcript generated forENST00000333059.5\n",
      "Transcript generated forENST00000333130.3\n"
     ]
    },
    {
     "name": "stderr",
     "output_type": "stream",
     "text": [
      "Generating embeddings:  93%|█████████▎| 1183/1267 [02:38<00:09,  8.55it/s]"
     ]
    },
    {
     "name": "stdout",
     "output_type": "stream",
     "text": [
      "Transcript generated forENST00000430524.6\n",
      "Transcript generated forENST00000248879.8\n"
     ]
    },
    {
     "name": "stderr",
     "output_type": "stream",
     "text": [
      "Generating embeddings:  94%|█████████▎| 1185/1267 [02:39<00:10,  7.57it/s]"
     ]
    },
    {
     "name": "stdout",
     "output_type": "stream",
     "text": [
      "Transcript generated forENST00000292778.11\n",
      "Transcript generated forENST00000248958.5\n"
     ]
    },
    {
     "name": "stderr",
     "output_type": "stream",
     "text": [
      "Generating embeddings:  94%|█████████▍| 1188/1267 [02:39<00:08,  8.95it/s]"
     ]
    },
    {
     "name": "stdout",
     "output_type": "stream",
     "text": [
      "Transcript generated forENST00000484558.3\n",
      "Transcript generated forENST00000215754.8\n",
      "Transcript generated forENST00000290765.8\n"
     ]
    },
    {
     "name": "stderr",
     "output_type": "stream",
     "text": [
      "Generating embeddings:  94%|█████████▍| 1190/1267 [02:39<00:08,  8.68it/s]"
     ]
    },
    {
     "name": "stdout",
     "output_type": "stream",
     "text": [
      "Transcript generated forENST00000318753.13\n",
      "Transcript generated forENST00000651629.1\n"
     ]
    },
    {
     "name": "stderr",
     "output_type": "stream",
     "text": [
      "Generating embeddings:  94%|█████████▍| 1192/1267 [02:39<00:08,  8.79it/s]"
     ]
    },
    {
     "name": "stdout",
     "output_type": "stream",
     "text": [
      "Transcript generated forENST00000216027.8\n",
      "Transcript generated forENST00000344318.4\n"
     ]
    },
    {
     "name": "stderr",
     "output_type": "stream",
     "text": [
      "Generating embeddings:  94%|█████████▍| 1194/1267 [02:40<00:08,  8.91it/s]"
     ]
    },
    {
     "name": "stdout",
     "output_type": "stream",
     "text": [
      "Transcript generated forENST00000330029.6\n",
      "Transcript generated forENST00000266263.10\n"
     ]
    },
    {
     "name": "stderr",
     "output_type": "stream",
     "text": [
      "Generating embeddings:  94%|█████████▍| 1196/1267 [02:40<00:08,  8.39it/s]"
     ]
    },
    {
     "name": "stdout",
     "output_type": "stream",
     "text": [
      "Transcript generated forENST00000402395.5\n",
      "Transcript generated forENST00000216185.7\n"
     ]
    },
    {
     "name": "stderr",
     "output_type": "stream",
     "text": [
      "Generating embeddings:  95%|█████████▍| 1198/1267 [02:40<00:08,  7.89it/s]"
     ]
    },
    {
     "name": "stdout",
     "output_type": "stream",
     "text": [
      "Transcript generated forENST00000433985.7\n",
      "Transcript generated forENST00000249071.11\n"
     ]
    },
    {
     "name": "stderr",
     "output_type": "stream",
     "text": [
      "Generating embeddings:  95%|█████████▍| 1200/1267 [02:40<00:08,  8.25it/s]"
     ]
    },
    {
     "name": "stdout",
     "output_type": "stream",
     "text": [
      "Transcript generated forENST00000215909.10\n",
      "Transcript generated forENST00000248924.10\n"
     ]
    },
    {
     "name": "stderr",
     "output_type": "stream",
     "text": [
      "Generating embeddings:  95%|█████████▍| 1201/1267 [02:41<00:08,  8.17it/s]"
     ]
    },
    {
     "name": "stdout",
     "output_type": "stream",
     "text": [
      "Transcript generated forENST00000396811.6\n"
     ]
    },
    {
     "name": "stderr",
     "output_type": "stream",
     "text": [
      "Generating embeddings:  95%|█████████▍| 1203/1267 [02:41<00:09,  6.98it/s]"
     ]
    },
    {
     "name": "stdout",
     "output_type": "stream",
     "text": [
      "Transcript generated forENST00000216068.9\n",
      "Transcript generated forENST00000216146.9\n"
     ]
    },
    {
     "name": "stderr",
     "output_type": "stream",
     "text": [
      "Generating embeddings:  95%|█████████▌| 1205/1267 [02:41<00:07,  7.89it/s]"
     ]
    },
    {
     "name": "stdout",
     "output_type": "stream",
     "text": [
      "Transcript generated forENST00000334678.8\n",
      "Transcript generated forENST00000216225.9\n"
     ]
    },
    {
     "name": "stderr",
     "output_type": "stream",
     "text": [
      "Generating embeddings:  95%|█████████▌| 1207/1267 [02:41<00:07,  8.25it/s]"
     ]
    },
    {
     "name": "stdout",
     "output_type": "stream",
     "text": [
      "Transcript generated forENST00000216252.4\n",
      "Transcript generated forENST00000216259.8\n"
     ]
    },
    {
     "name": "stderr",
     "output_type": "stream",
     "text": [
      "Generating embeddings:  95%|█████████▌| 1209/1267 [02:42<00:07,  8.27it/s]"
     ]
    },
    {
     "name": "stdout",
     "output_type": "stream",
     "text": [
      "Transcript generated forENST00000401959.6\n",
      "Transcript generated forENST00000255784.5\n"
     ]
    },
    {
     "name": "stderr",
     "output_type": "stream",
     "text": [
      "Generating embeddings:  96%|█████████▌| 1211/1267 [02:42<00:06,  8.70it/s]"
     ]
    },
    {
     "name": "stdout",
     "output_type": "stream",
     "text": [
      "Transcript generated forENST00000215980.10\n",
      "Transcript generated forENST00000498737.8\n"
     ]
    },
    {
     "name": "stderr",
     "output_type": "stream",
     "text": [
      "Generating embeddings:  96%|█████████▌| 1213/1267 [02:42<00:06,  8.95it/s]"
     ]
    },
    {
     "name": "stdout",
     "output_type": "stream",
     "text": [
      "Transcript generated forENST00000216115.3\n",
      "Transcript generated forENST00000396265.4\n"
     ]
    },
    {
     "name": "stderr",
     "output_type": "stream",
     "text": [
      "Generating embeddings:  96%|█████████▌| 1215/1267 [02:42<00:07,  7.29it/s]"
     ]
    },
    {
     "name": "stdout",
     "output_type": "stream",
     "text": [
      "Transcript generated forENST00000614167.2\n",
      "Transcript generated forENST00000314567.8\n"
     ]
    },
    {
     "name": "stderr",
     "output_type": "stream",
     "text": [
      "Generating embeddings:  96%|█████████▌| 1217/1267 [02:43<00:07,  7.05it/s]"
     ]
    },
    {
     "name": "stdout",
     "output_type": "stream",
     "text": [
      "Transcript generated forENST00000407217.7\n",
      "Transcript generated forENST00000406938.3\n"
     ]
    },
    {
     "name": "stderr",
     "output_type": "stream",
     "text": [
      "Generating embeddings:  96%|█████████▌| 1219/1267 [02:43<00:06,  7.60it/s]"
     ]
    },
    {
     "name": "stdout",
     "output_type": "stream",
     "text": [
      "Transcript generated forENST00000381401.11\n",
      "Transcript generated forENST00000381192.10\n"
     ]
    },
    {
     "name": "stderr",
     "output_type": "stream",
     "text": [
      "Generating embeddings:  96%|█████████▋| 1222/1267 [02:43<00:05,  8.59it/s]"
     ]
    },
    {
     "name": "stdout",
     "output_type": "stream",
     "text": [
      "Transcript generated forENST00000307771.7\n",
      "Transcript generated forENST00000379341.9\n",
      "Transcript generated forENST00000379270.4\n"
     ]
    },
    {
     "name": "stderr",
     "output_type": "stream",
     "text": [
      "Generating embeddings:  97%|█████████▋| 1224/1267 [02:43<00:04,  8.87it/s]"
     ]
    },
    {
     "name": "stdout",
     "output_type": "stream",
     "text": [
      "Transcript generated forENST00000379226.9\n",
      "Transcript generated forENST00000378045.5\n"
     ]
    },
    {
     "name": "stderr",
     "output_type": "stream",
     "text": [
      "Generating embeddings:  97%|█████████▋| 1227/1267 [02:44<00:03, 10.44it/s]"
     ]
    },
    {
     "name": "stdout",
     "output_type": "stream",
     "text": [
      "Transcript generated forENST00000377811.3\n",
      "Transcript generated forENST00000218388.9\n",
      "Transcript generated forENST00000333119.7\n"
     ]
    },
    {
     "name": "stderr",
     "output_type": "stream",
     "text": [
      "Generating embeddings:  97%|█████████▋| 1229/1267 [02:44<00:03, 10.18it/s]"
     ]
    },
    {
     "name": "stdout",
     "output_type": "stream",
     "text": [
      "Transcript generated forENST00000495186.6\n",
      "Transcript generated forENST00000218230.6\n",
      "Transcript generated forENST00000376582.7\n"
     ]
    },
    {
     "name": "stderr",
     "output_type": "stream",
     "text": [
      "Generating embeddings:  97%|█████████▋| 1232/1267 [02:44<00:03,  9.32it/s]"
     ]
    },
    {
     "name": "stdout",
     "output_type": "stream",
     "text": [
      "Transcript generated forENST00000247138.11\n",
      "Transcript generated forENST00000553851.3\n"
     ]
    },
    {
     "name": "stderr",
     "output_type": "stream",
     "text": [
      "Generating embeddings:  97%|█████████▋| 1234/1267 [02:45<00:03,  8.86it/s]"
     ]
    },
    {
     "name": "stdout",
     "output_type": "stream",
     "text": [
      "Transcript generated forENST00000168216.11\n",
      "Transcript generated forENST00000425133.2\n"
     ]
    },
    {
     "name": "stderr",
     "output_type": "stream",
     "text": [
      "Generating embeddings:  98%|█████████▊| 1237/1267 [02:45<00:03,  8.97it/s]"
     ]
    },
    {
     "name": "stdout",
     "output_type": "stream",
     "text": [
      "Transcript generated forENST00000342972.3\n",
      "Transcript generated forENST00000239666.8\n",
      "Transcript generated forENST00000373669.8\n"
     ]
    },
    {
     "name": "stderr",
     "output_type": "stream",
     "text": [
      "Generating embeddings:  98%|█████████▊| 1240/1267 [02:45<00:02,  9.12it/s]"
     ]
    },
    {
     "name": "stdout",
     "output_type": "stream",
     "text": [
      "Transcript generated forENST00000316084.10\n",
      "Transcript generated forENST00000453707.6\n",
      "Transcript generated forENST00000373358.8\n"
     ]
    },
    {
     "name": "stderr",
     "output_type": "stream",
     "text": [
      "Generating embeddings:  98%|█████████▊| 1242/1267 [02:45<00:02,  8.95it/s]"
     ]
    },
    {
     "name": "stdout",
     "output_type": "stream",
     "text": [
      "Transcript generated forENST00000372902.4\n",
      "Transcript generated forENST00000218516.4\n",
      "Transcript generated forENST00000289373.5\n"
     ]
    },
    {
     "name": "stderr",
     "output_type": "stream",
     "text": [
      "Generating embeddings:  98%|█████████▊| 1244/1267 [02:46<00:02, 10.42it/s]"
     ]
    },
    {
     "name": "stdout",
     "output_type": "stream",
     "text": [
      "Transcript generated forENST00000372728.4\n",
      "Transcript generated forENST00000372695.6\n"
     ]
    },
    {
     "name": "stderr",
     "output_type": "stream",
     "text": [
      "Generating embeddings:  99%|█████████▊| 1248/1267 [02:46<00:01, 10.45it/s]"
     ]
    },
    {
     "name": "stdout",
     "output_type": "stream",
     "text": [
      "Transcript generated forENST00000372685.8\n",
      "Transcript generated forENST00000372677.7\n",
      "Transcript generated forENST00000372645.3\n"
     ]
    },
    {
     "name": "stderr",
     "output_type": "stream",
     "text": [
      "Generating embeddings:  99%|█████████▊| 1250/1267 [02:46<00:01,  9.92it/s]"
     ]
    },
    {
     "name": "stdout",
     "output_type": "stream",
     "text": [
      "Transcript generated forENST00000613326.4\n",
      "Transcript generated forENST00000372628.5\n"
     ]
    },
    {
     "name": "stderr",
     "output_type": "stream",
     "text": [
      "Generating embeddings:  99%|█████████▉| 1252/1267 [02:46<00:01,  9.26it/s]"
     ]
    },
    {
     "name": "stdout",
     "output_type": "stream",
     "text": [
      "Transcript generated forENST00000372625.8\n",
      "Transcript generated forENST00000217958.8\n"
     ]
    },
    {
     "name": "stderr",
     "output_type": "stream",
     "text": [
      "Generating embeddings:  99%|█████████▉| 1254/1267 [02:47<00:01,  8.31it/s]"
     ]
    },
    {
     "name": "stdout",
     "output_type": "stream",
     "text": [
      "Transcript generated forENST00000317881.9\n",
      "Transcript generated forENST00000371442.4\n"
     ]
    },
    {
     "name": "stderr",
     "output_type": "stream",
     "text": [
      "Generating embeddings:  99%|█████████▉| 1256/1267 [02:47<00:01,  8.48it/s]"
     ]
    },
    {
     "name": "stdout",
     "output_type": "stream",
     "text": [
      "Transcript generated forENST00000298556.8\n",
      "Transcript generated forENST00000493333.5\n"
     ]
    },
    {
     "name": "stderr",
     "output_type": "stream",
     "text": [
      "Generating embeddings:  99%|█████████▉| 1258/1267 [02:47<00:01,  8.47it/s]"
     ]
    },
    {
     "name": "stdout",
     "output_type": "stream",
     "text": [
      "Transcript generated forENST00000330288.6\n",
      "Transcript generated forENST00000257013.9\n"
     ]
    },
    {
     "name": "stderr",
     "output_type": "stream",
     "text": [
      "Generating embeddings:  99%|█████████▉| 1260/1267 [02:47<00:00,  8.29it/s]"
     ]
    },
    {
     "name": "stdout",
     "output_type": "stream",
     "text": [
      "Transcript generated forENST00000370775.2\n",
      "Transcript generated forENST00000370277.5\n"
     ]
    },
    {
     "name": "stderr",
     "output_type": "stream",
     "text": [
      "Generating embeddings: 100%|█████████▉| 1262/1267 [02:48<00:00,  8.21it/s]"
     ]
    },
    {
     "name": "stdout",
     "output_type": "stream",
     "text": [
      "Transcript generated forENST00000576892.8\n",
      "Transcript generated forENST00000217901.10\n"
     ]
    },
    {
     "name": "stderr",
     "output_type": "stream",
     "text": [
      "Generating embeddings: 100%|█████████▉| 1264/1267 [02:48<00:00,  7.83it/s]"
     ]
    },
    {
     "name": "stdout",
     "output_type": "stream",
     "text": [
      "Transcript generated forENST00000393700.8\n",
      "Transcript generated forENST00000369982.5\n"
     ]
    },
    {
     "name": "stderr",
     "output_type": "stream",
     "text": [
      "Generating embeddings: 100%|█████████▉| 1266/1267 [02:48<00:00,  8.01it/s]"
     ]
    },
    {
     "name": "stdout",
     "output_type": "stream",
     "text": [
      "Transcript generated forENST00000369842.9\n",
      "Transcript generated forENST00000393600.8\n"
     ]
    },
    {
     "name": "stderr",
     "output_type": "stream",
     "text": [
      "Generating embeddings: 100%|██████████| 1267/1267 [02:48<00:00,  7.51it/s]"
     ]
    },
    {
     "name": "stdout",
     "output_type": "stream",
     "text": [
      "Transcript generated forENST00000357360.4\n"
     ]
    },
    {
     "name": "stderr",
     "output_type": "stream",
     "text": [
      "\n"
     ]
    }
   ],
   "source": [
    "from tqdm import tqdm\n",
    "embedding_means = []\n",
    "embedding_maxs = []\n",
    "transcript_ids = []\n",
    "\n",
    "# Loop over all sequences\n",
    "for idx, row in tqdm(df_filtered.iterrows(), total=len(df_filtered), desc=\"Generating embeddings\"):\n",
    "    transcript_id = row['transcript_id']\n",
    "    dna_sequence = row['tx_sequence']\n",
    "\n",
    "    with torch.no_grad():  # No gradients needed\n",
    "        inputs = tokenizer(dna_sequence, return_tensors='pt')[\"input_ids\"]\n",
    "        hidden_states = model(inputs)[0]  # [1, sequence_length, 768]\n",
    "\n",
    "        # Mean pooling\n",
    "        embedding_mean = torch.mean(hidden_states[0], dim=0)  # [768]\n",
    "        \n",
    "        # Max pooling\n",
    "        embedding_max = torch.max(hidden_states[0], dim=0)[0]  # [768]\n",
    "\n",
    "    # Save to lists\n",
    "    transcript_ids.append(transcript_id)\n",
    "    embedding_means.append(embedding_mean.cpu().numpy())\n",
    "    embedding_maxs.append(embedding_max.cpu().numpy())\n",
    "\n",
    "    print(f\"Transcript generated for {transcript_id}\")\n",
    "\n",
    "\n",
    "# Create a new DataFrame\n",
    "embeddings_df = pd.DataFrame({\n",
    "    'transcript_id': transcript_ids,\n",
    "    'embedding_mean': embedding_means,\n",
    "    'embedding_max': embedding_maxs\n",
    "})\n",
    "\n",
    "# Save to a file (e.g., a CSV or a pickle file)\n",
    "embeddings_df.to_pickle('transcript_embeddings.pkl')"
   ]
  },
  {
   "cell_type": "code",
   "execution_count": null,
   "metadata": {},
   "outputs": [],
   "source": []
  }
 ],
 "metadata": {
  "kernelspec": {
   "display_name": "Python 3",
   "language": "python",
   "name": "python3"
  },
  "language_info": {
   "codemirror_mode": {
    "name": "ipython",
    "version": 3
   },
   "file_extension": ".py",
   "mimetype": "text/x-python",
   "name": "python",
   "nbconvert_exporter": "python",
   "pygments_lexer": "ipython3",
   "version": "3.10.16"
  }
 },
 "nbformat": 4,
 "nbformat_minor": 2
}
